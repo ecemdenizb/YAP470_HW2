{
 "cells": [
  {
   "cell_type": "code",
   "execution_count": 1,
   "id": "6401df4d-9317-4e31-98da-c95ae0db7483",
   "metadata": {},
   "outputs": [],
   "source": [
    "import numpy as np\n",
    "import pandas as pd    "
   ]
  },
  {
   "cell_type": "code",
   "execution_count": 2,
   "id": "32e2bb22-b417-48a0-8622-bc2daf5414e3",
   "metadata": {},
   "outputs": [],
   "source": [
    "def relu(x):\n",
    "    return np.maximum(0,x)"
   ]
  },
  {
   "cell_type": "code",
   "execution_count": 3,
   "id": "3974b969-c130-4d61-835b-1b48779cf843",
   "metadata": {},
   "outputs": [],
   "source": [
    "def deriv_relu(x):\n",
    "    der=list()\n",
    "    der.clear()\n",
    "    for val in x:\n",
    "        if val>0:\n",
    "            der.append(1)\n",
    "        else:\n",
    "            der.append(0)\n",
    "    return der"
   ]
  },
  {
   "cell_type": "code",
   "execution_count": 4,
   "id": "341f82fb-4fd2-4633-b3d9-083c122d8a92",
   "metadata": {},
   "outputs": [],
   "source": [
    "def initialize(x, neuron_num1, neuron_num2):\n",
    "    np.random.seed(12345)\n",
    "    w1=2*np.random.random((len(x.columns), neuron_num1))-1\n",
    "    w2=2*np.random.random((neuron_num1, neuron_num2))-1\n",
    "    w3=2*np.random.random((neuron_num2, 1))-1\n",
    "    bias1=2*np.random.random()-1\n",
    "    bias2=2*np.random.random()-1\n",
    "    bias3=2*np.random.random()-1\n",
    "    return w1, w2, w3, bias1, bias2, bias3"
   ]
  },
  {
   "cell_type": "code",
   "execution_count": 5,
   "id": "68e8da3c-d98e-4bf6-9742-b2766bad81c8",
   "metadata": {},
   "outputs": [],
   "source": [
    "def forward_prop(w1, w2, w3, bias1, bias2, bias3, x):\n",
    "    x=x.reshape(13,1)\n",
    "    z1=np.dot(w1.T,x)+bias1\n",
    "    out1=relu(z1)\n",
    "    z2=np.dot(w2.T,out1)+bias2\n",
    "    out2=relu(z2) \n",
    "    z3=np.dot(w3.T,out2)+bias3\n",
    "    out3=relu(z3)\n",
    "    return z1, out1, z2, out2, z3, out3 "
   ]
  },
  {
   "cell_type": "code",
   "execution_count": 6,
   "id": "12e89975-2aa6-4325-8dba-dbdda0ad279c",
   "metadata": {},
   "outputs": [],
   "source": [
    "def back_prop(w1, w2, w3, bias1, bias2, bias3, x, y, z1, out1, z2, out2, z3, out3, lr):\n",
    "    x=x.reshape(13,1)\n",
    "    \n",
    "    err_3=2*(np.subtract(out3.sum(axis=0), y))\n",
    "    dummy_3=np.array(deriv_relu(z3)).reshape(len(z3),1)\n",
    "    dc_dw3=lr*np.dot(out2,dummy_3)*err_3\n",
    "    w3=np.subtract(w3,dc_dw3)\n",
    "    dc_db3=lr*err_3\n",
    "    bias3-=dc_db3\n",
    "    \n",
    "    \n",
    "    err_2=2*(np.subtract(out2.sum(axis=0), y)) # karenin turevi oldugu icin 2*(y_pred-y_act)\n",
    "    dummy_2=np.array(deriv_relu(z2)).reshape(len(z2),1)\n",
    "    dc_dw2=lr*np.dot(out1,dummy_2.T)*err_2\n",
    "    w2=np.subtract(w2,dc_dw2)\n",
    "    dc_db2=lr*err_2\n",
    "    bias2-=dc_db2\n",
    "\n",
    "    err_1= 2*(np.subtract(out1.sum(axis=0), y))\n",
    "    dummy_1=np.array(deriv_relu(z1)).reshape(len(z1),1)\n",
    "    dc_dw1=lr*np.dot(x,dummy_1.T)*err_1\n",
    "    w1=np.subtract(w1,dc_dw1)\n",
    "    dc_db1=lr*err_1\n",
    "    bias1-=dc_db1\n",
    "    return w1, w2, w3, bias1, bias2, bias3"
   ]
  },
  {
   "cell_type": "code",
   "execution_count": 7,
   "id": "804904bb-3b2d-440d-8f7a-8c6e9941a0ab",
   "metadata": {},
   "outputs": [],
   "source": [
    "pd.set_option(\"display.max_rows\", None,\n",
    "             \"display.max_columns\", None)"
   ]
  },
  {
   "cell_type": "code",
   "execution_count": 8,
   "id": "da6d8609-582c-4bbb-a28d-1dc01f19c760",
   "metadata": {},
   "outputs": [],
   "source": [
    "columns=(\"CRIM\",\"ZN\", \"INDUS\", \"CHAS\", \"NOX\", \"RM\", \"AGE\", \"DIS\", \"RAD\", \"TAX\", \"PTRATIO\", \"B\", \"LSTAT\", \"MEDV\")"
   ]
  },
  {
   "cell_type": "code",
   "execution_count": 9,
   "id": "a9ce2662-b50f-4fba-aac4-b687367c4dd2",
   "metadata": {},
   "outputs": [],
   "source": [
    "ds=pd.read_csv(\"/Users/ecemdenizbabaoglan/Desktop/TOBBETU/yap470/housing.csv\", sep='\\s+', engine='python', names=columns)"
   ]
  },
  {
   "cell_type": "code",
   "execution_count": 10,
   "id": "5274e5c3-1be4-456a-b1c8-654b3c8f0f8a",
   "metadata": {},
   "outputs": [],
   "source": [
    "target=ds.loc[:,'MEDV'].copy()\n",
    "data=ds.drop('MEDV', axis=1).copy()"
   ]
  },
  {
   "cell_type": "code",
   "execution_count": 11,
   "id": "be316773-0e74-4e0d-8941-025ce47c8874",
   "metadata": {},
   "outputs": [],
   "source": [
    "neuron_num1=7\n",
    "neuron_num2=7"
   ]
  },
  {
   "cell_type": "code",
   "execution_count": 12,
   "id": "37b551ba-6b7a-4d58-b570-7ef06d5d78b7",
   "metadata": {},
   "outputs": [],
   "source": [
    "w1, w2, w3, bias1, bias2, bias3 = initialize(data, neuron_num1, neuron_num2)"
   ]
  },
  {
   "cell_type": "code",
   "execution_count": 13,
   "id": "01c05337-719f-4608-bbd6-5a03bead6f7a",
   "metadata": {},
   "outputs": [],
   "source": [
    "data_normalized = ((data - data.mean()) / data.std(ddof=0)).to_numpy()\n",
    "target=target.to_numpy()"
   ]
  },
  {
   "cell_type": "code",
   "execution_count": 14,
   "id": "b04d0ca1-fcd8-410a-bdb6-c351c8665829",
   "metadata": {},
   "outputs": [],
   "source": [
    "cutoff = int(len(data) * 0.8)\n",
    "x_train, x_test = data_normalized[:cutoff], data_normalized[cutoff:]\n",
    "y_train, y_test = target[:cutoff], target[cutoff:]"
   ]
  },
  {
   "cell_type": "code",
   "execution_count": 15,
   "id": "83d8e783-d406-4c14-b84e-bcd586d19265",
   "metadata": {},
   "outputs": [],
   "source": [
    "epochs=100\n",
    "lr=0.0001"
   ]
  },
  {
   "cell_type": "code",
   "execution_count": 16,
   "id": "1ccc3144-0b6f-419e-bc0f-db60268a2602",
   "metadata": {},
   "outputs": [],
   "source": [
    "train_loss_epoch=list()\n",
    "test_loss_epoch=list()"
   ]
  },
  {
   "cell_type": "code",
   "execution_count": 17,
   "id": "ed71ff6d-e235-45ea-ada2-8f76f7ffa28a",
   "metadata": {},
   "outputs": [],
   "source": [
    "for e in range(epochs):\n",
    "    loss_train=0\n",
    "    loss_test=0\n",
    "    for i in range(len(y_train)):   \n",
    "        z1, out1, z2, out2, z3, out3= forward_prop(w1, w2, w3, bias1, bias2, bias3, x_train[i])\n",
    "        w1, w2, w3, bias1, bias2, bias3 = back_prop(w1, w2, w3, bias1, bias2, bias3, x_train[i], y_train[i], z1,\n",
    "                                                    out1, z2, out2, z3, out3, lr)\n",
    "        loss_train+=np.square(y_train[i]-(out3.sum(axis=0)))\n",
    "        \n",
    "    train_loss_epoch.append(loss_train/(len(y_train)))\n",
    "         \n",
    "    for i in range(len(y_test)):\n",
    "        z_test1, out_test1, z_test2, out_test2, z_test3, out_test3=forward_prop(w1, w2, w3, bias1, bias2, bias3, x_test[i])\n",
    "        loss_test+=np.square(y_test[i]-(out_test3.sum(axis=0)))\n",
    "\n",
    "    test_loss_epoch.append(loss_test/(len(y_test)))"
   ]
  },
  {
   "cell_type": "code",
   "execution_count": 22,
   "id": "d1aeba8b-0d5d-4381-aa17-731d1d22df7c",
   "metadata": {},
   "outputs": [
    {
     "name": "stdout",
     "output_type": "stream",
     "text": [
      "[array([184.93480392]), array([54.89597727]), array([46.64908999]), array([41.54408493]), array([37.25447415]), array([34.56096027]), array([32.48450095]), array([31.21621985]), array([30.04371557]), array([29.03763162]), array([27.95276319]), array([27.12046716]), array([26.60708779]), array([26.21800994]), array([25.74652102]), array([25.22387118]), array([24.85360127]), array([24.59489657]), array([24.31380105]), array([23.95392756]), array([23.76776115]), array([23.45059691]), array([23.13734204]), array([22.75299516]), array([22.38259488]), array([21.96631951]), array([21.54820028]), array([21.15623299]), array([20.71702485]), array([20.36176466]), array([20.0343004]), array([19.80558092]), array([19.53236088]), array([19.353936]), array([19.13052153]), array([18.92860766]), array([18.80607189]), array([18.80618005]), array([18.6458804]), array([18.55487235]), array([18.49725936]), array([18.45602725]), array([18.39033528]), array([18.32964872]), array([18.28693721]), array([18.58443842]), array([18.47571299]), array([18.52328647]), array([18.54677689]), array([18.56496743]), array([18.65687797]), array([18.91592111]), array([19.0685667]), array([19.05189783]), array([19.26599503]), array([19.70321242]), array([19.81710035]), array([19.939743]), array([19.99417598]), array([20.0310842]), array([20.09332824]), array([20.03044017]), array([20.22626929]), array([20.26532529]), array([20.4173575]), array([20.37719583]), array([20.46048338]), array([20.34931537]), array([20.27093197]), array([20.22422104]), array([20.47903122]), array([20.37746861]), array([20.25572535]), array([20.30447609]), array([20.45011277]), array([20.36432555]), array([20.40186707]), array([20.15165632]), array([20.1503318]), array([20.39357658]), array([20.7104792]), array([20.94135476]), array([21.01056505]), array([21.49701502]), array([21.44479455]), array([21.92766231]), array([21.75899688]), array([22.11108765]), array([22.37767898]), array([22.15607768]), array([22.62704084]), array([22.38135932]), array([22.72895719]), array([22.9773436]), array([23.27381006]), array([23.36694737]), array([23.39951739]), array([23.45395773]), array([23.70129545]), array([23.66423286])]\n"
     ]
    }
   ],
   "source": [
    "print(test_loss_epoch)"
   ]
  },
  {
   "cell_type": "code",
   "execution_count": 18,
   "id": "9dfc0cee-e377-440f-ba23-917a2e75a534",
   "metadata": {},
   "outputs": [],
   "source": [
    "#for i in range(len(y_train)):\n",
    "   # print(y_train[i], output[i].sum(axis=0))\n",
    "#    loss+=(y_train[i]-(output3[i].sum(axis=0)))\n",
    "#print(loss/(len(y_train)))"
   ]
  },
  {
   "cell_type": "code",
   "execution_count": 19,
   "id": "8319e8c2-b1ed-4dac-96ac-0a30a00c4473",
   "metadata": {},
   "outputs": [],
   "source": [
    "#for i in range(len(y_train)):\n",
    "#    print(y_train[i], output3[i])"
   ]
  },
  {
   "cell_type": "code",
   "execution_count": 20,
   "id": "eae140cf-98b4-4f58-8205-7bb185006608",
   "metadata": {},
   "outputs": [],
   "source": [
    "#out_test=list()\n",
    "#for i in range(len(y_test)): \n",
    "#    z_test1, out_test1, z_test2, out_test2, z_test3, out_test3=forward_prop(w1, w2, w3, bias1, bias2, bias3, x_test[i])\n",
    "#    out_test.append(out_test3)\n",
    "#    loss_test+=(y_test[i]-(out_test[i].sum(axis=0)))\n",
    "#print(loss_test/(len(y_test)))"
   ]
  },
  {
   "cell_type": "code",
   "execution_count": 21,
   "id": "590f0be4-8f64-46a4-bd93-657c990d33aa",
   "metadata": {},
   "outputs": [],
   "source": [
    "#for i in range(len(y_test)):\n",
    "#    print(y_test[i], out_test[i])"
   ]
  }
 ],
 "metadata": {
  "kernelspec": {
   "display_name": "Python 3 (ipykernel)",
   "language": "python",
   "name": "python3"
  },
  "language_info": {
   "codemirror_mode": {
    "name": "ipython",
    "version": 3
   },
   "file_extension": ".py",
   "mimetype": "text/x-python",
   "name": "python",
   "nbconvert_exporter": "python",
   "pygments_lexer": "ipython3",
   "version": "3.9.12"
  }
 },
 "nbformat": 4,
 "nbformat_minor": 5
}
