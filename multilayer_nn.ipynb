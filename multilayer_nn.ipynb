{
 "cells": [
  {
   "cell_type": "code",
   "execution_count": 1,
   "id": "6401df4d-9317-4e31-98da-c95ae0db7483",
   "metadata": {},
   "outputs": [],
   "source": [
    "import numpy as np\n",
    "import pandas as pd    "
   ]
  },
  {
   "cell_type": "code",
   "execution_count": 2,
   "id": "4a9b63c5-e444-4a23-9ff5-ee3c594f25d6",
   "metadata": {},
   "outputs": [],
   "source": [
    "from sklearn.preprocessing import StandardScaler"
   ]
  },
  {
   "cell_type": "code",
   "execution_count": 3,
   "id": "32e2bb22-b417-48a0-8622-bc2daf5414e3",
   "metadata": {},
   "outputs": [],
   "source": [
    "def relu(x):\n",
    "    return np.maximum(0,x)"
   ]
  },
  {
   "cell_type": "code",
   "execution_count": 4,
   "id": "3974b969-c130-4d61-835b-1b48779cf843",
   "metadata": {},
   "outputs": [],
   "source": [
    "def deriv_relu(x):\n",
    "    der=list()\n",
    "    der.clear()\n",
    "    for val in x:\n",
    "        if val>0:\n",
    "            der.append(1)\n",
    "        else:\n",
    "            der.append(0)\n",
    "    return der"
   ]
  },
  {
   "cell_type": "code",
   "execution_count": 5,
   "id": "341f82fb-4fd2-4633-b3d9-083c122d8a92",
   "metadata": {},
   "outputs": [],
   "source": [
    "def initialize(x, neuron_num1, neuron_num2):\n",
    "    np.random.seed(12345)\n",
    "    w1=2*np.random.random((len(x.columns), neuron_num1))-1\n",
    "    w2=2*np.random.random((neuron_num1, neuron_num2))-1\n",
    "    w3=2*np.random.random((neuron_num2, 1))-1\n",
    "    bias1=2*np.random.random()-1\n",
    "    bias2=2*np.random.random()-1\n",
    "    bias3=2*np.random.random()-1\n",
    "    return w1, w2, w3, bias1, bias2, bias3"
   ]
  },
  {
   "cell_type": "code",
   "execution_count": 6,
   "id": "68e8da3c-d98e-4bf6-9742-b2766bad81c8",
   "metadata": {},
   "outputs": [],
   "source": [
    "def forward_prop(w1, w2, w3, bias1, bias2, bias3, x):\n",
    "    x=x.reshape(13,1)\n",
    "    z1=np.dot(w1.T,x)+bias1\n",
    "    out1=relu(z1)\n",
    "    z2=np.dot(w2.T,out1)+bias2\n",
    "    out2=relu(z2) \n",
    "    z3=np.dot(w3.T,out2)+bias3\n",
    "    out3=relu(z3)\n",
    "    return z1, out1, z2, out2, z3, out3 "
   ]
  },
  {
   "cell_type": "code",
   "execution_count": 7,
   "id": "12e89975-2aa6-4325-8dba-dbdda0ad279c",
   "metadata": {},
   "outputs": [],
   "source": [
    "def back_prop(w1, w2, w3, bias1, bias2, bias3, x, y, z1, out1, z2, out2, z3, out3, lr, j):\n",
    "    x=x.reshape(13,1)\n",
    "    \n",
    "    err_3=2*(np.subtract(out3.sum(axis=0), y))\n",
    "    dummy_3=np.array(deriv_relu(z3)).reshape(len(z3),1)\n",
    "    dc_dw3=lr*np.dot(out2,dummy_3)*err_3\n",
    "    w3=np.subtract(w3,dc_dw3)\n",
    "    dc_db3=lr*err_3\n",
    "    bias3-=dc_db3\n",
    "    \n",
    "    \n",
    "    err_2=2*(np.subtract(out2.sum(axis=0), y)) # karenin turevi oldugu icin 2*(y_pred-y_act)\n",
    "    dummy_2=np.array(deriv_relu(z2)).reshape(len(z2),1)\n",
    "    dc_dw2=lr*np.dot(out1,dummy_2.T)*err_2\n",
    "    w2=np.subtract(w2,dc_dw2)\n",
    "    dc_db2=lr*err_2\n",
    "    bias2-=dc_db2\n",
    "\n",
    "    err_1= 2*(np.subtract(out1.sum(axis=0), y))\n",
    "    dummy_1=np.array(deriv_relu(z1)).reshape(len(z1),1)\n",
    "    dc_dw1=lr*np.dot(x,dummy_1.T)*err_1\n",
    "    w1=np.subtract(w1,dc_dw1)\n",
    "    dc_db1=lr*err_1\n",
    "    bias1-=dc_db1\n",
    "    return w1, w2, w3, bias1, bias2, bias3"
   ]
  },
  {
   "cell_type": "code",
   "execution_count": 8,
   "id": "804904bb-3b2d-440d-8f7a-8c6e9941a0ab",
   "metadata": {},
   "outputs": [],
   "source": [
    "pd.set_option(\"display.max_rows\", None,\n",
    "             \"display.max_columns\", None)"
   ]
  },
  {
   "cell_type": "code",
   "execution_count": 9,
   "id": "da6d8609-582c-4bbb-a28d-1dc01f19c760",
   "metadata": {},
   "outputs": [],
   "source": [
    "columns=(\"CRIM\",\"ZN\", \"INDUS\", \"CHAS\", \"NOX\", \"RM\", \"AGE\", \"DIS\", \"RAD\", \"TAX\", \"PTRATIO\", \"B\", \"LSTAT\", \"MEDV\")"
   ]
  },
  {
   "cell_type": "code",
   "execution_count": 10,
   "id": "a9ce2662-b50f-4fba-aac4-b687367c4dd2",
   "metadata": {},
   "outputs": [],
   "source": [
    "ds=pd.read_csv(\"/Users/ecemdenizbabaoglan/Desktop/TOBBETU/yap470/housing.csv\", sep='\\s+', engine='python', names=columns)"
   ]
  },
  {
   "cell_type": "code",
   "execution_count": 11,
   "id": "5274e5c3-1be4-456a-b1c8-654b3c8f0f8a",
   "metadata": {},
   "outputs": [],
   "source": [
    "target=ds.loc[:,'MEDV'].copy()\n",
    "data=ds.drop('MEDV', axis=1).copy()"
   ]
  },
  {
   "cell_type": "code",
   "execution_count": 12,
   "id": "be316773-0e74-4e0d-8941-025ce47c8874",
   "metadata": {},
   "outputs": [],
   "source": [
    "neuron_num1=7\n",
    "neuron_num2=7"
   ]
  },
  {
   "cell_type": "code",
   "execution_count": 13,
   "id": "cb03488e-2e94-47fa-ad7a-55df38c43965",
   "metadata": {},
   "outputs": [],
   "source": [
    "#data_normalized=(data.to_numpy()-min(data.to_numpy()))/(max(data.to_numpy())-min(data.to_numpy()))"
   ]
  },
  {
   "cell_type": "code",
   "execution_count": 14,
   "id": "37b551ba-6b7a-4d58-b570-7ef06d5d78b7",
   "metadata": {},
   "outputs": [],
   "source": [
    "w1, w2, w3, bias1, bias2, bias3 = initialize(data, neuron_num1, neuron_num2)"
   ]
  },
  {
   "cell_type": "code",
   "execution_count": 15,
   "id": "01c05337-719f-4608-bbd6-5a03bead6f7a",
   "metadata": {},
   "outputs": [],
   "source": [
    "data_normalized = ((data - data.mean()) / data.std(ddof=0)).to_numpy()\n",
    "target=target.to_numpy()"
   ]
  },
  {
   "cell_type": "code",
   "execution_count": 16,
   "id": "b04d0ca1-fcd8-410a-bdb6-c351c8665829",
   "metadata": {},
   "outputs": [],
   "source": [
    "cutoff = int(len(data) * 0.8)\n",
    "x_train, x_test = data_normalized[:cutoff], data_normalized[cutoff:]\n",
    "y_train, y_test = target[:cutoff], target[cutoff:]"
   ]
  },
  {
   "cell_type": "code",
   "execution_count": 17,
   "id": "83d8e783-d406-4c14-b84e-bcd586d19265",
   "metadata": {},
   "outputs": [],
   "source": [
    "epochs=100\n",
    "lr=0.0001"
   ]
  },
  {
   "cell_type": "code",
   "execution_count": 18,
   "id": "1ccc3144-0b6f-419e-bc0f-db60268a2602",
   "metadata": {},
   "outputs": [],
   "source": [
    "output1=list()\n",
    "output2=list()\n",
    "output3=list()\n",
    "z_1=list()\n",
    "z_2=list()\n",
    "z_3=list()\n",
    "loss=0\n",
    "loss_test=0"
   ]
  },
  {
   "cell_type": "code",
   "execution_count": 19,
   "id": "ed71ff6d-e235-45ea-ada2-8f76f7ffa28a",
   "metadata": {},
   "outputs": [],
   "source": [
    "for e in range(epochs):\n",
    "    output1.clear()\n",
    "    output2.clear()\n",
    "    output3.clear()\n",
    "    z_1.clear()\n",
    "    z_2.clear()\n",
    "    z_3.clear()\n",
    "    errors=0\n",
    "    for i in range(len(y_train)):   \n",
    "        z1, out1, z2, out2, z3, out3= forward_prop(w1, w2, w3, bias1, bias2, bias3, x_train[i])\n",
    "        output1.append(out1)\n",
    "        output2.append(out2)\n",
    "        output3.append(out3)\n",
    "        z_1.append(z1)\n",
    "        z_2.append(z2)\n",
    "        z_3.append(z3)\n",
    "       # predicted[i]=output[i].sum(axis=0)\n",
    "        w1, w2, w3, bias1, bias2, bias3 = back_prop(w1, w2, w3, bias1, bias2, bias3, x_train[i], y_train[i], z_1[i],\n",
    "                                                    output1[i], z_2[i], output2[i], z_3[i], output3[i], lr, i+1)"
   ]
  },
  {
   "cell_type": "code",
   "execution_count": 20,
   "id": "43a5e1bd-7b6b-4f47-b2b3-838af286d805",
   "metadata": {},
   "outputs": [
    {
     "name": "stdout",
     "output_type": "stream",
     "text": [
      "(13, 7)\n"
     ]
    }
   ],
   "source": [
    "print(w1.shape)"
   ]
  },
  {
   "cell_type": "code",
   "execution_count": 21,
   "id": "7ae3b1fc-ab04-4abd-9395-071e298d6626",
   "metadata": {},
   "outputs": [
    {
     "name": "stdout",
     "output_type": "stream",
     "text": [
      "(7, 7)\n"
     ]
    }
   ],
   "source": [
    "print(w2.shape)"
   ]
  },
  {
   "cell_type": "code",
   "execution_count": 22,
   "id": "126384b8-5836-4a4f-834e-ce0bf0118014",
   "metadata": {},
   "outputs": [
    {
     "name": "stdout",
     "output_type": "stream",
     "text": [
      "(7, 1)\n"
     ]
    }
   ],
   "source": [
    "print(w3.shape)"
   ]
  },
  {
   "cell_type": "code",
   "execution_count": 23,
   "id": "9dfc0cee-e377-440f-ba23-917a2e75a534",
   "metadata": {},
   "outputs": [
    {
     "name": "stdout",
     "output_type": "stream",
     "text": [
      "[-0.08725909]\n"
     ]
    }
   ],
   "source": [
    "for i in range(len(y_train)):\n",
    "   # print(y_train[i], output[i].sum(axis=0))\n",
    "    loss+=(y_train[i]-(output3[i].sum(axis=0)))\n",
    "print(loss/(len(y_train)))"
   ]
  },
  {
   "cell_type": "code",
   "execution_count": 24,
   "id": "8319e8c2-b1ed-4dac-96ac-0a30a00c4473",
   "metadata": {},
   "outputs": [],
   "source": [
    "#for i in range(len(y_train)):\n",
    "#    print(y_train[i], output3[i])"
   ]
  },
  {
   "cell_type": "code",
   "execution_count": 25,
   "id": "eae140cf-98b4-4f58-8205-7bb185006608",
   "metadata": {},
   "outputs": [
    {
     "name": "stdout",
     "output_type": "stream",
     "text": [
      "[-0.67854131]\n"
     ]
    }
   ],
   "source": [
    "out_test=list()\n",
    "for i in range(len(y_test)): \n",
    "    z_test1, out_test1, z_test2, out_test2, z_test3, out_test3=forward_prop(w1, w2, w3, bias1, bias2, bias3, x_test[i])\n",
    "    out_test.append(out_test3)\n",
    "    loss_test+=(y_test[i]-(out_test[i].sum(axis=0)))\n",
    "print(loss_test/(len(y_test)))"
   ]
  },
  {
   "cell_type": "code",
   "execution_count": 26,
   "id": "590f0be4-8f64-46a4-bd93-657c990d33aa",
   "metadata": {},
   "outputs": [
    {
     "name": "stdout",
     "output_type": "stream",
     "text": [
      "8.5 [[6.12801415]]\n",
      "5.0 [[5.64605856]]\n",
      "11.9 [[14.30623683]]\n",
      "27.9 [[21.89054987]]\n",
      "17.2 [[11.09049336]]\n",
      "27.5 [[14.51694213]]\n",
      "15.0 [[13.84544741]]\n",
      "17.2 [[12.45622665]]\n",
      "17.9 [[9.14685193]]\n",
      "16.3 [[8.52921589]]\n",
      "7.0 [[8.3866253]]\n",
      "7.2 [[7.04358473]]\n",
      "7.5 [[10.59816852]]\n",
      "10.4 [[7.37656298]]\n",
      "8.8 [[7.53897525]]\n",
      "8.4 [[11.56737947]]\n",
      "16.7 [[16.65644579]]\n",
      "14.2 [[17.09517649]]\n",
      "20.8 [[17.51917167]]\n",
      "13.4 [[8.64085024]]\n",
      "11.7 [[13.50627053]]\n",
      "8.3 [[7.33936734]]\n",
      "10.2 [[13.85476267]]\n",
      "10.9 [[11.46164295]]\n",
      "11.0 [[9.56696746]]\n",
      "9.5 [[8.92944828]]\n",
      "14.5 [[15.13750303]]\n",
      "14.1 [[14.28471235]]\n",
      "16.1 [[21.8358383]]\n",
      "14.3 [[14.70034038]]\n",
      "11.7 [[13.33800681]]\n",
      "13.4 [[10.10228714]]\n",
      "9.6 [[11.9678726]]\n",
      "8.7 [[6.77241541]]\n",
      "8.4 [[6.90833345]]\n",
      "12.8 [[10.48427395]]\n",
      "10.5 [[7.36803843]]\n",
      "17.1 [[12.04477888]]\n",
      "18.4 [[18.81969894]]\n",
      "15.4 [[13.07117355]]\n",
      "10.8 [[7.50620927]]\n",
      "11.8 [[8.93362706]]\n",
      "14.9 [[14.37058748]]\n",
      "12.6 [[14.68302301]]\n",
      "14.1 [[13.57984114]]\n",
      "13.0 [[12.86699613]]\n",
      "13.4 [[14.79029728]]\n",
      "15.2 [[16.42601349]]\n",
      "16.1 [[17.75030666]]\n",
      "17.8 [[19.19924601]]\n",
      "14.9 [[13.37883435]]\n",
      "14.1 [[12.90952056]]\n",
      "12.7 [[9.54464327]]\n",
      "13.5 [[9.92330837]]\n",
      "14.9 [[13.87989092]]\n",
      "20.0 [[20.5399206]]\n",
      "16.4 [[16.77409167]]\n",
      "17.7 [[24.00739544]]\n",
      "19.5 [[22.22154606]]\n",
      "20.2 [[29.16485755]]\n",
      "21.4 [[23.7148831]]\n",
      "19.9 [[24.61017466]]\n",
      "19.0 [[12.69247233]]\n",
      "19.1 [[13.31704776]]\n",
      "19.1 [[11.75266662]]\n",
      "20.1 [[17.55143984]]\n",
      "19.9 [[21.23025026]]\n",
      "19.6 [[27.89099349]]\n",
      "23.2 [[26.4345117]]\n",
      "29.8 [[30.89247301]]\n",
      "13.8 [[15.94567161]]\n",
      "13.3 [[10.7255076]]\n",
      "16.7 [[18.08994047]]\n",
      "12.0 [[9.19725004]]\n",
      "14.6 [[15.54810647]]\n",
      "21.4 [[19.74541354]]\n",
      "23.0 [[30.7944336]]\n",
      "23.7 [[35.85244954]]\n",
      "25.0 [[36.96546004]]\n",
      "21.8 [[33.97850456]]\n",
      "20.6 [[28.79740295]]\n",
      "21.2 [[31.24023376]]\n",
      "19.1 [[20.77222568]]\n",
      "20.6 [[31.0409422]]\n",
      "15.2 [[17.32070726]]\n",
      "7.0 [[14.84376739]]\n",
      "8.1 [[14.1025487]]\n",
      "13.6 [[16.49565127]]\n",
      "20.1 [[21.84706601]]\n",
      "21.8 [[23.70834326]]\n",
      "24.5 [[19.20156078]]\n",
      "23.1 [[16.23926944]]\n",
      "19.7 [[15.51612832]]\n",
      "18.3 [[18.744812]]\n",
      "21.2 [[20.17679236]]\n",
      "17.5 [[20.43403656]]\n",
      "16.8 [[19.06955731]]\n",
      "22.4 [[23.32686412]]\n",
      "20.6 [[25.26295583]]\n",
      "23.9 [[29.44561991]]\n",
      "22.0 [[27.4575896]]\n",
      "11.9 [[27.91462291]]\n"
     ]
    }
   ],
   "source": [
    "for i in range(len(y_test)):\n",
    "    print(y_test[i], out_test[i])"
   ]
  }
 ],
 "metadata": {
  "kernelspec": {
   "display_name": "Python 3 (ipykernel)",
   "language": "python",
   "name": "python3"
  },
  "language_info": {
   "codemirror_mode": {
    "name": "ipython",
    "version": 3
   },
   "file_extension": ".py",
   "mimetype": "text/x-python",
   "name": "python",
   "nbconvert_exporter": "python",
   "pygments_lexer": "ipython3",
   "version": "3.9.12"
  }
 },
 "nbformat": 4,
 "nbformat_minor": 5
}
