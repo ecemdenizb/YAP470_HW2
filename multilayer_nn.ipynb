{
 "cells": [
  {
   "cell_type": "code",
   "execution_count": 1,
   "id": "6401df4d-9317-4e31-98da-c95ae0db7483",
   "metadata": {},
   "outputs": [],
   "source": [
    "import numpy as np\n",
    "import pandas as pd    "
   ]
  },
  {
   "cell_type": "code",
   "execution_count": 2,
   "id": "4a9b63c5-e444-4a23-9ff5-ee3c594f25d6",
   "metadata": {},
   "outputs": [],
   "source": [
    "from sklearn.preprocessing import StandardScaler"
   ]
  },
  {
   "cell_type": "code",
   "execution_count": 3,
   "id": "32e2bb22-b417-48a0-8622-bc2daf5414e3",
   "metadata": {},
   "outputs": [],
   "source": [
    "def relu(x):\n",
    "    return np.maximum(0,x)"
   ]
  },
  {
   "cell_type": "code",
   "execution_count": 4,
   "id": "3974b969-c130-4d61-835b-1b48779cf843",
   "metadata": {},
   "outputs": [],
   "source": [
    "def deriv_relu(x):\n",
    "    der=list()\n",
    "    der.clear()\n",
    "    for val in x:\n",
    "        if val>0:\n",
    "            der.append(1)\n",
    "        else:\n",
    "            der.append(0)\n",
    "    return der"
   ]
  },
  {
   "cell_type": "code",
   "execution_count": 5,
   "id": "341f82fb-4fd2-4633-b3d9-083c122d8a92",
   "metadata": {},
   "outputs": [],
   "source": [
    "def initialize(x, neuron_num1, neuron_num2):\n",
    "    np.random.seed(12345)\n",
    "    w1=2*np.random.random((len(x.columns), neuron_num1))-1\n",
    "    w2=2*np.random.random((neuron_num1, neuron_num2))-1\n",
    "    w3=2*np.random.random((neuron_num2, 1))-1\n",
    "    bias1=2*np.random.random()-1\n",
    "    bias2=2*np.random.random()-1\n",
    "    bias3=2*np.random.random()-1\n",
    "    return w1, w2, w3, bias1, bias2, bias3"
   ]
  },
  {
   "cell_type": "code",
   "execution_count": 6,
   "id": "68e8da3c-d98e-4bf6-9742-b2766bad81c8",
   "metadata": {},
   "outputs": [],
   "source": [
    "def forward_prop(w1, w2, w3, bias1, bias2, bias3, x):\n",
    "    x=x.reshape(13,1)\n",
    "    z1=np.dot(w1.T,x)+bias1\n",
    "    out1=relu(z1)\n",
    "    z2=np.dot(w2.T,out1)+bias2\n",
    "    out2=relu(z2) \n",
    "    z3=np.dot(w3.T,out2)+bias3\n",
    "    out3=relu(z3)\n",
    "    return z1, out1, z2, out2, z3, out3 "
   ]
  },
  {
   "cell_type": "code",
   "execution_count": 7,
   "id": "12e89975-2aa6-4325-8dba-dbdda0ad279c",
   "metadata": {},
   "outputs": [],
   "source": [
    "def back_prop(w1, w2, w3, bias1, bias2, bias3, x, y, z1, out1, z2, out2, z3, out3, lr, j):\n",
    "    x=x.reshape(13,1)\n",
    "    \n",
    "    err_3=2*(np.subtract(out3.sum(axis=0), y))\n",
    "    dummy_3=np.array(deriv_relu(z3)).reshape(len(z3),1)\n",
    "    dc_dw3=lr*np.dot(out2,dummy_3)*err_3\n",
    "    w3=np.subtract(w3,dc_dw3)\n",
    "    dc_db3=lr*err_3\n",
    "    bias3-=dc_db3\n",
    "    \n",
    "    \n",
    "    err_2=2*(np.subtract(y, out2.sum(axis=0))) # karenin turevi oldugu icin 2*(y_pred-y_act)\n",
    "    dummy_2=np.array(deriv_relu(z2)).reshape(len(z2),1)\n",
    "    dc_dw2=lr*np.dot(out1,dummy_2.T)*err_2\n",
    "    w2=np.subtract(w2,dc_dw2)\n",
    "    dc_db2=lr*err_2\n",
    "    bias2-=dc_db2\n",
    "\n",
    "    err_1= 2*(np.subtract(y, out1.sum(axis=0)))\n",
    "    dummy_1=np.array(deriv_relu(z1)).reshape(len(z1),1)\n",
    "    dc_dw1=lr*np.dot(x,dummy_1.T)*err_1\n",
    "    w1=np.subtract(w1,dc_dw1)\n",
    "    dc_db1=lr*err_1\n",
    "    bias1-=dc_db1\n",
    "    return w1, w2, w3, bias1, bias2, bias3"
   ]
  },
  {
   "cell_type": "code",
   "execution_count": 8,
   "id": "804904bb-3b2d-440d-8f7a-8c6e9941a0ab",
   "metadata": {},
   "outputs": [],
   "source": [
    "pd.set_option(\"display.max_rows\", None,\n",
    "             \"display.max_columns\", None)"
   ]
  },
  {
   "cell_type": "code",
   "execution_count": 9,
   "id": "da6d8609-582c-4bbb-a28d-1dc01f19c760",
   "metadata": {},
   "outputs": [],
   "source": [
    "columns=(\"CRIM\",\"ZN\", \"INDUS\", \"CHAS\", \"NOX\", \"RM\", \"AGE\", \"DIS\", \"RAD\", \"TAX\", \"PTRATIO\", \"B\", \"LSTAT\", \"MEDV\")"
   ]
  },
  {
   "cell_type": "code",
   "execution_count": 10,
   "id": "a9ce2662-b50f-4fba-aac4-b687367c4dd2",
   "metadata": {},
   "outputs": [],
   "source": [
    "ds=pd.read_csv(\"/Users/ecemdenizbabaoglan/Desktop/TOBBETU/yap470/housing.csv\", sep='\\s+', engine='python', names=columns)"
   ]
  },
  {
   "cell_type": "code",
   "execution_count": 11,
   "id": "5274e5c3-1be4-456a-b1c8-654b3c8f0f8a",
   "metadata": {},
   "outputs": [],
   "source": [
    "target=ds.loc[:,'MEDV'].copy()\n",
    "data=ds.drop('MEDV', axis=1).copy()"
   ]
  },
  {
   "cell_type": "code",
   "execution_count": 12,
   "id": "be316773-0e74-4e0d-8941-025ce47c8874",
   "metadata": {},
   "outputs": [],
   "source": [
    "neuron_num1=7\n",
    "neuron_num2=7"
   ]
  },
  {
   "cell_type": "code",
   "execution_count": 13,
   "id": "cb03488e-2e94-47fa-ad7a-55df38c43965",
   "metadata": {},
   "outputs": [],
   "source": [
    "#data_normalized=(data.to_numpy()-min(data.to_numpy()))/(max(data.to_numpy())-min(data.to_numpy()))"
   ]
  },
  {
   "cell_type": "code",
   "execution_count": 14,
   "id": "37b551ba-6b7a-4d58-b570-7ef06d5d78b7",
   "metadata": {},
   "outputs": [],
   "source": [
    "w1, w2, w3, bias1, bias2, bias3 = initialize(data, neuron_num1, neuron_num2)"
   ]
  },
  {
   "cell_type": "code",
   "execution_count": 15,
   "id": "01c05337-719f-4608-bbd6-5a03bead6f7a",
   "metadata": {},
   "outputs": [],
   "source": [
    "scaler=StandardScaler()\n",
    "data_normalized=scaler.fit_transform(data)\n",
    "target=target.to_numpy()"
   ]
  },
  {
   "cell_type": "code",
   "execution_count": 16,
   "id": "b04d0ca1-fcd8-410a-bdb6-c351c8665829",
   "metadata": {},
   "outputs": [],
   "source": [
    "cutoff = int(len(data) * 0.8)\n",
    "x_train, x_test = data_normalized[:cutoff], data_normalized[cutoff:]\n",
    "y_train, y_test = target[:cutoff], target[cutoff:]"
   ]
  },
  {
   "cell_type": "code",
   "execution_count": null,
   "id": "147dcd2d-0e20-42c4-b983-068099b29e95",
   "metadata": {},
   "outputs": [],
   "source": []
  },
  {
   "cell_type": "code",
   "execution_count": 17,
   "id": "83d8e783-d406-4c14-b84e-bcd586d19265",
   "metadata": {},
   "outputs": [],
   "source": [
    "epochs=5\n",
    "lr=0.1"
   ]
  },
  {
   "cell_type": "code",
   "execution_count": 18,
   "id": "1ccc3144-0b6f-419e-bc0f-db60268a2602",
   "metadata": {},
   "outputs": [],
   "source": [
    "output1=list()\n",
    "output2=list()\n",
    "output3=list()\n",
    "z_1=list()\n",
    "z_2=list()\n",
    "z_3=list()\n",
    "loss=0\n",
    "loss_test=0"
   ]
  },
  {
   "cell_type": "code",
   "execution_count": 19,
   "id": "ed71ff6d-e235-45ea-ada2-8f76f7ffa28a",
   "metadata": {},
   "outputs": [],
   "source": [
    "for e in range(epochs):\n",
    "    output1.clear()\n",
    "    output2.clear()\n",
    "    output3.clear()\n",
    "    z_1.clear()\n",
    "    z_2.clear()\n",
    "    z_3.clear()\n",
    "    errors=0\n",
    "    for i in range(len(y_train)):   \n",
    "        z1, out1, z2, out2, z3, out3= forward_prop(w1, w2, w3, bias1, bias2, bias3, x_train[i])\n",
    "        output1.append(out1)\n",
    "        output2.append(out2)\n",
    "        output3.append(out3)\n",
    "        z_1.append(z1)\n",
    "        z_2.append(z2)\n",
    "        z_3.append(z3)\n",
    "       # predicted[i]=output[i].sum(axis=0)\n",
    "        w1, w2, w3, bias1, bias2, bias3 = back_prop(w1, w2, w3, bias1, bias2, bias3, x_train[i], y_train[i], z_1[i],\n",
    "                                                    output1[i], z_2[i], output2[i], z_3[i], output3[i], lr, i+1)"
   ]
  },
  {
   "cell_type": "code",
   "execution_count": 20,
   "id": "43a5e1bd-7b6b-4f47-b2b3-838af286d805",
   "metadata": {},
   "outputs": [
    {
     "name": "stdout",
     "output_type": "stream",
     "text": [
      "(13, 7)\n"
     ]
    }
   ],
   "source": [
    "print(w1.shape)"
   ]
  },
  {
   "cell_type": "code",
   "execution_count": 21,
   "id": "7ae3b1fc-ab04-4abd-9395-071e298d6626",
   "metadata": {},
   "outputs": [
    {
     "name": "stdout",
     "output_type": "stream",
     "text": [
      "(7, 7)\n"
     ]
    }
   ],
   "source": [
    "print(w2.shape)"
   ]
  },
  {
   "cell_type": "code",
   "execution_count": 22,
   "id": "126384b8-5836-4a4f-834e-ce0bf0118014",
   "metadata": {},
   "outputs": [
    {
     "name": "stdout",
     "output_type": "stream",
     "text": [
      "(7, 1)\n"
     ]
    }
   ],
   "source": [
    "print(w3.shape)"
   ]
  },
  {
   "cell_type": "code",
   "execution_count": 23,
   "id": "9dfc0cee-e377-440f-ba23-917a2e75a534",
   "metadata": {},
   "outputs": [
    {
     "name": "stdout",
     "output_type": "stream",
     "text": [
      "[-5.27630744e-16]\n"
     ]
    }
   ],
   "source": [
    "for i in range(len(y_train)):\n",
    "   # print(y_train[i], output[i].sum(axis=0))\n",
    "    loss+=(y_train[i]-(output3[i].sum(axis=0)))\n",
    "print(loss/(len(y_train)))"
   ]
  },
  {
   "cell_type": "code",
   "execution_count": 25,
   "id": "8319e8c2-b1ed-4dac-96ac-0a30a00c4473",
   "metadata": {},
   "outputs": [],
   "source": [
    "#for i in range(len(y_train)):\n",
    "#    print(y_train[i], output3[i])"
   ]
  },
  {
   "cell_type": "code",
   "execution_count": 27,
   "id": "eae140cf-98b4-4f58-8205-7bb185006608",
   "metadata": {},
   "outputs": [
    {
     "ename": "NameError",
     "evalue": "name 'bias' is not defined",
     "output_type": "error",
     "traceback": [
      "\u001b[0;31m---------------------------------------------------------------------------\u001b[0m",
      "\u001b[0;31mNameError\u001b[0m                                 Traceback (most recent call last)",
      "Input \u001b[0;32mIn [27]\u001b[0m, in \u001b[0;36m<cell line: 2>\u001b[0;34m()\u001b[0m\n\u001b[1;32m      1\u001b[0m out_test\u001b[38;5;241m=\u001b[39m\u001b[38;5;28mlist\u001b[39m()\n\u001b[1;32m      2\u001b[0m \u001b[38;5;28;01mfor\u001b[39;00m i \u001b[38;5;129;01min\u001b[39;00m \u001b[38;5;28mrange\u001b[39m(\u001b[38;5;28mlen\u001b[39m(y_test)): \n\u001b[0;32m----> 3\u001b[0m     z_test1, out_test1, z_test2, out_test2, z_test3, out_test3\u001b[38;5;241m=\u001b[39mforward_prop(w1, w2, w3, bias1, bias2, \u001b[43mbias\u001b[49m, x_test[i])\n\u001b[1;32m      4\u001b[0m     out_test\u001b[38;5;241m.\u001b[39mappend(out_test3)\n\u001b[1;32m      5\u001b[0m     loss_test\u001b[38;5;241m+\u001b[39m\u001b[38;5;241m=\u001b[39m(y_test[i]\u001b[38;5;241m-\u001b[39m(out_test[i]\u001b[38;5;241m.\u001b[39msum(axis\u001b[38;5;241m=\u001b[39m\u001b[38;5;241m0\u001b[39m)))\n",
      "\u001b[0;31mNameError\u001b[0m: name 'bias' is not defined"
     ]
    }
   ],
   "source": [
    "out_test=list()\n",
    "for i in range(len(y_test)): \n",
    "    z_test1, out_test1, z_test2, out_test2, z_test3, out_test3=forward_prop(w1, w2, w3, bias1, bias2, bias, x_test[i])\n",
    "    out_test.append(out_test3)\n",
    "    loss_test+=(y_test[i]-(out_test[i].sum(axis=0)))\n",
    "print(loss_test/(len(y_test)))"
   ]
  },
  {
   "cell_type": "code",
   "execution_count": null,
   "id": "590f0be4-8f64-46a4-bd93-657c990d33aa",
   "metadata": {},
   "outputs": [],
   "source": []
  }
 ],
 "metadata": {
  "kernelspec": {
   "display_name": "Python 3 (ipykernel)",
   "language": "python",
   "name": "python3"
  },
  "language_info": {
   "codemirror_mode": {
    "name": "ipython",
    "version": 3
   },
   "file_extension": ".py",
   "mimetype": "text/x-python",
   "name": "python",
   "nbconvert_exporter": "python",
   "pygments_lexer": "ipython3",
   "version": "3.9.12"
  }
 },
 "nbformat": 4,
 "nbformat_minor": 5
}
