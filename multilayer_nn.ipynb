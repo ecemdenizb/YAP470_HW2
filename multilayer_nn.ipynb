{
 "cells": [
  {
   "cell_type": "code",
   "execution_count": 1,
   "id": "6401df4d-9317-4e31-98da-c95ae0db7483",
   "metadata": {},
   "outputs": [],
   "source": [
    "import numpy as np\n",
    "import pandas as pd    "
   ]
  },
  {
   "cell_type": "code",
   "execution_count": 2,
   "id": "4a9b63c5-e444-4a23-9ff5-ee3c594f25d6",
   "metadata": {},
   "outputs": [],
   "source": [
    "from sklearn.preprocessing import StandardScaler"
   ]
  },
  {
   "cell_type": "code",
   "execution_count": 3,
   "id": "32e2bb22-b417-48a0-8622-bc2daf5414e3",
   "metadata": {},
   "outputs": [],
   "source": [
    "def relu(x):\n",
    "    return np.maximum(0,x)"
   ]
  },
  {
   "cell_type": "code",
   "execution_count": 4,
   "id": "3974b969-c130-4d61-835b-1b48779cf843",
   "metadata": {},
   "outputs": [],
   "source": [
    "def deriv_relu(x):\n",
    "    der=list()\n",
    "    der.clear()\n",
    "    for val in x:\n",
    "        if val>0:\n",
    "            der.append(1)\n",
    "        else:\n",
    "            der.append(0)\n",
    "    return der"
   ]
  },
  {
   "cell_type": "code",
   "execution_count": 5,
   "id": "341f82fb-4fd2-4633-b3d9-083c122d8a92",
   "metadata": {},
   "outputs": [],
   "source": [
    "def initialize(x, neuron_num1, neuron_num2):\n",
    "    np.random.seed(12345)\n",
    "    w1=2*np.random.random((len(x.columns), neuron_num1))-1\n",
    "    w2=2*np.random.random((neuron_num1, neuron_num2))-1\n",
    "    w3=2*np.random.random((neuron_num2, 1))-1\n",
    "    bias1=2*np.random.random()-1\n",
    "    bias2=2*np.random.random()-1\n",
    "    bias3=2*np.random.random()-1\n",
    "    return w1, w2, w3, bias1, bias2, bias3"
   ]
  },
  {
   "cell_type": "code",
   "execution_count": 6,
   "id": "68e8da3c-d98e-4bf6-9742-b2766bad81c8",
   "metadata": {},
   "outputs": [],
   "source": [
    "def forward_prop(w1, w2, w3, bias1, bias2, bias3, x):\n",
    "    x=x.reshape(13,1)\n",
    "    z1=np.dot(w1.T,x)+bias1\n",
    "    out1=relu(z1)\n",
    "    z2=np.dot(w2.T,out1)+bias2\n",
    "    out2=relu(z2) \n",
    "    z3=np.dot(w3.T,out2)+bias3\n",
    "    out3=relu(z3)\n",
    "    return z1, out1, z2, out2, z3, out3 "
   ]
  },
  {
   "cell_type": "code",
   "execution_count": 7,
   "id": "12e89975-2aa6-4325-8dba-dbdda0ad279c",
   "metadata": {},
   "outputs": [],
   "source": [
    "def back_prop(w1, w2, w3, bias1, bias2, bias3, x, y, z1, out1, z2, out2, z3, out3, lr, j):\n",
    "    x=x.reshape(13,1)\n",
    "    \n",
    "    err_3=2*(np.subtract(out3.sum(axis=0), y))\n",
    "    dummy_3=np.array(deriv_relu(z3)).reshape(len(z3),1)\n",
    "    dc_dw3=lr*np.dot(out2,dummy_3)*err_3\n",
    "    w3=np.subtract(w3,dc_dw3)\n",
    "    dc_db3=lr*err_3\n",
    "    bias3-=dc_db3\n",
    "    \n",
    "    \n",
    "    err_2=2*(np.subtract(out2.sum(axis=0), y)) # karenin turevi oldugu icin 2*(y_pred-y_act)\n",
    "    dummy_2=np.array(deriv_relu(z2)).reshape(len(z2),1)\n",
    "    dc_dw2=lr*np.dot(out1,dummy_2.T)*err_2\n",
    "    w2=np.subtract(w2,dc_dw2)\n",
    "    dc_db2=lr*err_2\n",
    "    bias2-=dc_db2\n",
    "\n",
    "    err_1= 2*(np.subtract(out1.sum(axis=0), y))\n",
    "    dummy_1=np.array(deriv_relu(z1)).reshape(len(z1),1)\n",
    "    dc_dw1=lr*np.dot(x,dummy_1.T)*err_1\n",
    "    w1=np.subtract(w1,dc_dw1)\n",
    "    dc_db1=lr*err_1\n",
    "    bias1-=dc_db1\n",
    "    return w1, w2, w3, bias1, bias2, bias3"
   ]
  },
  {
   "cell_type": "code",
   "execution_count": 8,
   "id": "804904bb-3b2d-440d-8f7a-8c6e9941a0ab",
   "metadata": {},
   "outputs": [],
   "source": [
    "pd.set_option(\"display.max_rows\", None,\n",
    "             \"display.max_columns\", None)"
   ]
  },
  {
   "cell_type": "code",
   "execution_count": 9,
   "id": "da6d8609-582c-4bbb-a28d-1dc01f19c760",
   "metadata": {},
   "outputs": [],
   "source": [
    "columns=(\"CRIM\",\"ZN\", \"INDUS\", \"CHAS\", \"NOX\", \"RM\", \"AGE\", \"DIS\", \"RAD\", \"TAX\", \"PTRATIO\", \"B\", \"LSTAT\", \"MEDV\")"
   ]
  },
  {
   "cell_type": "code",
   "execution_count": 10,
   "id": "a9ce2662-b50f-4fba-aac4-b687367c4dd2",
   "metadata": {},
   "outputs": [],
   "source": [
    "ds=pd.read_csv(\"/Users/ecemdenizbabaoglan/Desktop/TOBBETU/yap470/housing.csv\", sep='\\s+', engine='python', names=columns)"
   ]
  },
  {
   "cell_type": "code",
   "execution_count": 11,
   "id": "5274e5c3-1be4-456a-b1c8-654b3c8f0f8a",
   "metadata": {},
   "outputs": [],
   "source": [
    "target=ds.loc[:,'MEDV'].copy()\n",
    "data=ds.drop('MEDV', axis=1).copy()"
   ]
  },
  {
   "cell_type": "code",
   "execution_count": 12,
   "id": "be316773-0e74-4e0d-8941-025ce47c8874",
   "metadata": {},
   "outputs": [],
   "source": [
    "neuron_num1=7\n",
    "neuron_num2=7"
   ]
  },
  {
   "cell_type": "code",
   "execution_count": 13,
   "id": "cb03488e-2e94-47fa-ad7a-55df38c43965",
   "metadata": {},
   "outputs": [],
   "source": [
    "#data_normalized=(data.to_numpy()-min(data.to_numpy()))/(max(data.to_numpy())-min(data.to_numpy()))"
   ]
  },
  {
   "cell_type": "code",
   "execution_count": 14,
   "id": "37b551ba-6b7a-4d58-b570-7ef06d5d78b7",
   "metadata": {},
   "outputs": [],
   "source": [
    "w1, w2, w3, bias1, bias2, bias3 = initialize(data, neuron_num1, neuron_num2)"
   ]
  },
  {
   "cell_type": "code",
   "execution_count": 15,
   "id": "01c05337-719f-4608-bbd6-5a03bead6f7a",
   "metadata": {},
   "outputs": [],
   "source": [
    "scaler=StandardScaler()\n",
    "data_normalized=scaler.fit_transform(data)\n",
    "target=target.to_numpy()"
   ]
  },
  {
   "cell_type": "code",
   "execution_count": 16,
   "id": "b04d0ca1-fcd8-410a-bdb6-c351c8665829",
   "metadata": {},
   "outputs": [],
   "source": [
    "cutoff = int(len(data) * 0.8)\n",
    "x_train, x_test = data_normalized[:cutoff], data_normalized[cutoff:]\n",
    "y_train, y_test = target[:cutoff], target[cutoff:]"
   ]
  },
  {
   "cell_type": "code",
   "execution_count": null,
   "id": "147dcd2d-0e20-42c4-b983-068099b29e95",
   "metadata": {},
   "outputs": [],
   "source": []
  },
  {
   "cell_type": "code",
   "execution_count": 17,
   "id": "83d8e783-d406-4c14-b84e-bcd586d19265",
   "metadata": {},
   "outputs": [],
   "source": [
    "epochs=5\n",
    "lr=0.001"
   ]
  },
  {
   "cell_type": "code",
   "execution_count": 18,
   "id": "1ccc3144-0b6f-419e-bc0f-db60268a2602",
   "metadata": {},
   "outputs": [],
   "source": [
    "output1=list()\n",
    "output2=list()\n",
    "output3=list()\n",
    "z_1=list()\n",
    "z_2=list()\n",
    "z_3=list()\n",
    "loss=0\n",
    "loss_test=0"
   ]
  },
  {
   "cell_type": "code",
   "execution_count": 19,
   "id": "ed71ff6d-e235-45ea-ada2-8f76f7ffa28a",
   "metadata": {},
   "outputs": [],
   "source": [
    "for e in range(epochs):\n",
    "    output1.clear()\n",
    "    output2.clear()\n",
    "    output3.clear()\n",
    "    z_1.clear()\n",
    "    z_2.clear()\n",
    "    z_3.clear()\n",
    "    errors=0\n",
    "    for i in range(len(y_train)):   \n",
    "        z1, out1, z2, out2, z3, out3= forward_prop(w1, w2, w3, bias1, bias2, bias3, x_train[i])\n",
    "        output1.append(out1)\n",
    "        output2.append(out2)\n",
    "        output3.append(out3)\n",
    "        z_1.append(z1)\n",
    "        z_2.append(z2)\n",
    "        z_3.append(z3)\n",
    "       # predicted[i]=output[i].sum(axis=0)\n",
    "        w1, w2, w3, bias1, bias2, bias3 = back_prop(w1, w2, w3, bias1, bias2, bias3, x_train[i], y_train[i], z_1[i],\n",
    "                                                    output1[i], z_2[i], output2[i], z_3[i], output3[i], lr, i+1)"
   ]
  },
  {
   "cell_type": "code",
   "execution_count": 20,
   "id": "43a5e1bd-7b6b-4f47-b2b3-838af286d805",
   "metadata": {},
   "outputs": [
    {
     "name": "stdout",
     "output_type": "stream",
     "text": [
      "(13, 7)\n"
     ]
    }
   ],
   "source": [
    "print(w1.shape)"
   ]
  },
  {
   "cell_type": "code",
   "execution_count": 21,
   "id": "7ae3b1fc-ab04-4abd-9395-071e298d6626",
   "metadata": {},
   "outputs": [
    {
     "name": "stdout",
     "output_type": "stream",
     "text": [
      "(7, 7)\n"
     ]
    }
   ],
   "source": [
    "print(w2.shape)"
   ]
  },
  {
   "cell_type": "code",
   "execution_count": 22,
   "id": "126384b8-5836-4a4f-834e-ce0bf0118014",
   "metadata": {},
   "outputs": [
    {
     "name": "stdout",
     "output_type": "stream",
     "text": [
      "(7, 1)\n"
     ]
    }
   ],
   "source": [
    "print(w3.shape)"
   ]
  },
  {
   "cell_type": "code",
   "execution_count": 23,
   "id": "9dfc0cee-e377-440f-ba23-917a2e75a534",
   "metadata": {},
   "outputs": [
    {
     "name": "stdout",
     "output_type": "stream",
     "text": [
      "[1.02530266]\n"
     ]
    }
   ],
   "source": [
    "for i in range(len(y_train)):\n",
    "   # print(y_train[i], output[i].sum(axis=0))\n",
    "    loss+=(y_train[i]-(output3[i].sum(axis=0)))\n",
    "print(loss/(len(y_train)))"
   ]
  },
  {
   "cell_type": "code",
   "execution_count": 24,
   "id": "8319e8c2-b1ed-4dac-96ac-0a30a00c4473",
   "metadata": {},
   "outputs": [],
   "source": [
    "#for i in range(len(y_train)):\n",
    "#    print(y_train[i], output3[i])"
   ]
  },
  {
   "cell_type": "code",
   "execution_count": 25,
   "id": "eae140cf-98b4-4f58-8205-7bb185006608",
   "metadata": {},
   "outputs": [
    {
     "name": "stdout",
     "output_type": "stream",
     "text": [
      "[5.85534671]\n"
     ]
    }
   ],
   "source": [
    "out_test=list()\n",
    "for i in range(len(y_test)): \n",
    "    z_test1, out_test1, z_test2, out_test2, z_test3, out_test3=forward_prop(w1, w2, w3, bias1, bias2, bias3, x_test[i])\n",
    "    out_test.append(out_test3)\n",
    "    loss_test+=(y_test[i]-(out_test[i].sum(axis=0)))\n",
    "print(loss_test/(len(y_test)))"
   ]
  },
  {
   "cell_type": "code",
   "execution_count": 26,
   "id": "590f0be4-8f64-46a4-bd93-657c990d33aa",
   "metadata": {},
   "outputs": [
    {
     "name": "stdout",
     "output_type": "stream",
     "text": [
      "8.5 [[11.68170489]]\n",
      "5.0 [[11.76763435]]\n",
      "11.9 [[7.95872098]]\n",
      "27.9 [[8.70454286]]\n",
      "17.2 [[10.4284017]]\n",
      "27.5 [[11.12704068]]\n",
      "15.0 [[9.73792269]]\n",
      "17.2 [[11.51088623]]\n",
      "17.9 [[9.41962233]]\n",
      "16.3 [[10.10379452]]\n",
      "7.0 [[9.8032816]]\n",
      "7.2 [[11.94870063]]\n",
      "7.5 [[12.18801977]]\n",
      "10.4 [[10.77757084]]\n",
      "8.8 [[11.85729715]]\n",
      "8.4 [[12.48904001]]\n",
      "16.7 [[8.83253191]]\n",
      "14.2 [[8.77359426]]\n",
      "20.8 [[10.03885571]]\n",
      "13.4 [[11.32450262]]\n",
      "11.7 [[10.36443116]]\n",
      "8.3 [[11.12836053]]\n",
      "10.2 [[11.03005085]]\n",
      "10.9 [[11.9956933]]\n",
      "11.0 [[11.68479143]]\n",
      "9.5 [[11.69522887]]\n",
      "14.5 [[10.85665181]]\n",
      "14.1 [[11.61772085]]\n",
      "16.1 [[9.26137138]]\n",
      "14.3 [[10.21361783]]\n",
      "11.7 [[10.40697778]]\n",
      "13.4 [[12.15696533]]\n",
      "9.6 [[11.51159158]]\n",
      "8.7 [[11.36953419]]\n",
      "8.4 [[11.74496388]]\n",
      "12.8 [[10.527468]]\n",
      "10.5 [[11.68427368]]\n",
      "17.1 [[9.96535987]]\n",
      "18.4 [[8.71913562]]\n",
      "15.4 [[9.65863399]]\n",
      "10.8 [[11.29047668]]\n",
      "11.8 [[11.79049184]]\n",
      "14.9 [[9.4708923]]\n",
      "12.6 [[9.25590534]]\n",
      "14.1 [[9.62411899]]\n",
      "13.0 [[10.10964574]]\n",
      "13.4 [[11.00277876]]\n",
      "15.2 [[9.76355766]]\n",
      "16.1 [[9.68961494]]\n",
      "17.8 [[9.94279938]]\n",
      "14.9 [[11.64911072]]\n",
      "14.1 [[11.15798134]]\n",
      "12.7 [[11.04524946]]\n",
      "13.5 [[11.29290052]]\n",
      "14.9 [[10.47316195]]\n",
      "20.0 [[9.63095179]]\n",
      "16.4 [[10.18182052]]\n",
      "17.7 [[9.32884152]]\n",
      "19.5 [[9.67343628]]\n",
      "20.2 [[8.56250315]]\n",
      "21.4 [[10.49915396]]\n",
      "19.9 [[11.11228383]]\n",
      "19.0 [[10.76767133]]\n",
      "19.1 [[10.97844095]]\n",
      "19.1 [[11.9592986]]\n",
      "20.1 [[11.74635672]]\n",
      "19.9 [[10.42829854]]\n",
      "19.6 [[9.44533038]]\n",
      "23.2 [[10.13725968]]\n",
      "29.8 [[9.64276057]]\n",
      "13.8 [[10.58759438]]\n",
      "13.3 [[11.41313268]]\n",
      "16.7 [[10.31445134]]\n",
      "12.0 [[10.56324479]]\n",
      "14.6 [[10.04992554]]\n",
      "21.4 [[9.58112038]]\n",
      "23.0 [[10.40672959]]\n",
      "23.7 [[8.62221003]]\n",
      "25.0 [[8.36777229]]\n",
      "21.8 [[10.56871665]]\n",
      "20.6 [[10.77306251]]\n",
      "21.2 [[9.81223914]]\n",
      "19.1 [[10.70533626]]\n",
      "20.6 [[10.95168117]]\n",
      "15.2 [[8.99152159]]\n",
      "7.0 [[9.00734674]]\n",
      "8.1 [[9.02083929]]\n",
      "13.6 [[8.78617978]]\n",
      "20.1 [[8.45914642]]\n",
      "21.8 [[10.42302586]]\n",
      "24.5 [[9.74305227]]\n",
      "23.1 [[11.55969444]]\n",
      "19.7 [[10.4271047]]\n",
      "18.3 [[9.69422817]]\n",
      "21.2 [[8.66740534]]\n",
      "17.5 [[10.67791368]]\n",
      "16.8 [[8.47792646]]\n",
      "22.4 [[6.45351897]]\n",
      "20.6 [[7.89816489]]\n",
      "23.9 [[4.00852819]]\n",
      "22.0 [[4.6489914]]\n",
      "11.9 [[7.97324915]]\n"
     ]
    }
   ],
   "source": [
    "for i in range(len(y_test)):\n",
    "    print(y_test[i], out_test[i])"
   ]
  }
 ],
 "metadata": {
  "kernelspec": {
   "display_name": "Python 3 (ipykernel)",
   "language": "python",
   "name": "python3"
  },
  "language_info": {
   "codemirror_mode": {
    "name": "ipython",
    "version": 3
   },
   "file_extension": ".py",
   "mimetype": "text/x-python",
   "name": "python",
   "nbconvert_exporter": "python",
   "pygments_lexer": "ipython3",
   "version": "3.9.12"
  }
 },
 "nbformat": 4,
 "nbformat_minor": 5
}
