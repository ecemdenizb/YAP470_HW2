{
 "cells": [
  {
   "cell_type": "code",
   "execution_count": 1,
   "id": "44957c35-0ff4-4bcf-b56f-75218e56d8e1",
   "metadata": {},
   "outputs": [],
   "source": [
    "import pandas as pd\n",
    "import numpy as np"
   ]
  },
  {
   "cell_type": "code",
   "execution_count": 2,
   "id": "4dede6e4-9f0f-415b-b3fd-ef147c28807b",
   "metadata": {},
   "outputs": [],
   "source": [
    "import matplotlib.pyplot as plt"
   ]
  },
  {
   "cell_type": "code",
   "execution_count": 3,
   "id": "6c06167b-dc04-4cdc-9d90-a554cbb9e5c3",
   "metadata": {},
   "outputs": [],
   "source": [
    "def relu(x):\n",
    "    return np.maximum(0,x)"
   ]
  },
  {
   "cell_type": "code",
   "execution_count": 4,
   "id": "c00090f1-505a-4a67-adb5-d99351a0feed",
   "metadata": {},
   "outputs": [],
   "source": [
    "def deriv_relu(x):\n",
    "    der=list()\n",
    "    der.clear()\n",
    "    for val in x:\n",
    "        if val>0:\n",
    "            der.append(1)\n",
    "        else:\n",
    "            der.append(0)\n",
    "    return der"
   ]
  },
  {
   "cell_type": "code",
   "execution_count": 5,
   "id": "b3117669-114f-4de2-a60d-178c58bf3b2c",
   "metadata": {},
   "outputs": [],
   "source": [
    "def leaky_relu(x):\n",
    "    return np.maximum(0.1*x,x)\n",
    "    "
   ]
  },
  {
   "cell_type": "code",
   "execution_count": 6,
   "id": "ca214601-a7b4-418c-9f89-d1efc590cb1f",
   "metadata": {},
   "outputs": [],
   "source": [
    "def deriv_leaky_relu(x):\n",
    "    der=list()\n",
    "    der.clear()\n",
    "    for val in x:\n",
    "        if val>0:\n",
    "            der.append(1)\n",
    "        else:\n",
    "            der.append(0.1)\n",
    "    return der"
   ]
  },
  {
   "cell_type": "code",
   "execution_count": 7,
   "id": "81bd41a9-7893-43be-b9b5-70659d2f3a38",
   "metadata": {},
   "outputs": [],
   "source": [
    "def initialize(x, neuron_num):\n",
    "    np.random.seed(12345)\n",
    "    w1=2*np.random.random((len(x.columns), neuron_num))-1\n",
    "    w2=2*np.random.random((neuron_num, 1))-1\n",
    "    bias1=2*np.random.random()-1\n",
    "    bias2=2*np.random.random()-1\n",
    "    return w1, w2, bias1, bias2"
   ]
  },
  {
   "cell_type": "code",
   "execution_count": 8,
   "id": "869d441e-83fd-4c8f-94ee-3cf82982b7f3",
   "metadata": {},
   "outputs": [],
   "source": [
    "def scaler(data):\n",
    "\n",
    "    flag_min=1000000\n",
    "    flag_max=-1000000\n",
    "    data= data.to_numpy()\n",
    "    \n",
    "    for item in data:\n",
    "        flag_min=np.minimum(item,flag_min)\n",
    "        flag_max=np.maximum(item,flag_max)\n",
    "        \n",
    "    range_=flag_max-flag_min\n",
    "    new_data=pd.DataFrame()\n",
    "    for item in data:\n",
    "        item=(item-flag_min)/range_\n",
    "    return data\n",
    "                  "
   ]
  },
  {
   "cell_type": "code",
   "execution_count": 9,
   "id": "6042b499-82de-4f70-84c3-3535818be284",
   "metadata": {},
   "outputs": [],
   "source": [
    "def forward_prop(w1, w2, bias1, bias2, x):\n",
    "    x=x.reshape(13,1)\n",
    "    z1=np.dot(w1.T,x)+bias1\n",
    "    out1=relu(z1)\n",
    "    #out1=leaky_relu(z1)\n",
    "    z2=np.dot(w2.T,out1)+bias2\n",
    "    out2=relu(z2) \n",
    "    #out2=leaky_relu(z2)\n",
    "    return z1, out1, z2, out2"
   ]
  },
  {
   "cell_type": "code",
   "execution_count": 10,
   "id": "176b7515-9c83-409e-aa4e-f64d1311a8d9",
   "metadata": {},
   "outputs": [],
   "source": [
    "def back_prop(w1, w2, bias1, bias2, x, y, z1, out1, z2, out2, lr):\n",
    "    x=x.reshape(13,1)\n",
    "    err_2=2*(np.subtract(out2.sum(axis=0), y)) # karenin turevi oldugu icin 2*(y_pred-y_act)\n",
    "    dummy_2=np.array(deriv_relu(z2)).reshape(1,1)\n",
    "    #dummy_2=np.array(deriv_leaky_relu(z2)).reshape(1,1)\n",
    "    dc_dw2=lr*np.dot(out1,dummy_2)*err_2\n",
    "    w2=np.subtract(w2,dc_dw2)\n",
    "    dc_db2=lr*err_2\n",
    "    bias2-=dc_db2\n",
    "\n",
    "    err_1= 2*(np.subtract(out1.sum(axis=0), y))\n",
    "    dummy_1=np.array(deriv_relu(z1)).reshape(len(z1),1)\n",
    "    #dummy_1=np.array(deriv_leaky_relu(z1)).reshape(len(z1),1)\n",
    "    dc_dw1=lr*np.dot(x,dummy_1.T)*err_1\n",
    "    w1=np.subtract(w1,dc_dw1)\n",
    "    dc_db1=lr*err_1\n",
    "    bias1-=dc_db1\n",
    "    return w1, w2, bias1, bias2"
   ]
  },
  {
   "cell_type": "code",
   "execution_count": 11,
   "id": "55c56e7d-c520-4c66-af45-b86a430c8113",
   "metadata": {},
   "outputs": [],
   "source": [
    "def forward_prop_test(w1, w2, bias1, bias2, x):\n",
    "    x=x.reshape(13,1)\n",
    "    z1=np.dot(w1.T,x)+bias1\n",
    "    out1=relu(z1)\n",
    "    z2=np.dot(w2.T,out1)+bias2\n",
    "    out2=relu(z2) \n",
    "    return out1"
   ]
  },
  {
   "cell_type": "code",
   "execution_count": 12,
   "id": "60ece8f8-4212-4c6f-bfa1-7dad72a162e2",
   "metadata": {},
   "outputs": [],
   "source": [
    "pd.set_option(\"display.max_rows\", None,\n",
    "             \"display.max_columns\", None)"
   ]
  },
  {
   "cell_type": "code",
   "execution_count": 13,
   "id": "8828dd93-8c3e-44e5-a019-63bba41d867e",
   "metadata": {},
   "outputs": [],
   "source": [
    "PATH=\"/Users/ecemdenizbabaoglan/Desktop/TOBBETU/yap470/housing.csv\" #Buraya housing.csv dosyasının bilgisayardaki yolu girilmelidir"
   ]
  },
  {
   "cell_type": "code",
   "execution_count": 14,
   "id": "282db331-f99f-4611-861f-dc193f0ff6c8",
   "metadata": {},
   "outputs": [],
   "source": [
    "columns=(\"CRIM\",\"ZN\", \"INDUS\", \"CHAS\", \"NOX\", \"RM\", \"AGE\", \"DIS\", \"RAD\", \"TAX\", \"PTRATIO\", \"B\", \"LSTAT\", \"MEDV\")"
   ]
  },
  {
   "cell_type": "code",
   "execution_count": 15,
   "id": "8e5d960b-1dce-410d-a4eb-ae4ca8a71590",
   "metadata": {},
   "outputs": [],
   "source": [
    "ds=pd.read_csv(PATH, sep='\\s+', engine='python', names=columns)"
   ]
  },
  {
   "cell_type": "code",
   "execution_count": 16,
   "id": "f8ddb432-f763-4314-9d56-105d976168c7",
   "metadata": {},
   "outputs": [],
   "source": [
    "#ds.head()"
   ]
  },
  {
   "cell_type": "code",
   "execution_count": 17,
   "id": "477fe23f-8686-4868-a55d-4def9e8c3ad7",
   "metadata": {},
   "outputs": [],
   "source": [
    "#ds.isnull().sum()"
   ]
  },
  {
   "cell_type": "code",
   "execution_count": 18,
   "id": "cf82f01b-3342-46a1-830b-7a4ffab6e175",
   "metadata": {},
   "outputs": [],
   "source": [
    "#ds.describe(include='all')"
   ]
  },
  {
   "cell_type": "code",
   "execution_count": 19,
   "id": "aaee0647-b497-4689-8218-bb9ef012daa9",
   "metadata": {},
   "outputs": [],
   "source": [
    "target=ds.loc[:,'MEDV'].copy()"
   ]
  },
  {
   "cell_type": "code",
   "execution_count": 20,
   "id": "89a3ef46-c5c3-4a39-9db4-aa03809830c7",
   "metadata": {},
   "outputs": [],
   "source": [
    "data=ds.drop('MEDV', axis=1).copy()"
   ]
  },
  {
   "cell_type": "code",
   "execution_count": 21,
   "id": "58f22787-53e9-4c53-a157-6f15dda5b96c",
   "metadata": {},
   "outputs": [],
   "source": [
    "neuron_num=12"
   ]
  },
  {
   "cell_type": "code",
   "execution_count": 22,
   "id": "a08e01c9-dce3-4967-9706-aac0f79ce36d",
   "metadata": {},
   "outputs": [],
   "source": [
    "w1, w2, bias1, bias2=initialize(data,neuron_num)"
   ]
  },
  {
   "cell_type": "code",
   "execution_count": 23,
   "id": "974f39f8-b475-436e-bef6-0a68c2152c48",
   "metadata": {},
   "outputs": [],
   "source": [
    "data_normalized = ((data - data.mean()) / data.std(ddof=0)).to_numpy()\n",
    "target=target.to_numpy()"
   ]
  },
  {
   "cell_type": "code",
   "execution_count": 24,
   "id": "a0e8e18b-89cb-4b13-aea1-c79b68d53863",
   "metadata": {},
   "outputs": [],
   "source": [
    "cutoff = int(len(data) * 0.8)\n",
    "x_train, x_test = data_normalized[:cutoff], data_normalized[cutoff:]\n",
    "y_train, y_test = target[:cutoff], target[cutoff:]"
   ]
  },
  {
   "cell_type": "code",
   "execution_count": 25,
   "id": "f7b4d2c3-97f6-4c78-a385-f3e33c6d4c30",
   "metadata": {},
   "outputs": [],
   "source": [
    "epochs=100"
   ]
  },
  {
   "cell_type": "code",
   "execution_count": 26,
   "id": "54bb1463-9480-4b13-a7c7-ac7fbea7862c",
   "metadata": {},
   "outputs": [],
   "source": [
    "lr=0.0001"
   ]
  },
  {
   "cell_type": "code",
   "execution_count": 27,
   "id": "4114bc90-a258-4493-9a59-39d7d40be2c4",
   "metadata": {},
   "outputs": [],
   "source": [
    "train_loss_epoch=list()\n",
    "test_loss_epoch=list()\n",
    "out_test=list()"
   ]
  },
  {
   "cell_type": "code",
   "execution_count": 28,
   "id": "4988d5c6-b946-47be-b0d8-2ce1a45b7b8e",
   "metadata": {},
   "outputs": [],
   "source": [
    "for e in range(epochs):\n",
    "    loss_train=0\n",
    "    loss_test=0\n",
    "    out_test.clear()\n",
    "    for i in range(len(y_train)):   \n",
    "        z1, out1, z2, out2= forward_prop(w1, w2, bias1, bias2, x_train[i])\n",
    "        w1, w2, bias1, bias2 = back_prop(w1, w2, bias1, bias2, x_train[i], y_train[i], z1, out1, z2, out2, lr)\n",
    "        loss_train+=np.square(y_train[i]-(out2.sum(axis=0)))\n",
    "   \n",
    "    train_loss_epoch.append(loss_train/(len(y_train)))   \n",
    "    \n",
    "    for i in range(len(y_test)):\n",
    "        z_test1, out_test1, z_test2, out_test2=forward_prop(w1, w2, bias1, bias2, x_test[i])\n",
    "        out_test.append(out_test2)\n",
    "        loss_test+=np.square(y_test[i]-(out_test2.sum(axis=0)))\n",
    "\n",
    "    test_loss_epoch.append(loss_test/(len(y_test)))"
   ]
  },
  {
   "cell_type": "code",
   "execution_count": 29,
   "id": "c04ed176-5688-4491-8ec9-27c64fd0e3c6",
   "metadata": {},
   "outputs": [
    {
     "data": {
      "image/png": "[encoded data removed]",
      "text/plain": [
       "<Figure size 432x288 with 1 Axes>"
      ]
     },
     "metadata": {
      "needs_background": "light"
     },
     "output_type": "display_data"
    }
   ],
   "source": [
    "plt.scatter(range(epochs),train_loss_epoch, color='blue',label='Train Loss')\n",
    "plt.scatter(range(epochs),test_loss_epoch, color='red', label='Test Loss')\n",
    "plt.xlabel(\"epoch\")\n",
    "plt.ylabel(\"Mean Squared Error\")\n",
    "plt.title(\"1 Gizli Katman Kayıp Grafiği\")\n",
    "plt.legend(loc=\"upper right\")\n",
    "plt.savefig(\"1-hl.jpg\")\n",
    "plt.show()"
   ]
  },
  {
   "cell_type": "code",
   "execution_count": 30,
   "id": "a8385005-559f-4567-a199-6a1b2d43cbd3",
   "metadata": {},
   "outputs": [
    {
     "name": "stdout",
     "output_type": "stream",
     "text": [
      "[15.37723945]\n"
     ]
    }
   ],
   "source": [
    "train=sum(train_loss_epoch)/len(train_loss_epoch)\n",
    "print(train)"
   ]
  },
  {
   "cell_type": "code",
   "execution_count": 31,
   "id": "e9745ef1-d08c-48f8-8e41-bc0aad083476",
   "metadata": {},
   "outputs": [
    {
     "name": "stdout",
     "output_type": "stream",
     "text": [
      "[15.60485321]\n"
     ]
    }
   ],
   "source": [
    "test=sum(test_loss_epoch)/len(test_loss_epoch)\n",
    "print(test)"
   ]
  },
  {
   "cell_type": "code",
   "execution_count": 32,
   "id": "de5425aa-caf3-417d-8d2b-e267e5872c7d",
   "metadata": {},
   "outputs": [
    {
     "name": "stdout",
     "output_type": "stream",
     "text": [
      "8.5 [[3.83223924]]\n",
      "5.0 [[5.29176895]]\n",
      "11.9 [[15.41598669]]\n",
      "27.9 [[24.38165351]]\n",
      "17.2 [[13.64663654]]\n",
      "27.5 [[14.93969748]]\n",
      "15.0 [[19.49101389]]\n",
      "17.2 [[14.77768101]]\n",
      "17.9 [[14.48619304]]\n",
      "16.3 [[11.53418145]]\n",
      "7.0 [[7.39913423]]\n",
      "7.2 [[9.00694286]]\n",
      "7.5 [[11.43140282]]\n",
      "10.4 [[8.48309522]]\n",
      "8.8 [[10.57806853]]\n",
      "8.4 [[12.20023129]]\n",
      "16.7 [[16.93418197]]\n",
      "14.2 [[17.85362493]]\n",
      "20.8 [[20.81182096]]\n",
      "13.4 [[14.50120063]]\n",
      "11.7 [[18.95060706]]\n",
      "8.3 [[11.78076847]]\n",
      "10.2 [[18.97413966]]\n",
      "10.9 [[15.11400209]]\n",
      "11.0 [[13.83350385]]\n",
      "9.5 [[12.04470361]]\n",
      "14.5 [[17.70566388]]\n",
      "14.1 [[15.56810838]]\n",
      "16.1 [[23.48134016]]\n",
      "14.3 [[16.49078671]]\n",
      "11.7 [[15.59780219]]\n",
      "13.4 [[10.289672]]\n",
      "9.6 [[14.28218496]]\n",
      "8.7 [[10.01134838]]\n",
      "8.4 [[7.93944633]]\n",
      "12.8 [[11.50349841]]\n",
      "10.5 [[7.98283024]]\n",
      "17.1 [[12.38437722]]\n",
      "18.4 [[16.98304158]]\n",
      "15.4 [[13.16915537]]\n",
      "10.8 [[9.78285095]]\n",
      "11.8 [[11.06570943]]\n",
      "14.9 [[14.78150111]]\n",
      "12.6 [[14.79558055]]\n",
      "14.1 [[13.90034315]]\n",
      "13.0 [[13.70771729]]\n",
      "13.4 [[16.33207457]]\n",
      "15.2 [[15.1356449]]\n",
      "16.1 [[15.79908892]]\n",
      "17.8 [[16.55585419]]\n",
      "14.9 [[14.54527431]]\n",
      "14.1 [[15.33470907]]\n",
      "12.7 [[15.07374217]]\n",
      "13.5 [[14.82047824]]\n",
      "14.9 [[14.3660596]]\n",
      "20.0 [[17.38220126]]\n",
      "16.4 [[15.41182626]]\n",
      "17.7 [[18.78845398]]\n",
      "19.5 [[17.91920852]]\n",
      "20.2 [[22.42535369]]\n",
      "21.4 [[19.22611369]]\n",
      "19.9 [[19.97855613]]\n",
      "19.0 [[16.98615779]]\n",
      "19.1 [[15.20967413]]\n",
      "19.1 [[13.85849794]]\n",
      "20.1 [[18.97611219]]\n",
      "19.9 [[19.33410932]]\n",
      "19.6 [[24.85418025]]\n",
      "23.2 [[21.83428406]]\n",
      "29.8 [[23.89319879]]\n",
      "13.8 [[18.21864104]]\n",
      "13.3 [[13.46056244]]\n",
      "16.7 [[17.34616711]]\n",
      "12.0 [[11.49090793]]\n",
      "14.6 [[16.59121747]]\n",
      "21.4 [[21.24544827]]\n",
      "23.0 [[25.11195357]]\n",
      "23.7 [[29.15106498]]\n",
      "25.0 [[30.53658549]]\n",
      "21.8 [[24.81183087]]\n",
      "20.6 [[21.15795939]]\n",
      "21.2 [[22.53820347]]\n",
      "19.1 [[18.72026022]]\n",
      "20.6 [[24.06570867]]\n",
      "15.2 [[20.26234405]]\n",
      "7.0 [[17.34626854]]\n",
      "8.1 [[16.75193042]]\n",
      "13.6 [[19.98387577]]\n",
      "20.1 [[24.60260726]]\n",
      "21.8 [[17.71470263]]\n",
      "24.5 [[17.11800493]]\n",
      "23.1 [[14.39458429]]\n",
      "19.7 [[13.05910678]]\n",
      "18.3 [[14.78264521]]\n",
      "21.2 [[17.21109515]]\n",
      "17.5 [[15.26195197]]\n",
      "16.8 [[15.78090646]]\n",
      "22.4 [[23.20718206]]\n",
      "20.6 [[21.31022464]]\n",
      "23.9 [[29.1677579]]\n",
      "22.0 [[26.80098219]]\n",
      "11.9 [[21.38635402]]\n"
     ]
    }
   ],
   "source": [
    "for i in range(len(y_test)):\n",
    "    print(y_test[i], out_test[i])"
   ]
  }
 ],
 "metadata": {
  "kernelspec": {
   "display_name": "Python 3 (ipykernel)",
   "language": "python",
   "name": "python3"
  },
  "language_info": {
   "codemirror_mode": {
    "name": "ipython",
    "version": 3
   },
   "file_extension": ".py",
   "mimetype": "text/x-python",
   "name": "python",
   "nbconvert_exporter": "python",
   "pygments_lexer": "ipython3",
   "version": "3.9.12"
  }
 },
 "nbformat": 4,
 "nbformat_minor": 5
}
