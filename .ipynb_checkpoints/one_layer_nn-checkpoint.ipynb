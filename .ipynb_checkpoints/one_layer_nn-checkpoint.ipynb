{
 "cells": [
  {
   "cell_type": "code",
   "execution_count": 1,
   "id": "44957c35-0ff4-4bcf-b56f-75218e56d8e1",
   "metadata": {},
   "outputs": [],
   "source": [
    "import pandas as pd\n",
    "import numpy as np"
   ]
  },
  {
   "cell_type": "code",
   "execution_count": 2,
   "id": "f18eab80-dc72-4197-93bd-14d2450b7c2d",
   "metadata": {},
   "outputs": [],
   "source": [
    "from sklearn.preprocessing import StandardScaler"
   ]
  },
  {
   "cell_type": "code",
   "execution_count": 3,
   "id": "2da9b9ba-901e-4fe3-8263-c1d911cd5ed8",
   "metadata": {},
   "outputs": [],
   "source": [
    "#sigmoid fonk f(x)=1/(1+exp^-x)\n",
    "def sigmoid(x):\n",
    "    return 1/(1+np.exp(-x))"
   ]
  },
  {
   "cell_type": "code",
   "execution_count": 4,
   "id": "543a19d3-cb39-47a1-8d7c-a07a1239e862",
   "metadata": {},
   "outputs": [],
   "source": [
    "def deriv_sigmoid(x):\n",
    "    return(x*(1-x))"
   ]
  },
  {
   "cell_type": "code",
   "execution_count": 5,
   "id": "6c06167b-dc04-4cdc-9d90-a554cbb9e5c3",
   "metadata": {},
   "outputs": [],
   "source": [
    "def relu(x):\n",
    "    return np.maximum(0,x)"
   ]
  },
  {
   "cell_type": "code",
   "execution_count": 6,
   "id": "c00090f1-505a-4a67-adb5-d99351a0feed",
   "metadata": {},
   "outputs": [],
   "source": [
    "def deriv_relu(x):\n",
    "    return(0 if x>0 else 1)"
   ]
  },
  {
   "cell_type": "code",
   "execution_count": 7,
   "id": "bcdcf234-e646-4896-b6c1-f66e9d7c7a2d",
   "metadata": {},
   "outputs": [],
   "source": [
    "def get_loss(y_act, y_pred):\n",
    "    print(y_act)\n",
    "    print(y_pred)\n",
    "    error= abs(np.subtract(y_act,y_pred))\n",
    "    \n",
    "    return error"
   ]
  },
  {
   "cell_type": "code",
   "execution_count": 8,
   "id": "81bd41a9-7893-43be-b9b5-70659d2f3a38",
   "metadata": {},
   "outputs": [],
   "source": [
    "def initialize(x, neuron_num):\n",
    "    np.random.seed(12345)\n",
    "    w1=2*np.random.random((len(x.columns), neuron_num))-1\n",
    "    w2=2*np.random.random((neuron_num, 1))-1\n",
    "    #bias=2*np.random.random((len(x.columns), 1))-1\n",
    "    return w1, w2"
   ]
  },
  {
   "cell_type": "code",
   "execution_count": 9,
   "id": "6042b499-82de-4f70-84c3-3535818be284",
   "metadata": {},
   "outputs": [],
   "source": [
    "def forward_prop(w1, w2, x):\n",
    "    x=x.reshape(13,1)\n",
    "    out1=relu(np.dot(w1.T,x))\n",
    "    out2=relu(np.dot(w2.T,out1)) \n",
    "    return out1, out2"
   ]
  },
  {
   "cell_type": "code",
   "execution_count": 10,
   "id": "176b7515-9c83-409e-aa4e-f64d1311a8d9",
   "metadata": {},
   "outputs": [],
   "source": [
    "def back_prop(w1, w2, x, y, out1, out2, lr, j, mse2, mse1):\n",
    "    x=x.reshape(13,1)\n",
    "    err_2=np.add(mse2,abs(np.subtract(y,out2.sum(axis=0))))\n",
    "    mse2_=np.divide(err_2,j)\n",
    "    #print(err_2)\n",
    "    #print(out1)\n",
    "    adj_w2=lr*(np.dot(mse2_,out1.T))\n",
    "    w2=np.add(w2, adj_w2.T)\n",
    "   # w2.T+=adj_w2\n",
    "    \n",
    "    err_1=np.add(mse1,abs(np.subtract(y,out1.sum(axis=0)))).reshape(7,1)\n",
    "    mse1_=np.divide(err_1,j)\n",
    "    adj_w1=lr*(np.dot(mse1_,x.T))\n",
    "    w1=np.add(w1,adj_w1.T.reshape(13,7))\n",
    "    #bias-=lr*err\n",
    "    return w1, w2"
   ]
  },
  {
   "cell_type": "code",
   "execution_count": 11,
   "id": "60ece8f8-4212-4c6f-bfa1-7dad72a162e2",
   "metadata": {},
   "outputs": [],
   "source": [
    "pd.set_option(\"display.max_rows\", None,\n",
    "             \"display.max_columns\", None)"
   ]
  },
  {
   "cell_type": "code",
   "execution_count": 12,
   "id": "282db331-f99f-4611-861f-dc193f0ff6c8",
   "metadata": {},
   "outputs": [],
   "source": [
    "columns=(\"CRIM\",\"ZN\", \"INDUS\", \"CHAS\", \"NOX\", \"RM\", \"AGE\", \"DIS\", \"RAD\", \"TAX\", \"PTRATIO\", \"B\", \"LSTAT\", \"MEDV\")"
   ]
  },
  {
   "cell_type": "code",
   "execution_count": 13,
   "id": "8e5d960b-1dce-410d-a4eb-ae4ca8a71590",
   "metadata": {},
   "outputs": [],
   "source": [
    "ds=pd.read_csv(\"/Users/ecemdenizbabaoglan/Desktop/TOBBETU/yap470/housing.csv\", sep='\\s+', engine='python', names=columns)"
   ]
  },
  {
   "cell_type": "code",
   "execution_count": 14,
   "id": "f8ddb432-f763-4314-9d56-105d976168c7",
   "metadata": {},
   "outputs": [],
   "source": [
    "#ds.head()"
   ]
  },
  {
   "cell_type": "code",
   "execution_count": 15,
   "id": "477fe23f-8686-4868-a55d-4def9e8c3ad7",
   "metadata": {},
   "outputs": [],
   "source": [
    "#ds.isnull().sum()"
   ]
  },
  {
   "cell_type": "code",
   "execution_count": 16,
   "id": "cf82f01b-3342-46a1-830b-7a4ffab6e175",
   "metadata": {},
   "outputs": [],
   "source": [
    "#ds.describe(include='all')"
   ]
  },
  {
   "cell_type": "code",
   "execution_count": 17,
   "id": "aaee0647-b497-4689-8218-bb9ef012daa9",
   "metadata": {},
   "outputs": [],
   "source": [
    "target=ds.loc[:,'MEDV'].copy()"
   ]
  },
  {
   "cell_type": "code",
   "execution_count": 18,
   "id": "89a3ef46-c5c3-4a39-9db4-aa03809830c7",
   "metadata": {},
   "outputs": [],
   "source": [
    "data=ds.drop('MEDV', axis=1).copy()"
   ]
  },
  {
   "cell_type": "code",
   "execution_count": 19,
   "id": "a08e01c9-dce3-4967-9706-aac0f79ce36d",
   "metadata": {},
   "outputs": [],
   "source": [
    "w1, w2=initialize(data,7)"
   ]
  },
  {
   "cell_type": "code",
   "execution_count": 20,
   "id": "dde00973-f382-4b76-b561-f082f07de24a",
   "metadata": {},
   "outputs": [],
   "source": [
    "scaler=StandardScaler()\n",
    "data_normalized=scaler.fit_transform(data)\n",
    "target=target.to_numpy()"
   ]
  },
  {
   "cell_type": "code",
   "execution_count": 21,
   "id": "a0e8e18b-89cb-4b13-aea1-c79b68d53863",
   "metadata": {},
   "outputs": [],
   "source": [
    "cutoff = int(len(data) * 0.8)\n",
    "x_train, x_test = data_normalized[:cutoff], data_normalized[cutoff:]\n",
    "y_train, y_test = target[:cutoff], target[cutoff:]"
   ]
  },
  {
   "cell_type": "code",
   "execution_count": 22,
   "id": "f7b4d2c3-97f6-4c78-a385-f3e33c6d4c30",
   "metadata": {},
   "outputs": [],
   "source": [
    "epochs=5000"
   ]
  },
  {
   "cell_type": "code",
   "execution_count": 23,
   "id": "54bb1463-9480-4b13-a7c7-ac7fbea7862c",
   "metadata": {},
   "outputs": [],
   "source": [
    "lr=0.001"
   ]
  },
  {
   "cell_type": "code",
   "execution_count": 24,
   "id": "4114bc90-a258-4493-9a59-39d7d40be2c4",
   "metadata": {},
   "outputs": [],
   "source": [
    "output1=list()\n",
    "output2=list()\n",
    "loss=0\n",
    "loss_test=0"
   ]
  },
  {
   "cell_type": "code",
   "execution_count": 25,
   "id": "4988d5c6-b946-47be-b0d8-2ce1a45b7b8e",
   "metadata": {},
   "outputs": [
    {
     "name": "stdout",
     "output_type": "stream",
     "text": [
      "[24.]\n",
      "[array([[0.66474587]])]\n",
      "[24.]\n",
      "[array([[0.        ],\n",
      "       [0.94314413],\n",
      "       [0.        ],\n",
      "       [0.        ],\n",
      "       [0.        ],\n",
      "       [0.        ],\n",
      "       [0.        ]])]\n",
      "[24.  21.6]\n",
      "[array([[0.66474587]]), array([[[0.97292261],\n",
      "        [1.2040765 ],\n",
      "        [1.52341729],\n",
      "        [0.        ],\n",
      "        [1.39508524],\n",
      "        [0.        ],\n",
      "        [1.11882052]]])]\n"
     ]
    },
    {
     "name": "stderr",
     "output_type": "stream",
     "text": [
      "/var/folders/g1/wg08n9j51jg7l23kxt22dccc0000gn/T/ipykernel_15671/2010362340.py:4: VisibleDeprecationWarning: Creating an ndarray from ragged nested sequences (which is a list-or-tuple of lists-or-tuples-or ndarrays with different lengths or shapes) is deprecated. If you meant to do this, you must specify 'dtype=object' when creating the ndarray.\n",
      "  error= abs(np.subtract(y_act,y_pred))\n"
     ]
    },
    {
     "ename": "ValueError",
     "evalue": "could not broadcast input array from shape (7,1) into shape (1,)",
     "output_type": "error",
     "traceback": [
      "\u001b[0;31m---------------------------------------------------------------------------\u001b[0m",
      "\u001b[0;31mValueError\u001b[0m                                Traceback (most recent call last)",
      "Input \u001b[0;32mIn [25]\u001b[0m, in \u001b[0;36m<cell line: 1>\u001b[0;34m()\u001b[0m\n\u001b[1;32m      7\u001b[0m  output1\u001b[38;5;241m.\u001b[39mappend(out1)\n\u001b[1;32m      8\u001b[0m  output2\u001b[38;5;241m.\u001b[39mappend(out2)\n\u001b[0;32m----> 9\u001b[0m  mse2\u001b[38;5;241m=\u001b[39m\u001b[43mget_loss\u001b[49m\u001b[43m(\u001b[49m\u001b[43my_train\u001b[49m\u001b[43m[\u001b[49m\u001b[43m:\u001b[49m\u001b[43mi\u001b[49m\u001b[38;5;241;43m+\u001b[39;49m\u001b[38;5;241;43m1\u001b[39;49m\u001b[43m]\u001b[49m\u001b[43m,\u001b[49m\u001b[43m \u001b[49m\u001b[43moutput2\u001b[49m\u001b[43m[\u001b[49m\u001b[43m:\u001b[49m\u001b[43mi\u001b[49m\u001b[38;5;241;43m+\u001b[39;49m\u001b[38;5;241;43m1\u001b[39;49m\u001b[43m]\u001b[49m\u001b[43m)\u001b[49m\n\u001b[1;32m     10\u001b[0m  mse1\u001b[38;5;241m=\u001b[39mget_loss(y_train[:i\u001b[38;5;241m+\u001b[39m\u001b[38;5;241m1\u001b[39m], output1[:i\u001b[38;5;241m+\u001b[39m\u001b[38;5;241m1\u001b[39m])\n\u001b[1;32m     11\u001b[0m \u001b[38;5;66;03m# predicted[i]=output[i].sum(axis=0)\u001b[39;00m\n",
      "Input \u001b[0;32mIn [7]\u001b[0m, in \u001b[0;36mget_loss\u001b[0;34m(y_act, y_pred)\u001b[0m\n\u001b[1;32m      2\u001b[0m \u001b[38;5;28mprint\u001b[39m(y_act)\n\u001b[1;32m      3\u001b[0m \u001b[38;5;28mprint\u001b[39m(y_pred)\n\u001b[0;32m----> 4\u001b[0m error\u001b[38;5;241m=\u001b[39m \u001b[38;5;28mabs\u001b[39m(\u001b[43mnp\u001b[49m\u001b[38;5;241;43m.\u001b[39;49m\u001b[43msubtract\u001b[49m\u001b[43m(\u001b[49m\u001b[43my_act\u001b[49m\u001b[43m,\u001b[49m\u001b[43my_pred\u001b[49m\u001b[43m)\u001b[49m)\n\u001b[1;32m      6\u001b[0m \u001b[38;5;28;01mreturn\u001b[39;00m error\n",
      "\u001b[0;31mValueError\u001b[0m: could not broadcast input array from shape (7,1) into shape (1,)"
     ]
    }
   ],
   "source": [
    "for e in range(epochs):\n",
    "    output1.clear()\n",
    "    output2.clear()\n",
    "    errors=0\n",
    "    for i in range(len(y_train)):   \n",
    "        out1, out2 = forward_prop(w1, w2, x_train[i])\n",
    "        output1.append(out1)\n",
    "        output2.append(out2)\n",
    "        mse2=get_loss(y_train[:i+1], output2[:i+1])\n",
    "        mse1=get_loss(y_train[:i+1], output1[:i+1].sum(axis=0))\n",
    "       # predicted[i]=output[i].sum(axis=0)\n",
    "        w1, w2 = back_prop(w1, w2, x_train[i], y_train[i], output1[i], output2[i], lr, i+1, mse2, mse1)"
   ]
  },
  {
   "cell_type": "code",
   "execution_count": null,
   "id": "79ed409c-9fbd-4d4d-b9a4-dcef7032bc1a",
   "metadata": {},
   "outputs": [],
   "source": [
    "for i in range(len(y_train)):\n",
    "   # print(y_train[i], output[i].sum(axis=0))\n",
    "    loss+=(y_train[i]-(output2[i].sum(axis=0)))"
   ]
  },
  {
   "cell_type": "code",
   "execution_count": null,
   "id": "e4a39c75-d531-4971-a5fd-6b1eacdd9e8a",
   "metadata": {},
   "outputs": [],
   "source": [
    "print(loss/(len(y_train)))"
   ]
  },
  {
   "cell_type": "code",
   "execution_count": null,
   "id": "cdafe9d8-055f-4e00-8b5c-15f5ab3e014f",
   "metadata": {},
   "outputs": [],
   "source": [
    "print(output2[1])"
   ]
  },
  {
   "cell_type": "code",
   "execution_count": null,
   "id": "d1a4bcd8-57a4-444b-8ce9-fee70dc33181",
   "metadata": {},
   "outputs": [],
   "source": [
    "out_test=list()\n",
    "for i in range(len(y_test)): \n",
    "    out_test1,out_test2=forward_prop(w1, w2, x_test[i])\n",
    "    out_test.append(out_test2)\n",
    "    loss_test+=(y_test[i]-(out_test[i].sum(axis=0)))\n",
    "print(loss_test/(len(y_test)))"
   ]
  },
  {
   "cell_type": "code",
   "execution_count": null,
   "id": "4015579a-cc7d-4091-a3c4-0c7811d6cb05",
   "metadata": {},
   "outputs": [],
   "source": [
    "print(get_loss(y_train, output2[i].sum(axis=0)))"
   ]
  },
  {
   "cell_type": "code",
   "execution_count": null,
   "id": "1c0d518c-ec84-47a7-8ab4-e3d87a59c66d",
   "metadata": {},
   "outputs": [],
   "source": [
    "print(output2)"
   ]
  },
  {
   "cell_type": "code",
   "execution_count": null,
   "id": "c04ed176-5688-4491-8ec9-27c64fd0e3c6",
   "metadata": {},
   "outputs": [],
   "source": []
  }
 ],
 "metadata": {
  "kernelspec": {
   "display_name": "Python 3 (ipykernel)",
   "language": "python",
   "name": "python3"
  },
  "language_info": {
   "codemirror_mode": {
    "name": "ipython",
    "version": 3
   },
   "file_extension": ".py",
   "mimetype": "text/x-python",
   "name": "python",
   "nbconvert_exporter": "python",
   "pygments_lexer": "ipython3",
   "version": "3.9.12"
  }
 },
 "nbformat": 4,
 "nbformat_minor": 5
}
