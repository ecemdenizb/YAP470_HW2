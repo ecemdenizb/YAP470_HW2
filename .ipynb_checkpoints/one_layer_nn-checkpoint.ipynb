{
 "cells": [
  {
   "cell_type": "code",
   "execution_count": 1,
   "id": "44957c35-0ff4-4bcf-b56f-75218e56d8e1",
   "metadata": {},
   "outputs": [],
   "source": [
    "import pandas as pd\n",
    "import numpy as np"
   ]
  },
  {
   "cell_type": "code",
   "execution_count": 2,
   "id": "f18eab80-dc72-4197-93bd-14d2450b7c2d",
   "metadata": {},
   "outputs": [],
   "source": [
    "from sklearn.preprocessing import MinMaxScaler"
   ]
  },
  {
   "cell_type": "code",
   "execution_count": 3,
   "id": "2da9b9ba-901e-4fe3-8263-c1d911cd5ed8",
   "metadata": {},
   "outputs": [],
   "source": [
    "#sigmoid fonk f(x)=1/(1+exp^-x)\n",
    "def sigmoid(x):\n",
    "  return 1/(1+np.exp(-x))"
   ]
  },
  {
   "cell_type": "code",
   "execution_count": 4,
   "id": "543a19d3-cb39-47a1-8d7c-a07a1239e862",
   "metadata": {},
   "outputs": [],
   "source": [
    "def deriv_sigmoid(x):\n",
    "    return(x*(1-x))"
   ]
  },
  {
   "cell_type": "code",
   "execution_count": 5,
   "id": "6c06167b-dc04-4cdc-9d90-a554cbb9e5c3",
   "metadata": {},
   "outputs": [],
   "source": [
    "def relu(x):\n",
    "    return np.maximum(0,x)"
   ]
  },
  {
   "cell_type": "code",
   "execution_count": 1,
   "id": "c00090f1-505a-4a67-adb5-d99351a0feed",
   "metadata": {},
   "outputs": [],
   "source": [
    "def deriv_relu(x):\n",
    "    return(0 if x>0 else 1)"
   ]
  },
  {
   "cell_type": "code",
   "execution_count": null,
   "id": "bcdcf234-e646-4896-b6c1-f66e9d7c7a2d",
   "metadata": {},
   "outputs": [],
   "source": [
    "def get_loss(y_act, y_pred):\n",
    "    error= np.subtract(y_act-y_pred)\n",
    "    sq_error=np.square(error)\n",
    "    mse=np.divide(sq_error, len(y_act))\n",
    "    return mse"
   ]
  },
  {
   "cell_type": "code",
   "execution_count": 6,
   "id": "81bd41a9-7893-43be-b9b5-70659d2f3a38",
   "metadata": {},
   "outputs": [],
   "source": [
    "def initialize(x, neuron_num):\n",
    "    np.random.seed(12345)\n",
    "    w1=2*np.random.random((len(x.columns), neuron_num))-1\n",
    "    w2=2*np.random.random((neuron_num, 1))-1\n",
    "    #bias=2*np.random.random((len(x.columns), 1))-1\n",
    "    return w1, w2"
   ]
  },
  {
   "cell_type": "code",
   "execution_count": 7,
   "id": "6042b499-82de-4f70-84c3-3535818be284",
   "metadata": {},
   "outputs": [],
   "source": [
    "def forward_prop(w1, x):\n",
    "    x=x.reshape(13,1)\n",
    "    out1=np.dot(w1.T,x.T)\n",
    "    a1=relu(out1)\n",
    "    out2=np.dot(w2.T,out1)\n",
    "    a2=relu(out2)\n",
    "    return out1,a1,out2,a2"
   ]
  },
  {
   "cell_type": "code",
   "execution_count": 8,
   "id": "176b7515-9c83-409e-aa4e-f64d1311a8d9",
   "metadata": {},
   "outputs": [],
   "source": [
    "def back_prop(w1, x, y, out1, a1, out2, a2, lr, errors, j):\n",
    "    x=x.reshape(13,1)\n",
    "    err=(y-outputs)\n",
    "    delta2=np.multiply(err, deriv_relu(out2))\n",
    "    adj_w2=(1/len(x))*np.sum(np.multiply(a1,delta2), axis=1)\n",
    "   # adj=lr*(np.dot(err,x.T))\n",
    "    w1+=adj.T\n",
    "    #bias-=lr*err\n",
    "    return w1"
   ]
  },
  {
   "cell_type": "code",
   "execution_count": 9,
   "id": "60ece8f8-4212-4c6f-bfa1-7dad72a162e2",
   "metadata": {},
   "outputs": [],
   "source": [
    "pd.set_option(\"display.max_rows\", None,\n",
    "             \"display.max_columns\", None)"
   ]
  },
  {
   "cell_type": "code",
   "execution_count": 10,
   "id": "282db331-f99f-4611-861f-dc193f0ff6c8",
   "metadata": {},
   "outputs": [],
   "source": [
    "columns=(\"CRIM\",\"ZN\", \"INDUS\", \"CHAS\", \"NOX\", \"RM\", \"AGE\", \"DIS\", \"RAD\", \"TAX\", \"PTRATIO\", \"B\", \"LSTAT\", \"MEDV\")"
   ]
  },
  {
   "cell_type": "code",
   "execution_count": 11,
   "id": "8e5d960b-1dce-410d-a4eb-ae4ca8a71590",
   "metadata": {},
   "outputs": [],
   "source": [
    "ds=pd.read_csv(\"/Users/ecemdenizbabaoglan/Desktop/TOBBETU/yap470/housing.csv\", sep='\\s+', engine='python', names=columns)"
   ]
  },
  {
   "cell_type": "code",
   "execution_count": 12,
   "id": "f8ddb432-f763-4314-9d56-105d976168c7",
   "metadata": {},
   "outputs": [],
   "source": [
    "#ds.head()"
   ]
  },
  {
   "cell_type": "code",
   "execution_count": 13,
   "id": "477fe23f-8686-4868-a55d-4def9e8c3ad7",
   "metadata": {},
   "outputs": [],
   "source": [
    "#ds.isnull().sum()"
   ]
  },
  {
   "cell_type": "code",
   "execution_count": 14,
   "id": "cf82f01b-3342-46a1-830b-7a4ffab6e175",
   "metadata": {},
   "outputs": [],
   "source": [
    "#ds.describe(include='all')"
   ]
  },
  {
   "cell_type": "code",
   "execution_count": 15,
   "id": "aaee0647-b497-4689-8218-bb9ef012daa9",
   "metadata": {},
   "outputs": [],
   "source": [
    "target=ds.loc[:,'MEDV'].copy()"
   ]
  },
  {
   "cell_type": "code",
   "execution_count": 16,
   "id": "89a3ef46-c5c3-4a39-9db4-aa03809830c7",
   "metadata": {},
   "outputs": [],
   "source": [
    "data=ds.drop('MEDV', axis=1).copy()"
   ]
  },
  {
   "cell_type": "code",
   "execution_count": 17,
   "id": "a0e8e18b-89cb-4b13-aea1-c79b68d53863",
   "metadata": {},
   "outputs": [],
   "source": [
    "cutoff = int(len(data) * 0.8)\n",
    "x_train, x_test = data[:cutoff], data[cutoff:]\n",
    "y_train, y_test = target[:cutoff], target[cutoff:]"
   ]
  },
  {
   "cell_type": "code",
   "execution_count": 18,
   "id": "f7b4d2c3-97f6-4c78-a385-f3e33c6d4c30",
   "metadata": {},
   "outputs": [],
   "source": [
    "np.random.seed(12345)"
   ]
  },
  {
   "cell_type": "code",
   "execution_count": null,
   "id": "dbc3c243-3276-4782-81fc-53924fc48d97",
   "metadata": {},
   "outputs": [],
   "source": []
  },
  {
   "cell_type": "code",
   "execution_count": null,
   "id": "54bb1463-9480-4b13-a7c7-ac7fbea7862c",
   "metadata": {},
   "outputs": [],
   "source": []
  },
  {
   "cell_type": "code",
   "execution_count": null,
   "id": "4114bc90-a258-4493-9a59-39d7d40be2c4",
   "metadata": {},
   "outputs": [],
   "source": []
  },
  {
   "cell_type": "code",
   "execution_count": null,
   "id": "4988d5c6-b946-47be-b0d8-2ce1a45b7b8e",
   "metadata": {},
   "outputs": [],
   "source": []
  },
  {
   "cell_type": "code",
   "execution_count": null,
   "id": "e4a39c75-d531-4971-a5fd-6b1eacdd9e8a",
   "metadata": {},
   "outputs": [],
   "source": []
  },
  {
   "cell_type": "code",
   "execution_count": null,
   "id": "cdafe9d8-055f-4e00-8b5c-15f5ab3e014f",
   "metadata": {},
   "outputs": [],
   "source": []
  },
  {
   "cell_type": "code",
   "execution_count": null,
   "id": "d1a4bcd8-57a4-444b-8ce9-fee70dc33181",
   "metadata": {},
   "outputs": [],
   "source": []
  },
  {
   "cell_type": "code",
   "execution_count": null,
   "id": "4015579a-cc7d-4091-a3c4-0c7811d6cb05",
   "metadata": {},
   "outputs": [],
   "source": []
  },
  {
   "cell_type": "code",
   "execution_count": null,
   "id": "1c0d518c-ec84-47a7-8ab4-e3d87a59c66d",
   "metadata": {},
   "outputs": [],
   "source": []
  }
 ],
 "metadata": {
  "kernelspec": {
   "display_name": "Python 3 (ipykernel)",
   "language": "python",
   "name": "python3"
  },
  "language_info": {
   "codemirror_mode": {
    "name": "ipython",
    "version": 3
   },
   "file_extension": ".py",
   "mimetype": "text/x-python",
   "name": "python",
   "nbconvert_exporter": "python",
   "pygments_lexer": "ipython3",
   "version": "3.9.12"
  }
 },
 "nbformat": 4,
 "nbformat_minor": 5
}
