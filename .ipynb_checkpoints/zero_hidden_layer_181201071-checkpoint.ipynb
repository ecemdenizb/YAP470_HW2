{
 "cells": [
  {
   "cell_type": "code",
   "execution_count": 1,
   "id": "88db63fe-708c-4155-9d14-5b1ce2d71f6e",
   "metadata": {},
   "outputs": [],
   "source": [
    "#Ecem Deniz Babaoğlan\n",
    "#181201071"
   ]
  },
  {
   "cell_type": "code",
   "execution_count": null,
   "id": "80f159bb-988a-4ad1-94c1-afe06cd4427f",
   "metadata": {},
   "outputs": [],
   "source": [
    "import pandas as pd\n",
    "import numpy as np"
   ]
  },
  {
   "cell_type": "code",
   "execution_count": 2,
   "id": "3ba8ca18-019d-404b-a15c-658e8ceaee17",
   "metadata": {},
   "outputs": [],
   "source": [
    "import matplotlib.pyplot as plt"
   ]
  },
  {
   "cell_type": "code",
   "execution_count": 3,
   "id": "20ff3596-b725-4252-986f-f044ef60a80d",
   "metadata": {},
   "outputs": [],
   "source": [
    "def relu(x):\n",
    "    return np.maximum(0,x)"
   ]
  },
  {
   "cell_type": "code",
   "execution_count": 4,
   "id": "2720d09d-c21b-4696-b13c-f120b1edfcb3",
   "metadata": {},
   "outputs": [],
   "source": [
    "def deriv_relu(x):\n",
    "    der=list()\n",
    "    der.clear()\n",
    "    for val in x:\n",
    "        if val>0:\n",
    "            der.append(1)\n",
    "        else:\n",
    "            der.append(0)\n",
    "    return der"
   ]
  },
  {
   "cell_type": "code",
   "execution_count": 5,
   "id": "12ed85b9-e128-4d4d-b545-f2793019c5c4",
   "metadata": {},
   "outputs": [],
   "source": [
    "def initialize(x):\n",
    "    np.random.seed(12345)\n",
    "    w1=2*np.random.random((len(x.columns), 1))-1\n",
    "    bias=2*np.random.random()-1\n",
    "   # w2=2*np.random.random((neurons, 1))-1\n",
    "    return w1, bias"
   ]
  },
  {
   "cell_type": "code",
   "execution_count": 6,
   "id": "0c5ba482-9ad4-4819-bd68-351b7f881049",
   "metadata": {},
   "outputs": [],
   "source": [
    "def forward_prop(w1, bias, x):\n",
    "    x=x.reshape(13,1)\n",
    "    z=np.dot(w1.T,x)+bias\n",
    "    out=relu(z)\n",
    "    return z, out\n",
    "    "
   ]
  },
  {
   "cell_type": "code",
   "execution_count": 7,
   "id": "a916463a-f9ab-4c9a-9cbd-0eb08d4f6519",
   "metadata": {},
   "outputs": [],
   "source": [
    "def back_prop(w1, bias, x, y, z, out, lr):\n",
    "    x=x.reshape(13,1)\n",
    "    err=2*(np.subtract(out.sum(axis=0),y))\n",
    "    dummy=np.array(deriv_relu(z)).reshape(1,1)\n",
    "    dc_dw=lr*np.dot(x,dummy)*err\n",
    "    w1=np.subtract(w1,dc_dw)\n",
    "    dc_db=lr*err\n",
    "    bias-=dc_db\n",
    "    return w1, bias"
   ]
  },
  {
   "cell_type": "code",
   "execution_count": 8,
   "id": "c4ef4b50-9813-42b8-bce9-e3daab43321f",
   "metadata": {},
   "outputs": [],
   "source": [
    "pd.set_option(\"display.max_rows\", None,\n",
    "             \"display.max_columns\", None)"
   ]
  },
  {
   "cell_type": "code",
   "execution_count": 9,
   "id": "857ae808-5954-41fc-ba39-844f18b64bf1",
   "metadata": {},
   "outputs": [],
   "source": [
    "PATH=\"/Users/ecemdenizbabaoglan/Desktop/TOBBETU/yap470/housing.csv\" #Buraya housing.csv dosyasının bilgisayardaki yolu girilmelidir"
   ]
  },
  {
   "cell_type": "code",
   "execution_count": 10,
   "id": "e57502b9-9b2f-4765-a634-188fd3ec7f36",
   "metadata": {},
   "outputs": [],
   "source": [
    "columns=(\"CRIM\",\"ZN\", \"INDUS\", \"CHAS\", \"NOX\", \"RM\", \"AGE\", \"DIS\", \"RAD\", \"TAX\", \"PTRATIO\", \"B\", \"LSTAT\", \"MEDV\")"
   ]
  },
  {
   "cell_type": "code",
   "execution_count": 11,
   "id": "e1be6d57-4958-47c6-af1c-8b6ce5815313",
   "metadata": {},
   "outputs": [],
   "source": [
    "ds=pd.read_csv(PATH, sep='\\s+', engine='python', names=columns)"
   ]
  },
  {
   "cell_type": "code",
   "execution_count": 12,
   "id": "c41fd988-7c7e-4985-85ff-a7d4f9609112",
   "metadata": {},
   "outputs": [
    {
     "data": {
      "text/html": [
       "<div>\n",
       "<style scoped>\n",
       "    .dataframe tbody tr th:only-of-type {\n",
       "        vertical-align: middle;\n",
       "    }\n",
       "\n",
       "    .dataframe tbody tr th {\n",
       "        vertical-align: top;\n",
       "    }\n",
       "\n",
       "    .dataframe thead th {\n",
       "        text-align: right;\n",
       "    }\n",
       "</style>\n",
       "<table border=\"1\" class=\"dataframe\">\n",
       "  <thead>\n",
       "    <tr style=\"text-align: right;\">\n",
       "      <th></th>\n",
       "      <th>CRIM</th>\n",
       "      <th>ZN</th>\n",
       "      <th>INDUS</th>\n",
       "      <th>CHAS</th>\n",
       "      <th>NOX</th>\n",
       "      <th>RM</th>\n",
       "      <th>AGE</th>\n",
       "      <th>DIS</th>\n",
       "      <th>RAD</th>\n",
       "      <th>TAX</th>\n",
       "      <th>PTRATIO</th>\n",
       "      <th>B</th>\n",
       "      <th>LSTAT</th>\n",
       "      <th>MEDV</th>\n",
       "    </tr>\n",
       "  </thead>\n",
       "  <tbody>\n",
       "    <tr>\n",
       "      <th>0</th>\n",
       "      <td>0.00632</td>\n",
       "      <td>18.0</td>\n",
       "      <td>2.31</td>\n",
       "      <td>0</td>\n",
       "      <td>0.538</td>\n",
       "      <td>6.575</td>\n",
       "      <td>65.2</td>\n",
       "      <td>4.0900</td>\n",
       "      <td>1</td>\n",
       "      <td>296.0</td>\n",
       "      <td>15.3</td>\n",
       "      <td>396.90</td>\n",
       "      <td>4.98</td>\n",
       "      <td>24.0</td>\n",
       "    </tr>\n",
       "    <tr>\n",
       "      <th>1</th>\n",
       "      <td>0.02731</td>\n",
       "      <td>0.0</td>\n",
       "      <td>7.07</td>\n",
       "      <td>0</td>\n",
       "      <td>0.469</td>\n",
       "      <td>6.421</td>\n",
       "      <td>78.9</td>\n",
       "      <td>4.9671</td>\n",
       "      <td>2</td>\n",
       "      <td>242.0</td>\n",
       "      <td>17.8</td>\n",
       "      <td>396.90</td>\n",
       "      <td>9.14</td>\n",
       "      <td>21.6</td>\n",
       "    </tr>\n",
       "    <tr>\n",
       "      <th>2</th>\n",
       "      <td>0.02729</td>\n",
       "      <td>0.0</td>\n",
       "      <td>7.07</td>\n",
       "      <td>0</td>\n",
       "      <td>0.469</td>\n",
       "      <td>7.185</td>\n",
       "      <td>61.1</td>\n",
       "      <td>4.9671</td>\n",
       "      <td>2</td>\n",
       "      <td>242.0</td>\n",
       "      <td>17.8</td>\n",
       "      <td>392.83</td>\n",
       "      <td>4.03</td>\n",
       "      <td>34.7</td>\n",
       "    </tr>\n",
       "    <tr>\n",
       "      <th>3</th>\n",
       "      <td>0.03237</td>\n",
       "      <td>0.0</td>\n",
       "      <td>2.18</td>\n",
       "      <td>0</td>\n",
       "      <td>0.458</td>\n",
       "      <td>6.998</td>\n",
       "      <td>45.8</td>\n",
       "      <td>6.0622</td>\n",
       "      <td>3</td>\n",
       "      <td>222.0</td>\n",
       "      <td>18.7</td>\n",
       "      <td>394.63</td>\n",
       "      <td>2.94</td>\n",
       "      <td>33.4</td>\n",
       "    </tr>\n",
       "    <tr>\n",
       "      <th>4</th>\n",
       "      <td>0.06905</td>\n",
       "      <td>0.0</td>\n",
       "      <td>2.18</td>\n",
       "      <td>0</td>\n",
       "      <td>0.458</td>\n",
       "      <td>7.147</td>\n",
       "      <td>54.2</td>\n",
       "      <td>6.0622</td>\n",
       "      <td>3</td>\n",
       "      <td>222.0</td>\n",
       "      <td>18.7</td>\n",
       "      <td>396.90</td>\n",
       "      <td>5.33</td>\n",
       "      <td>36.2</td>\n",
       "    </tr>\n",
       "  </tbody>\n",
       "</table>\n",
       "</div>"
      ],
      "text/plain": [
       "      CRIM    ZN  INDUS  CHAS    NOX     RM   AGE     DIS  RAD    TAX  \\\n",
       "0  0.00632  18.0   2.31     0  0.538  6.575  65.2  4.0900    1  296.0   \n",
       "1  0.02731   0.0   7.07     0  0.469  6.421  78.9  4.9671    2  242.0   \n",
       "2  0.02729   0.0   7.07     0  0.469  7.185  61.1  4.9671    2  242.0   \n",
       "3  0.03237   0.0   2.18     0  0.458  6.998  45.8  6.0622    3  222.0   \n",
       "4  0.06905   0.0   2.18     0  0.458  7.147  54.2  6.0622    3  222.0   \n",
       "\n",
       "   PTRATIO       B  LSTAT  MEDV  \n",
       "0     15.3  396.90   4.98  24.0  \n",
       "1     17.8  396.90   9.14  21.6  \n",
       "2     17.8  392.83   4.03  34.7  \n",
       "3     18.7  394.63   2.94  33.4  \n",
       "4     18.7  396.90   5.33  36.2  "
      ]
     },
     "execution_count": 12,
     "metadata": {},
     "output_type": "execute_result"
    }
   ],
   "source": [
    "ds.head()"
   ]
  },
  {
   "cell_type": "code",
   "execution_count": 13,
   "id": "8641aac5-c1c3-4a4c-8c5e-99e58d29410a",
   "metadata": {},
   "outputs": [],
   "source": [
    "target=ds.loc[:,'MEDV'].copy()\n",
    "data=ds.drop('MEDV', axis=1).copy()"
   ]
  },
  {
   "cell_type": "code",
   "execution_count": 14,
   "id": "9c89ab9e-fc40-49f9-a71d-07333eb2c44a",
   "metadata": {},
   "outputs": [],
   "source": [
    "w1, bias=initialize(data)"
   ]
  },
  {
   "cell_type": "code",
   "execution_count": 15,
   "id": "af1d1e6a-bbee-4173-9d96-e0a1bdcbc3a5",
   "metadata": {},
   "outputs": [],
   "source": [
    "data_normalized = ((data - data.mean()) / data.std(ddof=0)).to_numpy()\n",
    "target=target.to_numpy()"
   ]
  },
  {
   "cell_type": "code",
   "execution_count": 16,
   "id": "197a5d19-808b-4941-8685-4ef731e79e02",
   "metadata": {},
   "outputs": [],
   "source": [
    "cutoff = int(len(data) * 0.8)\n",
    "x_train, x_test = data_normalized[:cutoff], data_normalized[cutoff:]\n",
    "y_train, y_test = target[:cutoff], target[cutoff:]"
   ]
  },
  {
   "cell_type": "code",
   "execution_count": 17,
   "id": "413117f0-54ae-4eeb-b7ed-b9c91ce3c269",
   "metadata": {},
   "outputs": [],
   "source": [
    "#for best results without bias: Epochs:2000, lr:0.001\n",
    "#for best results with bias: Epochs:2000, lr:0.01\n",
    "#edit: bias ekliyken lr sabit birakilip epoch 500'e kadar düşürüldü, aynı başarım alındı.\n",
    "#edit2: epoch 100'e düşürüldüğünde training başarımı azaldı (muhtemel overfit engellendi), test başarısı yaklaşık aynı elde edildi"
   ]
  },
  {
   "cell_type": "code",
   "execution_count": 18,
   "id": "a869605c-6dbd-42f9-97d5-62927d749a00",
   "metadata": {},
   "outputs": [],
   "source": [
    "epochs=50;"
   ]
  },
  {
   "cell_type": "code",
   "execution_count": 19,
   "id": "e654e666-02ac-48c8-8bf0-89b351718dee",
   "metadata": {},
   "outputs": [],
   "source": [
    "lr=0.01"
   ]
  },
  {
   "cell_type": "code",
   "execution_count": 20,
   "id": "c75a7ece-d4ff-4f6c-856a-087aaf47ad5f",
   "metadata": {},
   "outputs": [],
   "source": [
    "train_loss_epoch=list()\n",
    "test_loss_epoch=list()\n",
    "out_test_=list()"
   ]
  },
  {
   "cell_type": "code",
   "execution_count": 21,
   "id": "2c855910-63c5-4975-8128-43ac3a7e2f40",
   "metadata": {},
   "outputs": [],
   "source": [
    "for e in range(epochs):\n",
    "    loss_train=0\n",
    "    loss_test=0\n",
    "    out_test_.clear()\n",
    "    for i in range(len(y_train)):   \n",
    "        z, out = (forward_prop(w1, bias, x_train[i]))\n",
    "       # predicted[i]=output[i].sum(axis=0)\n",
    "        w1, bias=back_prop(w1, bias, x_train[i], y_train[i], z, out, lr)\n",
    "        loss_train+=np.square(y_train[i]-(out.sum(axis=0)))\n",
    "        \n",
    "    train_loss_epoch.append(loss_train/(len(y_train)))   \n",
    "    \n",
    "    for i in range(len(y_test)):\n",
    "        z_test, out_test=forward_prop(w1,bias,x_test[i])\n",
    "        out_test_.append(out_test)\n",
    "        loss_test+=np.square(y_test[i]-(out_test.sum(axis=0)))\n",
    "\n",
    "    test_loss_epoch.append(loss_test/(len(y_test)))"
   ]
  },
  {
   "cell_type": "code",
   "execution_count": 22,
   "id": "c4568f3d-1427-4a71-92f2-a4e94bbd6985",
   "metadata": {},
   "outputs": [
    {
     "data": {
      "image/png": "[encoded data removed]",
      "text/plain": [
       "<Figure size 432x288 with 1 Axes>"
      ]
     },
     "metadata": {
      "needs_background": "light"
     },
     "output_type": "display_data"
    }
   ],
   "source": [
    "plt.scatter(range(epochs),train_loss_epoch, color='blue',label='Train Loss')\n",
    "plt.scatter(range(epochs),test_loss_epoch, color='red', label='Test Loss')\n",
    "plt.xlabel(\"epoch\")\n",
    "plt.ylabel(\"Mean Squared Error\")\n",
    "plt.title(\"0 Gizli Katman Kayıp Grafiği (lr=0.01)\")\n",
    "plt.legend(loc=\"upper right\")\n",
    "#plt.savefig(\"0-hl-lr01.jpg\")\n",
    "plt.show()"
   ]
  },
  {
   "cell_type": "code",
   "execution_count": 23,
   "id": "05eef4d7-da4e-4966-8671-28e0b55589d8",
   "metadata": {},
   "outputs": [
    {
     "name": "stdout",
     "output_type": "stream",
     "text": [
      "[23.24738137]\n"
     ]
    }
   ],
   "source": [
    "train=sum(train_loss_epoch)/len(train_loss_epoch)\n",
    "print(train)"
   ]
  },
  {
   "cell_type": "code",
   "execution_count": 24,
   "id": "f454d371-019b-4cbc-868b-0f609b25c373",
   "metadata": {},
   "outputs": [
    {
     "name": "stdout",
     "output_type": "stream",
     "text": [
      "[26.74012985]\n"
     ]
    }
   ],
   "source": [
    "test=sum(test_loss_epoch)/len(test_loss_epoch)\n",
    "print(test)\n"
   ]
  },
  {
   "cell_type": "code",
   "execution_count": 25,
   "id": "858e1945-bdb9-487c-8fdb-4ac967d0ca0f",
   "metadata": {},
   "outputs": [
    {
     "name": "stdout",
     "output_type": "stream",
     "text": [
      "8.5 [[0.]]\n",
      "5.0 [[0.]]\n",
      "11.9 [[6.01885876]]\n",
      "27.9 [[20.28777704]]\n",
      "17.2 [[12.45371117]]\n",
      "27.5 [[14.63796841]]\n",
      "15.0 [[3.08945662]]\n",
      "17.2 [[14.81781106]]\n",
      "17.9 [[1.62771008]]\n",
      "16.3 [[6.15978706]]\n",
      "7.0 [[0.]]\n",
      "7.2 [[3.99660772]]\n",
      "7.5 [[11.00014294]]\n",
      "10.4 [[1.19027464]]\n",
      "8.8 [[0.]]\n",
      "8.4 [[12.06853706]]\n",
      "16.7 [[16.48575117]]\n",
      "14.2 [[18.40511473]]\n",
      "20.8 [[19.44536138]]\n",
      "13.4 [[16.90156334]]\n",
      "11.7 [[21.89118544]]\n",
      "8.3 [[9.425823]]\n",
      "10.2 [[21.06184883]]\n",
      "10.9 [[5.04424965]]\n",
      "11.0 [[16.1331034]]\n",
      "9.5 [[12.87456819]]\n",
      "14.5 [[20.67157446]]\n",
      "14.1 [[17.83417713]]\n",
      "16.1 [[26.38320302]]\n",
      "14.3 [[20.27633797]]\n",
      "11.7 [[16.36242606]]\n",
      "13.4 [[10.55877728]]\n",
      "9.6 [[13.82987739]]\n",
      "8.7 [[6.63390214]]\n",
      "8.4 [[1.01359136]]\n",
      "12.8 [[10.11787276]]\n",
      "10.5 [[3.38027497]]\n",
      "17.1 [[12.35882097]]\n",
      "18.4 [[17.13498252]]\n",
      "15.4 [[12.79626756]]\n",
      "10.8 [[8.48548934]]\n",
      "11.8 [[10.95203982]]\n",
      "14.9 [[16.35578251]]\n",
      "12.6 [[14.70169793]]\n",
      "14.1 [[14.10553937]]\n",
      "13.0 [[14.93949635]]\n",
      "13.4 [[19.27308788]]\n",
      "15.2 [[16.84204827]]\n",
      "16.1 [[17.33362875]]\n",
      "17.8 [[15.5969281]]\n",
      "14.9 [[16.3742773]]\n",
      "14.1 [[19.45449403]]\n",
      "12.7 [[19.07647828]]\n",
      "13.5 [[18.71907777]]\n",
      "14.9 [[17.27736381]]\n",
      "20.0 [[18.1983794]]\n",
      "16.4 [[18.96589534]]\n",
      "17.7 [[20.11019586]]\n",
      "19.5 [[18.8194539]]\n",
      "20.2 [[22.21415376]]\n",
      "21.4 [[20.07484131]]\n",
      "19.9 [[22.74821061]]\n",
      "19.0 [[22.10657237]]\n",
      "19.1 [[17.51960654]]\n",
      "19.1 [[13.4386647]]\n",
      "20.1 [[17.75613379]]\n",
      "19.9 [[20.93616787]]\n",
      "19.6 [[24.87687086]]\n",
      "23.2 [[23.18794747]]\n",
      "29.8 [[24.49612175]]\n",
      "13.8 [[18.10300845]]\n",
      "13.3 [[14.5298311]]\n",
      "16.7 [[18.3793903]]\n",
      "12.0 [[8.10330879]]\n",
      "14.6 [[16.0950823]]\n",
      "21.4 [[18.06282368]]\n",
      "23.0 [[25.60228353]]\n",
      "23.7 [[28.03947372]]\n",
      "25.0 [[28.44641741]]\n",
      "21.8 [[27.42799307]]\n",
      "20.6 [[24.60717319]]\n",
      "21.2 [[25.54106913]]\n",
      "19.1 [[20.80731922]]\n",
      "20.6 [[24.9897665]]\n",
      "15.2 [[15.02621265]]\n",
      "7.0 [[10.51315158]]\n",
      "8.1 [[5.97957757]]\n",
      "13.6 [[14.84766346]]\n",
      "20.1 [[18.66894043]]\n",
      "21.8 [[23.07527573]]\n",
      "24.5 [[21.78412127]]\n",
      "23.1 [[18.38234232]]\n",
      "19.7 [[14.89756345]]\n",
      "18.3 [[20.60490242]]\n",
      "21.2 [[22.05202991]]\n",
      "17.5 [[20.30249547]]\n",
      "16.8 [[20.63808508]]\n",
      "22.4 [[23.74958628]]\n",
      "20.6 [[24.40438494]]\n",
      "23.9 [[26.99658632]]\n",
      "22.0 [[26.1588362]]\n",
      "11.9 [[25.17470261]]\n"
     ]
    }
   ],
   "source": [
    "for i in range(len(y_test)):\n",
    "    print(y_test[i], out_test_[i])"
   ]
  }
 ],
 "metadata": {
  "kernelspec": {
   "display_name": "Python 3 (ipykernel)",
   "language": "python",
   "name": "python3"
  },
  "language_info": {
   "codemirror_mode": {
    "name": "ipython",
    "version": 3
   },
   "file_extension": ".py",
   "mimetype": "text/x-python",
   "name": "python",
   "nbconvert_exporter": "python",
   "pygments_lexer": "ipython3",
   "version": "3.9.12"
  }
 },
 "nbformat": 4,
 "nbformat_minor": 5
}
