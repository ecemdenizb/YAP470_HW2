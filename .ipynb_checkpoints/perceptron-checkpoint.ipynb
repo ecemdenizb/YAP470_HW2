{
 "cells": [
  {
   "cell_type": "code",
   "execution_count": 1,
   "id": "66e50b39-4ad3-4f6b-9e68-d9aadc03999c",
   "metadata": {},
   "outputs": [],
   "source": [
    "import pandas as pd\n",
    "import numpy as np"
   ]
  },
  {
   "cell_type": "code",
   "execution_count": 2,
   "id": "b9665b3b-0d43-4c36-97e4-98770a806df4",
   "metadata": {},
   "outputs": [],
   "source": [
    "from sklearn.preprocessing import MinMaxScaler"
   ]
  },
  {
   "cell_type": "code",
   "execution_count": 3,
   "id": "20ff3596-b725-4252-986f-f044ef60a80d",
   "metadata": {},
   "outputs": [],
   "source": [
    "def relu(x):\n",
    "    return np.maximum(0,x)"
   ]
  },
  {
   "cell_type": "code",
   "execution_count": 4,
   "id": "d5323bdc-de25-47ab-9e1d-c92d5c5e73cb",
   "metadata": {},
   "outputs": [],
   "source": [
    "def sigmoid(x):\n",
    "    return 1/(1+np.exp(-x))"
   ]
  },
  {
   "cell_type": "code",
   "execution_count": 5,
   "id": "e1c7ee2d-2434-4946-9783-2e6942c5785f",
   "metadata": {},
   "outputs": [],
   "source": [
    "def deriv_sigmoid(x):\n",
    "    return(x*(1-x)) "
   ]
  },
  {
   "cell_type": "code",
   "execution_count": 6,
   "id": "12ed85b9-e128-4d4d-b545-f2793019c5c4",
   "metadata": {},
   "outputs": [],
   "source": [
    "def initialize(x):\n",
    "    np.random.seed(12345)\n",
    "    w1=2*np.random.random((len(x.columns), 1))-1\n",
    "   # bias=2*np.random.random((len(x.columns), 1))-1\n",
    "   # w2=2*np.random.random((neurons, 1))-1\n",
    "    return w1"
   ]
  },
  {
   "cell_type": "code",
   "execution_count": 7,
   "id": "0c5ba482-9ad4-4819-bd68-351b7f881049",
   "metadata": {},
   "outputs": [],
   "source": [
    "def forward_prop(w1, x):\n",
    "    outputs=relu(np.dot(x,w1.T))\n",
    "    return outputs"
   ]
  },
  {
   "cell_type": "code",
   "execution_count": 8,
   "id": "a916463a-f9ab-4c9a-9cbd-0eb08d4f6519",
   "metadata": {},
   "outputs": [],
   "source": [
    "def back_prop(w1, x, y, outputs, lr):\n",
    "    error=(y-outputs)\n",
    "    w1+=lr*(np.reshape(np.dot(error,x),(13,1)))\n",
    "    #bias-=lr*(np.reshape(np.dot(error,x),(13,1)))\n",
    "    return w1"
   ]
  },
  {
   "cell_type": "code",
   "execution_count": 9,
   "id": "c4ef4b50-9813-42b8-bce9-e3daab43321f",
   "metadata": {},
   "outputs": [],
   "source": [
    "pd.set_option(\"display.max_rows\", None,\n",
    "             \"display.max_columns\", None)"
   ]
  },
  {
   "cell_type": "code",
   "execution_count": 10,
   "id": "e1be6d57-4958-47c6-af1c-8b6ce5815313",
   "metadata": {},
   "outputs": [],
   "source": [
    "ds=pd.read_csv(\"/Users/ecemdenizbabaoglan/Desktop/TOBBETU/yap470/boston.csv\")"
   ]
  },
  {
   "cell_type": "code",
   "execution_count": 11,
   "id": "8641aac5-c1c3-4a4c-8c5e-99e58d29410a",
   "metadata": {},
   "outputs": [],
   "source": [
    "target=ds.loc[:,'MEDV'].copy()\n",
    "data=ds.drop('MEDV', axis=1).copy()"
   ]
  },
  {
   "cell_type": "code",
   "execution_count": 12,
   "id": "9c89ab9e-fc40-49f9-a71d-07333eb2c44a",
   "metadata": {},
   "outputs": [],
   "source": [
    "w1=initialize(data)"
   ]
  },
  {
   "cell_type": "code",
   "execution_count": 13,
   "id": "af1d1e6a-bbee-4173-9d96-e0a1bdcbc3a5",
   "metadata": {},
   "outputs": [],
   "source": [
    "scaler=MinMaxScaler()\n",
    "data_normalized=scaler.fit_transform(data)\n",
    "target=target.to_numpy()"
   ]
  },
  {
   "cell_type": "code",
   "execution_count": 14,
   "id": "197a5d19-808b-4941-8685-4ef731e79e02",
   "metadata": {},
   "outputs": [],
   "source": [
    "cutoff = int(len(data) * 0.8)\n",
    "x_train, x_test = data_normalized[:cutoff], data_normalized[cutoff:]\n",
    "y_train, y_test = target[:cutoff], target[cutoff:]"
   ]
  },
  {
   "cell_type": "code",
   "execution_count": 15,
   "id": "a869605c-6dbd-42f9-97d5-62927d749a00",
   "metadata": {},
   "outputs": [],
   "source": [
    "epochs=1000;"
   ]
  },
  {
   "cell_type": "code",
   "execution_count": 16,
   "id": "e654e666-02ac-48c8-8bf0-89b351718dee",
   "metadata": {},
   "outputs": [],
   "source": [
    "lr=0.01"
   ]
  },
  {
   "cell_type": "code",
   "execution_count": 17,
   "id": "c75a7ece-d4ff-4f6c-856a-087aaf47ad5f",
   "metadata": {},
   "outputs": [],
   "source": [
    "output=np.zeros((13,404))\n",
    "predicted=np.zeros((1,404))"
   ]
  },
  {
   "cell_type": "code",
   "execution_count": 19,
   "id": "2c855910-63c5-4975-8128-43ac3a7e2f40",
   "metadata": {},
   "outputs": [
    {
     "name": "stdout",
     "output_type": "stream",
     "text": [
      "[0.         0.18       0.06781525 0.         0.31481481 0.57750527\n",
      " 0.64160659 0.26920314 0.         0.20801527 0.28723404 1.\n",
      " 0.08967991]\n"
     ]
    },
    {
     "ename": "ValueError",
     "evalue": "could not broadcast input array from shape (13,13) into shape (404,)",
     "output_type": "error",
     "traceback": [
      "\u001b[0;31m---------------------------------------------------------------------------\u001b[0m",
      "\u001b[0;31mValueError\u001b[0m                                Traceback (most recent call last)",
      "Input \u001b[0;32mIn [19]\u001b[0m, in \u001b[0;36m<cell line: 1>\u001b[0;34m()\u001b[0m\n\u001b[1;32m      2\u001b[0m \u001b[38;5;28;01mfor\u001b[39;00m i \u001b[38;5;129;01min\u001b[39;00m \u001b[38;5;28mrange\u001b[39m(\u001b[38;5;28mlen\u001b[39m(y_train)):   \n\u001b[1;32m      3\u001b[0m     \u001b[38;5;28mprint\u001b[39m(x_train[i])\n\u001b[0;32m----> 4\u001b[0m     output[i]\u001b[38;5;241m=\u001b[39mforward_prop(w1, np\u001b[38;5;241m.\u001b[39mreshape(x_train[i],(\u001b[38;5;241m13\u001b[39m,\u001b[38;5;241m1\u001b[39m)))\n\u001b[1;32m      6\u001b[0m     \u001b[38;5;28mprint\u001b[39m(w1)\n\u001b[1;32m      7\u001b[0m     \u001b[38;5;28mprint\u001b[39m(output[i])\n",
      "\u001b[0;31mValueError\u001b[0m: could not broadcast input array from shape (13,13) into shape (404,)"
     ]
    }
   ],
   "source": [
    "for e in range(epochs):\n",
    "    for i in range(len(y_train)):   \n",
    "        print(x_train[i])\n",
    "        output[i]=forward_prop(w1,x_train[i])\n",
    "        \n",
    "        print(w1)\n",
    "        print(output[i])\n",
    "        predicted[i]= output[i].sum(axis=1)\n",
    "        w1=back_prop(w1, x_train[i], y_train[i], predicted[i], lr)\n"
   ]
  },
  {
   "cell_type": "code",
   "execution_count": null,
   "id": "4f5177ca-103f-4fd3-8151-dff6ebdc4733",
   "metadata": {},
   "outputs": [],
   "source": []
  },
  {
   "cell_type": "code",
   "execution_count": null,
   "id": "29b4bebf-e14b-411d-8ba5-ae525dd9cbd1",
   "metadata": {},
   "outputs": [],
   "source": []
  },
  {
   "cell_type": "code",
   "execution_count": null,
   "id": "cf0b0bb3-9a31-4aa1-bf00-acb31016d728",
   "metadata": {},
   "outputs": [],
   "source": [
    "print(predicted)"
   ]
  },
  {
   "cell_type": "code",
   "execution_count": null,
   "id": "602338c9-5fa1-489f-82ab-6ce9f1eaff32",
   "metadata": {},
   "outputs": [],
   "source": [
    "print(y_train)"
   ]
  },
  {
   "cell_type": "code",
   "execution_count": null,
   "id": "7336d61e-0bf4-4a46-b815-ba52d85b9713",
   "metadata": {},
   "outputs": [],
   "source": [
    "print(bias.shape)"
   ]
  }
 ],
 "metadata": {
  "kernelspec": {
   "display_name": "Python 3 (ipykernel)",
   "language": "python",
   "name": "python3"
  },
  "language_info": {
   "codemirror_mode": {
    "name": "ipython",
    "version": 3
   },
   "file_extension": ".py",
   "mimetype": "text/x-python",
   "name": "python",
   "nbconvert_exporter": "python",
   "pygments_lexer": "ipython3",
   "version": "3.9.12"
  }
 },
 "nbformat": 4,
 "nbformat_minor": 5
}
