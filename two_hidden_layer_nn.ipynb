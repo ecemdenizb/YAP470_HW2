{
 "cells": [
  {
   "cell_type": "code",
   "execution_count": 1,
   "id": "6401df4d-9317-4e31-98da-c95ae0db7483",
   "metadata": {},
   "outputs": [],
   "source": [
    "import numpy as np\n",
    "import pandas as pd    "
   ]
  },
  {
   "cell_type": "code",
   "execution_count": 2,
   "id": "a4360e12-ad2d-41ad-976b-cbca9ee377c6",
   "metadata": {},
   "outputs": [],
   "source": [
    "import matplotlib.pyplot as plt"
   ]
  },
  {
   "cell_type": "code",
   "execution_count": 3,
   "id": "4e3d67b7-f632-4e4a-87b4-edd75e59a852",
   "metadata": {},
   "outputs": [],
   "source": [
    "#Dying relu-> learning rate büyük olduğunda, epoch sayısı fazla olduğunda\n",
    "# ama epoch azken de eğitmeyebiliyor"
   ]
  },
  {
   "cell_type": "code",
   "execution_count": 4,
   "id": "32e2bb22-b417-48a0-8622-bc2daf5414e3",
   "metadata": {},
   "outputs": [],
   "source": [
    "def relu(x):\n",
    "    return np.maximum(0,x)"
   ]
  },
  {
   "cell_type": "code",
   "execution_count": 5,
   "id": "3974b969-c130-4d61-835b-1b48779cf843",
   "metadata": {},
   "outputs": [],
   "source": [
    "def deriv_relu(x):\n",
    "    der=list()\n",
    "    der.clear()\n",
    "    for val in x:\n",
    "        if val>0:\n",
    "            der.append(1)\n",
    "        else:\n",
    "            der.append(0)\n",
    "    return der"
   ]
  },
  {
   "cell_type": "code",
   "execution_count": 6,
   "id": "341f82fb-4fd2-4633-b3d9-083c122d8a92",
   "metadata": {},
   "outputs": [],
   "source": [
    "def initialize(x, neuron_num1, neuron_num2):\n",
    "    np.random.seed(12345)\n",
    "    w1=2*np.random.random((len(x.columns), neuron_num1))-1\n",
    "    w2=2*np.random.random((neuron_num1, neuron_num2))-1\n",
    "    w3=2*np.random.random((neuron_num2, 1))-1\n",
    "    bias1=2*np.random.random()-1\n",
    "    bias2=2*np.random.random()-1\n",
    "    bias3=2*np.random.random()-1\n",
    "    return w1, w2, w3, bias1, bias2, bias3"
   ]
  },
  {
   "cell_type": "code",
   "execution_count": 7,
   "id": "68e8da3c-d98e-4bf6-9742-b2766bad81c8",
   "metadata": {},
   "outputs": [],
   "source": [
    "def forward_prop(w1, w2, w3, bias1, bias2, bias3, x): \n",
    "    x=x.reshape(13,1)\n",
    "    z1=np.dot(w1.T,x)+bias1\n",
    "    out1=relu(z1)\n",
    "    z2=np.dot(w2.T,out1)+bias2\n",
    "    out2=relu(z2) \n",
    "    z3=np.dot(w3.T,out2)+bias3\n",
    "    out3=relu(z3)\n",
    "    return z1, out1, z2, out2, z3, out3 "
   ]
  },
  {
   "cell_type": "code",
   "execution_count": 8,
   "id": "12e89975-2aa6-4325-8dba-dbdda0ad279c",
   "metadata": {},
   "outputs": [],
   "source": [
    "def back_prop(w1, w2, w3, bias1, bias2, bias3, x, y, z1, out1, z2, out2, z3, out3, lr):\n",
    "    x=x.reshape(13,1)\n",
    "    \n",
    "    err_3=2*(np.subtract(out3.sum(axis=0), y))\n",
    "    dummy_3=np.array(deriv_relu(z3)).reshape(len(z3),1)\n",
    "    dc_dw3=lr*np.dot(out2,dummy_3)*err_3\n",
    "    w3=np.subtract(w3,dc_dw3)\n",
    "    dc_db3=lr*err_3\n",
    "    bias3-=dc_db3\n",
    "    \n",
    "    \n",
    "    err_2=2*(np.subtract(out2.sum(axis=0), y)) # karenin turevi oldugu icin 2*(y_pred-y_act)\n",
    "    dummy_2=np.array(deriv_relu(z2)).reshape(len(z2),1)\n",
    "    dc_dw2=lr*np.dot(out1,dummy_2.T)*err_2\n",
    "    w2=np.subtract(w2,dc_dw2)\n",
    "    dc_db2=lr*err_2\n",
    "    bias2-=dc_db2\n",
    "\n",
    "    err_1= 2*(np.subtract(out1.sum(axis=0), y))\n",
    "    dummy_1=np.array(deriv_relu(z1)).reshape(len(z1),1)\n",
    "    dc_dw1=lr*np.dot(x,dummy_1.T)*err_1\n",
    "    w1=np.subtract(w1,dc_dw1)\n",
    "    dc_db1=lr*err_1\n",
    "    bias1-=dc_db1\n",
    "    return w1, w2, w3, bias1, bias2, bias3"
   ]
  },
  {
   "cell_type": "code",
   "execution_count": 9,
   "id": "804904bb-3b2d-440d-8f7a-8c6e9941a0ab",
   "metadata": {},
   "outputs": [],
   "source": [
    "pd.set_option(\"display.max_rows\", None,\n",
    "             \"display.max_columns\", None)"
   ]
  },
  {
   "cell_type": "code",
   "execution_count": 10,
   "id": "3f1a971a-d4db-4eeb-b218-11418b8d875c",
   "metadata": {},
   "outputs": [],
   "source": [
    "PATH=\"/Users/ecemdenizbabaoglan/Desktop/TOBBETU/yap470/housing.csv\" #Buraya housing.csv dosyasının bilgisayardaki yolu girilmelidir"
   ]
  },
  {
   "cell_type": "code",
   "execution_count": 11,
   "id": "da6d8609-582c-4bbb-a28d-1dc01f19c760",
   "metadata": {},
   "outputs": [],
   "source": [
    "columns=(\"CRIM\",\"ZN\", \"INDUS\", \"CHAS\", \"NOX\", \"RM\", \"AGE\", \"DIS\", \"RAD\", \"TAX\", \"PTRATIO\", \"B\", \"LSTAT\", \"MEDV\")"
   ]
  },
  {
   "cell_type": "code",
   "execution_count": 12,
   "id": "a9ce2662-b50f-4fba-aac4-b687367c4dd2",
   "metadata": {},
   "outputs": [],
   "source": [
    "ds=pd.read_csv(PATH, sep='\\s+', engine='python', names=columns)"
   ]
  },
  {
   "cell_type": "code",
   "execution_count": 13,
   "id": "5274e5c3-1be4-456a-b1c8-654b3c8f0f8a",
   "metadata": {},
   "outputs": [],
   "source": [
    "target=ds.loc[:,'MEDV'].copy()\n",
    "data=ds.drop('MEDV', axis=1).copy()"
   ]
  },
  {
   "cell_type": "code",
   "execution_count": 14,
   "id": "be316773-0e74-4e0d-8941-025ce47c8874",
   "metadata": {},
   "outputs": [],
   "source": [
    "neuron_num1=10\n",
    "neuron_num2=3"
   ]
  },
  {
   "cell_type": "code",
   "execution_count": 15,
   "id": "37b551ba-6b7a-4d58-b570-7ef06d5d78b7",
   "metadata": {},
   "outputs": [],
   "source": [
    "w1, w2, w3, bias1, bias2, bias3 = initialize(data, neuron_num1, neuron_num2)"
   ]
  },
  {
   "cell_type": "code",
   "execution_count": 16,
   "id": "01c05337-719f-4608-bbd6-5a03bead6f7a",
   "metadata": {},
   "outputs": [],
   "source": [
    "data_normalized = ((data - data.mean()) / data.std(ddof=0)).to_numpy()\n",
    "target=target.to_numpy()"
   ]
  },
  {
   "cell_type": "code",
   "execution_count": 17,
   "id": "b04d0ca1-fcd8-410a-bdb6-c351c8665829",
   "metadata": {},
   "outputs": [],
   "source": [
    "cutoff = int(len(data) * 0.8)\n",
    "x_train, x_test = data_normalized[:cutoff], data_normalized[cutoff:]\n",
    "y_train, y_test = target[:cutoff], target[cutoff:]"
   ]
  },
  {
   "cell_type": "code",
   "execution_count": 18,
   "id": "83d8e783-d406-4c14-b84e-bcd586d19265",
   "metadata": {},
   "outputs": [],
   "source": [
    "epochs=40\n",
    "lr=0.0001"
   ]
  },
  {
   "cell_type": "code",
   "execution_count": 19,
   "id": "1ccc3144-0b6f-419e-bc0f-db60268a2602",
   "metadata": {},
   "outputs": [],
   "source": [
    "train_loss_epoch=list()\n",
    "test_loss_epoch=list()\n",
    "out_test=list()"
   ]
  },
  {
   "cell_type": "code",
   "execution_count": 20,
   "id": "ed71ff6d-e235-45ea-ada2-8f76f7ffa28a",
   "metadata": {},
   "outputs": [],
   "source": [
    "for e in range(epochs):\n",
    "    loss_train=0\n",
    "    loss_test=0\n",
    "    for i in range(len(y_train)):   \n",
    "        z1, out1, z2, out2, z3, out3= forward_prop(w1, w2, w3, bias1, bias2, bias3, x_train[i])\n",
    "        w1, w2, w3, bias1, bias2, bias3 = back_prop(w1, w2, w3, bias1, bias2, bias3, x_train[i], y_train[i], z1,\n",
    "                                                    out1, z2, out2, z3, out3, lr)\n",
    "        loss_train+=np.square(y_train[i]-(out3.sum(axis=0)))\n",
    "        \n",
    "    train_loss_epoch.append(loss_train/(len(y_train)))\n",
    "         \n",
    "    for i in range(len(y_test)):\n",
    "        z_test1, out_test1, z_test2, out_test2, z_test3, out_test3=forward_prop(w1, w2, w3, bias1, bias2, bias3, x_test[i])\n",
    "        out_test.append(out_test3)\n",
    "        loss_test+=np.square(y_test[i]-(out_test3.sum(axis=0)))\n",
    "\n",
    "    test_loss_epoch.append(loss_test/(len(y_test)))"
   ]
  },
  {
   "cell_type": "code",
   "execution_count": 21,
   "id": "676cac94-f244-4472-b438-845dbfe6be76",
   "metadata": {},
   "outputs": [
    {
     "data": {
      "image/png": "[encoded data removed]",
      "text/plain": [
       "<Figure size 432x288 with 1 Axes>"
      ]
     },
     "metadata": {
      "needs_background": "light"
     },
     "output_type": "display_data"
    }
   ],
   "source": [
    "plt.scatter(range(epochs),train_loss_epoch, color='blue',label='Train Loss')\n",
    "plt.scatter(range(epochs),test_loss_epoch, color='red', label='Test Loss')\n",
    "plt.xlabel(\"epoch\")\n",
    "plt.ylabel(\"Mean Squared Error\")\n",
    "plt.title(\"2 Gizli Katman Kayıp Grafiği\")\n",
    "plt.legend(loc=\"upper right\")\n",
    "#plt.savefig(\"2-hl.jpg\")\n",
    "plt.show()"
   ]
  },
  {
   "cell_type": "code",
   "execution_count": 22,
   "id": "efa1ba3b-b7c6-4463-bde8-f7557d219213",
   "metadata": {},
   "outputs": [
    {
     "name": "stdout",
     "output_type": "stream",
     "text": [
      "[22.71153707]\n"
     ]
    }
   ],
   "source": [
    "train=sum(train_loss_epoch)/len(train_loss_epoch)\n",
    "print(train)"
   ]
  },
  {
   "cell_type": "code",
   "execution_count": 23,
   "id": "de2d3626-e6f7-40fb-a871-978fce181508",
   "metadata": {},
   "outputs": [
    {
     "name": "stdout",
     "output_type": "stream",
     "text": [
      "[29.83086334]\n"
     ]
    }
   ],
   "source": [
    "test=sum(test_loss_epoch)/len(test_loss_epoch)\n",
    "print(test)"
   ]
  },
  {
   "cell_type": "code",
   "execution_count": 24,
   "id": "0e0c09c7-5018-4794-89d7-73e7c367a162",
   "metadata": {},
   "outputs": [
    {
     "name": "stdout",
     "output_type": "stream",
     "text": [
      "8.5 [[14.44608328]]\n",
      "5.0 [[21.63810195]]\n",
      "11.9 [[12.50594362]]\n",
      "27.9 [[10.85719914]]\n",
      "17.2 [[9.16430084]]\n",
      "27.5 [[8.72020299]]\n",
      "15.0 [[10.8600375]]\n",
      "17.2 [[5.35992376]]\n",
      "17.9 [[7.18054127]]\n",
      "16.3 [[10.64945343]]\n",
      "7.0 [[12.16007257]]\n",
      "7.2 [[5.38564668]]\n",
      "7.5 [[4.00347912]]\n",
      "10.4 [[7.92245209]]\n",
      "8.8 [[15.24067124]]\n",
      "8.4 [[4.07147566]]\n",
      "16.7 [[10.81056265]]\n",
      "14.2 [[9.45018906]]\n",
      "20.8 [[8.28007525]]\n",
      "13.4 [[3.12394122]]\n",
      "11.7 [[2.39435024]]\n",
      "8.3 [[3.97773734]]\n",
      "10.2 [[2.14978074]]\n",
      "10.9 [[8.05760463]]\n",
      "11.0 [[4.00455964]]\n",
      "9.5 [[4.54186313]]\n",
      "14.5 [[3.99694244]]\n",
      "14.1 [[4.86197845]]\n",
      "16.1 [[3.21050364]]\n",
      "14.3 [[4.35462636]]\n",
      "11.7 [[6.00355932]]\n",
      "13.4 [[5.72793483]]\n",
      "9.6 [[5.16221166]]\n",
      "8.7 [[4.45776913]]\n",
      "8.4 [[5.74585435]]\n",
      "12.8 [[11.10792009]]\n",
      "10.5 [[13.23178575]]\n",
      "17.1 [[11.8080481]]\n",
      "18.4 [[12.58924489]]\n",
      "15.4 [[12.53626773]]\n",
      "10.8 [[8.67121511]]\n",
      "11.8 [[4.44200105]]\n",
      "14.9 [[9.54151576]]\n",
      "12.6 [[12.02612139]]\n",
      "14.1 [[11.67094484]]\n",
      "13.0 [[9.49222654]]\n",
      "13.4 [[4.24633284]]\n",
      "15.2 [[11.11084358]]\n",
      "16.1 [[10.78409917]]\n",
      "17.8 [[14.30058844]]\n",
      "14.9 [[4.47371537]]\n",
      "14.1 [[3.8617336]]\n",
      "12.7 [[2.80857219]]\n",
      "13.5 [[2.91294334]]\n",
      "14.9 [[6.97796851]]\n",
      "20.0 [[10.14158976]]\n",
      "16.4 [[7.17301093]]\n",
      "17.7 [[11.10886399]]\n",
      "19.5 [[10.68087402]]\n",
      "20.2 [[12.41748476]]\n",
      "21.4 [[8.12896884]]\n",
      "19.9 [[4.627353]]\n",
      "19.0 [[2.50395434]]\n",
      "19.1 [[8.21447153]]\n",
      "19.1 [[8.27431585]]\n",
      "20.1 [[6.93765737]]\n",
      "19.9 [[8.25788358]]\n",
      "19.6 [[9.11291819]]\n",
      "23.2 [[8.64411685]]\n",
      "29.8 [[10.92199279]]\n",
      "13.8 [[8.86302592]]\n",
      "13.3 [[8.59963024]]\n",
      "16.7 [[10.63033454]]\n",
      "12.0 [[10.64667337]]\n",
      "14.6 [[10.89001877]]\n",
      "21.4 [[10.9723817]]\n",
      "23.0 [[7.55214775]]\n",
      "23.7 [[11.10569106]]\n",
      "25.0 [[13.11137699]]\n",
      "21.8 [[4.95330306]]\n",
      "20.6 [[4.74887943]]\n",
      "21.2 [[7.27116537]]\n",
      "19.1 [[7.34244187]]\n",
      "20.6 [[5.6878718]]\n",
      "15.2 [[14.50031558]]\n",
      "7.0 [[12.3864277]]\n",
      "8.1 [[12.22401092]]\n",
      "13.6 [[16.16247691]]\n",
      "20.1 [[15.56580215]]\n",
      "21.8 [[6.70261785]]\n",
      "24.5 [[6.94234503]]\n",
      "23.1 [[5.75555385]]\n",
      "19.7 [[5.73767557]]\n",
      "18.3 [[6.63542551]]\n",
      "21.2 [[7.8721337]]\n",
      "17.5 [[7.0587858]]\n",
      "16.8 [[7.97985446]]\n",
      "22.4 [[14.1260355]]\n",
      "20.6 [[12.57137582]]\n",
      "23.9 [[20.3709301]]\n",
      "22.0 [[18.42707315]]\n",
      "11.9 [[12.74112836]]\n"
     ]
    }
   ],
   "source": [
    "for i in range(len(y_test)):\n",
    "    print(y_test[i], out_test[i])"
   ]
  }
 ],
 "metadata": {
  "kernelspec": {
   "display_name": "Python 3 (ipykernel)",
   "language": "python",
   "name": "python3"
  },
  "language_info": {
   "codemirror_mode": {
    "name": "ipython",
    "version": 3
   },
   "file_extension": ".py",
   "mimetype": "text/x-python",
   "name": "python",
   "nbconvert_exporter": "python",
   "pygments_lexer": "ipython3",
   "version": "3.9.12"
  }
 },
 "nbformat": 4,
 "nbformat_minor": 5
}
