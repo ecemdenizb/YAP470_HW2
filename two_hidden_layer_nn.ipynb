{
 "cells": [
  {
   "cell_type": "code",
   "execution_count": 1,
   "id": "6401df4d-9317-4e31-98da-c95ae0db7483",
   "metadata": {},
   "outputs": [],
   "source": [
    "import numpy as np\n",
    "import pandas as pd    "
   ]
  },
  {
   "cell_type": "code",
   "execution_count": 2,
   "id": "a4360e12-ad2d-41ad-976b-cbca9ee377c6",
   "metadata": {},
   "outputs": [],
   "source": [
    "import matplotlib.pyplot as plt"
   ]
  },
  {
   "cell_type": "code",
   "execution_count": 3,
   "id": "4e3d67b7-f632-4e4a-87b4-edd75e59a852",
   "metadata": {},
   "outputs": [],
   "source": [
    "#Dying relu-> learning rate büyük olduğunda, epoch sayısı fazla olduğunda\n",
    "# ama epoch azken de eğitmeyebiliyor"
   ]
  },
  {
   "cell_type": "code",
   "execution_count": 4,
   "id": "32e2bb22-b417-48a0-8622-bc2daf5414e3",
   "metadata": {},
   "outputs": [],
   "source": [
    "def relu(x):\n",
    "    return np.maximum(0,x)"
   ]
  },
  {
   "cell_type": "code",
   "execution_count": 5,
   "id": "3974b969-c130-4d61-835b-1b48779cf843",
   "metadata": {},
   "outputs": [],
   "source": [
    "def deriv_relu(x):\n",
    "    der=list()\n",
    "    der.clear()\n",
    "    for val in x:\n",
    "        if val>0:\n",
    "            der.append(1)\n",
    "        else:\n",
    "            der.append(0)\n",
    "    return der"
   ]
  },
  {
   "cell_type": "code",
   "execution_count": 6,
   "id": "341f82fb-4fd2-4633-b3d9-083c122d8a92",
   "metadata": {},
   "outputs": [],
   "source": [
    "def initialize(x, neuron_num1, neuron_num2):\n",
    "    np.random.seed(12345)\n",
    "    w1=2*np.random.random((len(x.columns), neuron_num1))-1\n",
    "    w2=2*np.random.random((neuron_num1, neuron_num2))-1\n",
    "    w3=2*np.random.random((neuron_num2, 1))-1\n",
    "    bias1=2*np.random.random()-1\n",
    "    bias2=2*np.random.random()-1\n",
    "    bias3=2*np.random.random()-1\n",
    "    return w1, w2, w3, bias1, bias2, bias3"
   ]
  },
  {
   "cell_type": "code",
   "execution_count": 7,
   "id": "68e8da3c-d98e-4bf6-9742-b2766bad81c8",
   "metadata": {},
   "outputs": [],
   "source": [
    "def forward_prop(w1, w2, w3, bias1, bias2, bias3, x): \n",
    "    x=x.reshape(13,1)\n",
    "    z1=np.dot(w1.T,x)+bias1\n",
    "    out1=relu(z1)\n",
    "    z2=np.dot(w2.T,out1)+bias2\n",
    "    out2=relu(z2) \n",
    "    z3=np.dot(w3.T,out2)+bias3\n",
    "    out3=relu(z3)\n",
    "    return z1, out1, z2, out2, z3, out3 "
   ]
  },
  {
   "cell_type": "code",
   "execution_count": 8,
   "id": "12e89975-2aa6-4325-8dba-dbdda0ad279c",
   "metadata": {},
   "outputs": [],
   "source": [
    "def back_prop(w1, w2, w3, bias1, bias2, bias3, x, y, z1, out1, z2, out2, z3, out3, lr):\n",
    "    x=x.reshape(13,1)\n",
    "    \n",
    "    err_3=2*(np.subtract(out3.sum(axis=0), y))\n",
    "    dummy_3=np.array(deriv_relu(z3)).reshape(len(z3),1)\n",
    "    dc_dw3=lr*np.dot(out2,dummy_3)*err_3\n",
    "    w3=np.subtract(w3,dc_dw3)\n",
    "    dc_db3=lr*err_3\n",
    "    bias3-=dc_db3\n",
    "    \n",
    "    \n",
    "    err_2=2*(np.subtract(out2.sum(axis=0), y)) # karenin turevi oldugu icin 2*(y_pred-y_act)\n",
    "    dummy_2=np.array(deriv_relu(z2)).reshape(len(z2),1)\n",
    "    dc_dw2=lr*np.dot(out1,dummy_2.T)*err_2\n",
    "    w2=np.subtract(w2,dc_dw2)\n",
    "    dc_db2=lr*err_2\n",
    "    bias2-=dc_db2\n",
    "\n",
    "    err_1= 2*(np.subtract(out1.sum(axis=0), y))\n",
    "    dummy_1=np.array(deriv_relu(z1)).reshape(len(z1),1)\n",
    "    dc_dw1=lr*np.dot(x,dummy_1.T)*err_1\n",
    "    w1=np.subtract(w1,dc_dw1)\n",
    "    dc_db1=lr*err_1\n",
    "    bias1-=dc_db1\n",
    "    return w1, w2, w3, bias1, bias2, bias3"
   ]
  },
  {
   "cell_type": "code",
   "execution_count": 9,
   "id": "804904bb-3b2d-440d-8f7a-8c6e9941a0ab",
   "metadata": {},
   "outputs": [],
   "source": [
    "pd.set_option(\"display.max_rows\", None,\n",
    "             \"display.max_columns\", None)"
   ]
  },
  {
   "cell_type": "code",
   "execution_count": 10,
   "id": "3f1a971a-d4db-4eeb-b218-11418b8d875c",
   "metadata": {},
   "outputs": [],
   "source": [
    "PATH=\"/Users/ecemdenizbabaoglan/Desktop/TOBBETU/yap470/housing.csv\" #Buraya housing.csv dosyasının bilgisayardaki yolu girilmelidir"
   ]
  },
  {
   "cell_type": "code",
   "execution_count": 11,
   "id": "da6d8609-582c-4bbb-a28d-1dc01f19c760",
   "metadata": {},
   "outputs": [],
   "source": [
    "columns=(\"CRIM\",\"ZN\", \"INDUS\", \"CHAS\", \"NOX\", \"RM\", \"AGE\", \"DIS\", \"RAD\", \"TAX\", \"PTRATIO\", \"B\", \"LSTAT\", \"MEDV\")"
   ]
  },
  {
   "cell_type": "code",
   "execution_count": 12,
   "id": "a9ce2662-b50f-4fba-aac4-b687367c4dd2",
   "metadata": {},
   "outputs": [],
   "source": [
    "ds=pd.read_csv(PATH, sep='\\s+', engine='python', names=columns)"
   ]
  },
  {
   "cell_type": "code",
   "execution_count": 13,
   "id": "5274e5c3-1be4-456a-b1c8-654b3c8f0f8a",
   "metadata": {},
   "outputs": [],
   "source": [
    "target=ds.loc[:,'MEDV'].copy()\n",
    "data=ds.drop('MEDV', axis=1).copy()"
   ]
  },
  {
   "cell_type": "code",
   "execution_count": 14,
   "id": "be316773-0e74-4e0d-8941-025ce47c8874",
   "metadata": {},
   "outputs": [],
   "source": [
    "neuron_num1=12\n",
    "neuron_num2=12"
   ]
  },
  {
   "cell_type": "code",
   "execution_count": 15,
   "id": "37b551ba-6b7a-4d58-b570-7ef06d5d78b7",
   "metadata": {},
   "outputs": [],
   "source": [
    "w1, w2, w3, bias1, bias2, bias3 = initialize(data, neuron_num1, neuron_num2)"
   ]
  },
  {
   "cell_type": "code",
   "execution_count": 16,
   "id": "01c05337-719f-4608-bbd6-5a03bead6f7a",
   "metadata": {},
   "outputs": [],
   "source": [
    "data_normalized = ((data - data.mean()) / data.std(ddof=0)).to_numpy()\n",
    "target=target.to_numpy()"
   ]
  },
  {
   "cell_type": "code",
   "execution_count": 17,
   "id": "b04d0ca1-fcd8-410a-bdb6-c351c8665829",
   "metadata": {},
   "outputs": [],
   "source": [
    "cutoff = int(len(data) * 0.8)\n",
    "x_train, x_test = data_normalized[:cutoff], data_normalized[cutoff:]\n",
    "y_train, y_test = target[:cutoff], target[cutoff:]"
   ]
  },
  {
   "cell_type": "code",
   "execution_count": 18,
   "id": "83d8e783-d406-4c14-b84e-bcd586d19265",
   "metadata": {},
   "outputs": [],
   "source": [
    "epochs=400\n",
    "lr=0.00001"
   ]
  },
  {
   "cell_type": "code",
   "execution_count": 19,
   "id": "1ccc3144-0b6f-419e-bc0f-db60268a2602",
   "metadata": {},
   "outputs": [],
   "source": [
    "train_loss_epoch=list()\n",
    "test_loss_epoch=list()\n",
    "out_test=list()"
   ]
  },
  {
   "cell_type": "code",
   "execution_count": 20,
   "id": "ed71ff6d-e235-45ea-ada2-8f76f7ffa28a",
   "metadata": {},
   "outputs": [],
   "source": [
    "for e in range(epochs):\n",
    "    loss_train=0\n",
    "    loss_test=0\n",
    "    for i in range(len(y_train)):   \n",
    "        z1, out1, z2, out2, z3, out3= forward_prop(w1, w2, w3, bias1, bias2, bias3, x_train[i])\n",
    "        w1, w2, w3, bias1, bias2, bias3 = back_prop(w1, w2, w3, bias1, bias2, bias3, x_train[i], y_train[i], z1,\n",
    "                                                    out1, z2, out2, z3, out3, lr)\n",
    "        loss_train+=np.square(y_train[i]-(out3.sum(axis=0)))\n",
    "        \n",
    "    train_loss_epoch.append(loss_train/(len(y_train)))\n",
    "         \n",
    "    for i in range(len(y_test)):\n",
    "        z_test1, out_test1, z_test2, out_test2, z_test3, out_test3=forward_prop(w1, w2, w3, bias1, bias2, bias3, x_test[i])\n",
    "        out_test.append(out_test3)\n",
    "        loss_test+=np.square(y_test[i]-(out_test3.sum(axis=0)))\n",
    "\n",
    "    test_loss_epoch.append(loss_test/(len(y_test)))"
   ]
  },
  {
   "cell_type": "code",
   "execution_count": 21,
   "id": "676cac94-f244-4472-b438-845dbfe6be76",
   "metadata": {},
   "outputs": [
    {
     "data": {
      "image/png": "[encoded data removed]",
      "text/plain": [
       "<Figure size 432x288 with 1 Axes>"
      ]
     },
     "metadata": {
      "needs_background": "light"
     },
     "output_type": "display_data"
    }
   ],
   "source": [
    "plt.scatter(range(epochs),train_loss_epoch, color='blue',label='Train Loss')\n",
    "plt.scatter(range(epochs),test_loss_epoch, color='red', label='Test Loss')\n",
    "plt.xlabel(\"epoch\")\n",
    "plt.ylabel(\"Mean Squared Error\")\n",
    "plt.title(\"2 Gizli Katman Kayıp Grafiği (lr=0.000001)\")\n",
    "plt.legend(loc=\"upper right\")\n",
    "#plt.savefig(\"2-hl-lr000001.jpg\")\n",
    "plt.show()"
   ]
  },
  {
   "cell_type": "code",
   "execution_count": 22,
   "id": "efa1ba3b-b7c6-4463-bde8-f7557d219213",
   "metadata": {},
   "outputs": [
    {
     "name": "stdout",
     "output_type": "stream",
     "text": [
      "[17.21537575]\n"
     ]
    }
   ],
   "source": [
    "train=sum(train_loss_epoch)/len(train_loss_epoch)\n",
    "print(train)"
   ]
  },
  {
   "cell_type": "code",
   "execution_count": 23,
   "id": "de2d3626-e6f7-40fb-a871-978fce181508",
   "metadata": {},
   "outputs": [
    {
     "name": "stdout",
     "output_type": "stream",
     "text": [
      "[18.32953712]\n"
     ]
    }
   ],
   "source": [
    "test=sum(test_loss_epoch)/len(test_loss_epoch)\n",
    "print(test)"
   ]
  },
  {
   "cell_type": "code",
   "execution_count": 24,
   "id": "0e0c09c7-5018-4794-89d7-73e7c367a162",
   "metadata": {},
   "outputs": [
    {
     "name": "stdout",
     "output_type": "stream",
     "text": [
      "8.5 [[16.62534719]]\n",
      "5.0 [[26.90326289]]\n",
      "11.9 [[6.08662884]]\n",
      "27.9 [[9.45664141]]\n",
      "17.2 [[9.688752]]\n",
      "27.5 [[15.33042702]]\n",
      "15.0 [[17.40175283]]\n",
      "17.2 [[13.16782377]]\n",
      "17.9 [[5.41192633]]\n",
      "16.3 [[9.05956002]]\n",
      "7.0 [[10.74482824]]\n",
      "7.2 [[12.50771525]]\n",
      "7.5 [[12.50233226]]\n",
      "10.4 [[8.58238982]]\n",
      "8.8 [[27.09141857]]\n",
      "8.4 [[12.19964148]]\n",
      "16.7 [[12.22924321]]\n",
      "14.2 [[9.65403204]]\n",
      "20.8 [[9.20629998]]\n",
      "13.4 [[8.11411568]]\n",
      "11.7 [[4.9321547]]\n",
      "8.3 [[9.03082582]]\n",
      "10.2 [[6.22872261]]\n",
      "10.9 [[15.12987468]]\n",
      "11.0 [[9.02250417]]\n",
      "9.5 [[10.93015855]]\n",
      "14.5 [[10.27709557]]\n",
      "14.1 [[13.25696418]]\n",
      "16.1 [[9.69351433]]\n",
      "14.3 [[10.36521258]]\n",
      "11.7 [[11.25169421]]\n",
      "13.4 [[12.74977321]]\n",
      "9.6 [[11.92683598]]\n",
      "8.7 [[10.50962624]]\n",
      "8.4 [[8.92925178]]\n",
      "12.8 [[10.09982838]]\n",
      "10.5 [[13.01967568]]\n",
      "17.1 [[11.90340402]]\n",
      "18.4 [[10.58046704]]\n",
      "15.4 [[12.31043612]]\n",
      "10.8 [[10.53036676]]\n",
      "11.8 [[11.40687326]]\n",
      "14.9 [[10.98885409]]\n",
      "12.6 [[10.9774483]]\n",
      "14.1 [[11.17630314]]\n",
      "13.0 [[12.11146379]]\n",
      "13.4 [[11.90767628]]\n",
      "15.2 [[12.15121419]]\n",
      "16.1 [[10.23800733]]\n",
      "17.8 [[14.88434565]]\n",
      "14.9 [[12.17526782]]\n",
      "14.1 [[10.43552012]]\n",
      "12.7 [[7.45693959]]\n",
      "13.5 [[7.16389338]]\n",
      "14.9 [[10.32199454]]\n",
      "20.0 [[8.89321711]]\n",
      "16.4 [[11.80239486]]\n",
      "17.7 [[10.00417487]]\n",
      "19.5 [[9.66995439]]\n",
      "20.2 [[10.63271814]]\n",
      "21.4 [[8.57364311]]\n",
      "19.9 [[5.80485922]]\n",
      "19.0 [[6.93657426]]\n",
      "19.1 [[10.21900059]]\n",
      "19.1 [[10.00530986]]\n",
      "20.1 [[7.87952505]]\n",
      "19.9 [[9.75775015]]\n",
      "19.6 [[10.45291321]]\n",
      "23.2 [[9.94236967]]\n",
      "29.8 [[11.55872507]]\n",
      "13.8 [[8.55687425]]\n",
      "13.3 [[11.14806201]]\n",
      "16.7 [[11.77805241]]\n",
      "12.0 [[9.07415631]]\n",
      "14.6 [[11.82742967]]\n",
      "21.4 [[11.49528849]]\n",
      "23.0 [[8.7281666]]\n",
      "23.7 [[11.06978975]]\n",
      "25.0 [[12.09196403]]\n",
      "21.8 [[5.02328422]]\n",
      "20.6 [[5.5253639]]\n",
      "21.2 [[7.25440741]]\n",
      "19.1 [[9.30387353]]\n",
      "20.6 [[6.67776016]]\n",
      "15.2 [[6.95350919]]\n",
      "7.0 [[6.16581199]]\n",
      "8.1 [[6.05267293]]\n",
      "13.6 [[8.67650174]]\n",
      "20.1 [[9.50748094]]\n",
      "21.8 [[3.9426359]]\n",
      "24.5 [[4.5426761]]\n",
      "23.1 [[3.71165804]]\n",
      "19.7 [[2.37488506]]\n",
      "18.3 [[2.27515095]]\n",
      "21.2 [[3.73816588]]\n",
      "17.5 [[2.27030422]]\n",
      "16.8 [[3.0611814]]\n",
      "22.4 [[5.41378846]]\n",
      "20.6 [[4.87149193]]\n",
      "23.9 [[6.30958047]]\n",
      "22.0 [[5.54188166]]\n",
      "11.9 [[4.34290896]]\n"
     ]
    }
   ],
   "source": [
    "for i in range(len(y_test)):\n",
    "    print(y_test[i], out_test[i])"
   ]
  }
 ],
 "metadata": {
  "kernelspec": {
   "display_name": "Python 3 (ipykernel)",
   "language": "python",
   "name": "python3"
  },
  "language_info": {
   "codemirror_mode": {
    "name": "ipython",
    "version": 3
   },
   "file_extension": ".py",
   "mimetype": "text/x-python",
   "name": "python",
   "nbconvert_exporter": "python",
   "pygments_lexer": "ipython3",
   "version": "3.9.12"
  }
 },
 "nbformat": 4,
 "nbformat_minor": 5
}
