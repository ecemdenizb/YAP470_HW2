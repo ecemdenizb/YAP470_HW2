{
 "cells": [
  {
   "cell_type": "code",
   "execution_count": 1,
   "id": "44957c35-0ff4-4bcf-b56f-75218e56d8e1",
   "metadata": {},
   "outputs": [],
   "source": [
    "import pandas as pd\n",
    "import numpy as np"
   ]
  },
  {
   "cell_type": "code",
   "execution_count": 2,
   "id": "f18eab80-dc72-4197-93bd-14d2450b7c2d",
   "metadata": {},
   "outputs": [],
   "source": [
    "from sklearn.preprocessing import MinMaxScaler"
   ]
  },
  {
   "cell_type": "code",
   "execution_count": 3,
   "id": "2da9b9ba-901e-4fe3-8263-c1d911cd5ed8",
   "metadata": {},
   "outputs": [],
   "source": [
    "#sigmoid fonk f(x)=1/(1+exp^-x)\n",
    "def sigmoid(x):\n",
    "    return 1/(1+np.exp(-x))"
   ]
  },
  {
   "cell_type": "code",
   "execution_count": 4,
   "id": "543a19d3-cb39-47a1-8d7c-a07a1239e862",
   "metadata": {},
   "outputs": [],
   "source": [
    "def deriv_sigmoid(x):\n",
    "    return(x*(1-x))"
   ]
  },
  {
   "cell_type": "code",
   "execution_count": 5,
   "id": "6c06167b-dc04-4cdc-9d90-a554cbb9e5c3",
   "metadata": {},
   "outputs": [],
   "source": [
    "def relu(x):\n",
    "    return np.maximum(0,x)"
   ]
  },
  {
   "cell_type": "code",
   "execution_count": 6,
   "id": "c00090f1-505a-4a67-adb5-d99351a0feed",
   "metadata": {},
   "outputs": [],
   "source": [
    "def deriv_relu(x):\n",
    "    der=list()\n",
    "    der.clear()\n",
    "    for val in x:\n",
    "        if val>0:\n",
    "            der.append(1)\n",
    "        else:\n",
    "            der.append(0)\n",
    "    return der"
   ]
  },
  {
   "cell_type": "code",
   "execution_count": 7,
   "id": "b3117669-114f-4de2-a60d-178c58bf3b2c",
   "metadata": {},
   "outputs": [],
   "source": [
    "def leaky_relu(x):\n",
    "    return np.maximum(0.1*x,x)\n",
    "    "
   ]
  },
  {
   "cell_type": "code",
   "execution_count": 8,
   "id": "ca214601-a7b4-418c-9f89-d1efc590cb1f",
   "metadata": {},
   "outputs": [],
   "source": [
    "def deriv_leaky_relu(x):\n",
    "    der=list()\n",
    "    der.clear()\n",
    "    for val in x:\n",
    "        if val>0:\n",
    "            der.append(1)\n",
    "        else:\n",
    "            der.append(0.1)\n",
    "    return der"
   ]
  },
  {
   "cell_type": "code",
   "execution_count": 9,
   "id": "81bd41a9-7893-43be-b9b5-70659d2f3a38",
   "metadata": {},
   "outputs": [],
   "source": [
    "def initialize(x, neuron_num):\n",
    "    np.random.seed(12345)\n",
    "    w1=2*np.random.random((len(x.columns), neuron_num))-1\n",
    "    w2=2*np.random.random((neuron_num, 1))-1\n",
    "    bias1=2*np.random.random()-1\n",
    "    bias2=2*np.random.random()-1\n",
    "    return w1, w2, bias1, bias2"
   ]
  },
  {
   "cell_type": "code",
   "execution_count": 10,
   "id": "869d441e-83fd-4c8f-94ee-3cf82982b7f3",
   "metadata": {},
   "outputs": [],
   "source": [
    "def scaler(data):\n",
    "\n",
    "    flag_min=1000000\n",
    "    flag_max=-1000000\n",
    "    data= data.to_numpy()\n",
    "    \n",
    "    for item in data:\n",
    "        flag_min=np.minimum(item,flag_min)\n",
    "        flag_max=np.maximum(item,flag_max)\n",
    "        \n",
    "    range_=flag_max-flag_min\n",
    "    new_data=pd.DataFrame()\n",
    "    for item in data:\n",
    "        item=(item-flag_min)/range_\n",
    "    return data\n",
    "                  "
   ]
  },
  {
   "cell_type": "code",
   "execution_count": 11,
   "id": "6042b499-82de-4f70-84c3-3535818be284",
   "metadata": {},
   "outputs": [],
   "source": [
    "def forward_prop(w1, w2, bias1, bias2, x):\n",
    "    x=x.reshape(13,1)\n",
    "    z1=np.dot(w1.T,x)+bias1\n",
    "    out1=relu(z1)\n",
    "    #out1=leaky_relu(z1)\n",
    "    z2=np.dot(w2.T,out1)+bias2\n",
    "    out2=relu(z2) \n",
    "    #out2=leaky_relu(z2)\n",
    "    return z1, out1, z2, out2"
   ]
  },
  {
   "cell_type": "code",
   "execution_count": 12,
   "id": "176b7515-9c83-409e-aa4e-f64d1311a8d9",
   "metadata": {},
   "outputs": [],
   "source": [
    "def back_prop(w1, w2, bias1, bias2, x, y, z1, out1, z2, out2, lr):\n",
    "    x=x.reshape(13,1)\n",
    "    err_2=2*(np.subtract(out2.sum(axis=0), y)) # karenin turevi oldugu icin 2*(y_pred-y_act)\n",
    "    dummy_2=np.array(deriv_relu(z2)).reshape(1,1)\n",
    "    #dummy_2=np.array(deriv_leaky_relu(z2)).reshape(1,1)\n",
    "    dc_dw2=lr*np.dot(out1,dummy_2)*err_2\n",
    "    w2=np.subtract(w2,dc_dw2)\n",
    "    dc_db2=lr*err_2\n",
    "    bias2-=dc_db2\n",
    "\n",
    "    err_1= 2*(np.subtract(out1.sum(axis=0), y))\n",
    "    dummy_1=np.array(deriv_relu(z1)).reshape(len(z1),1)\n",
    "    #dummy_1=np.array(deriv_leaky_relu(z1)).reshape(len(z1),1)\n",
    "    dc_dw1=lr*np.dot(x,dummy_1.T)*err_1\n",
    "    w1=np.subtract(w1,dc_dw1)\n",
    "    dc_db1=lr*err_1\n",
    "    bias1-=dc_db1\n",
    "    return w1, w2, bias1, bias2"
   ]
  },
  {
   "cell_type": "code",
   "execution_count": 13,
   "id": "55c56e7d-c520-4c66-af45-b86a430c8113",
   "metadata": {},
   "outputs": [],
   "source": [
    "def forward_prop_test(w1, w2, bias1, bias2, x):\n",
    "    x=x.reshape(13,1)\n",
    "    z1=np.dot(w1.T,x)+bias1\n",
    "    out1=relu(z1)\n",
    "    z2=np.dot(w2.T,out1)+bias2\n",
    "    out2=relu(z2) \n",
    "    return out1"
   ]
  },
  {
   "cell_type": "code",
   "execution_count": 14,
   "id": "60ece8f8-4212-4c6f-bfa1-7dad72a162e2",
   "metadata": {},
   "outputs": [],
   "source": [
    "pd.set_option(\"display.max_rows\", None,\n",
    "             \"display.max_columns\", None)"
   ]
  },
  {
   "cell_type": "code",
   "execution_count": 15,
   "id": "282db331-f99f-4611-861f-dc193f0ff6c8",
   "metadata": {},
   "outputs": [],
   "source": [
    "columns=(\"CRIM\",\"ZN\", \"INDUS\", \"CHAS\", \"NOX\", \"RM\", \"AGE\", \"DIS\", \"RAD\", \"TAX\", \"PTRATIO\", \"B\", \"LSTAT\", \"MEDV\")"
   ]
  },
  {
   "cell_type": "code",
   "execution_count": 16,
   "id": "8e5d960b-1dce-410d-a4eb-ae4ca8a71590",
   "metadata": {},
   "outputs": [],
   "source": [
    "ds=pd.read_csv(\"/Users/ecemdenizbabaoglan/Desktop/TOBBETU/yap470/housing.csv\", sep='\\s+', engine='python', names=columns)"
   ]
  },
  {
   "cell_type": "code",
   "execution_count": 17,
   "id": "f8ddb432-f763-4314-9d56-105d976168c7",
   "metadata": {},
   "outputs": [],
   "source": [
    "#ds.head()"
   ]
  },
  {
   "cell_type": "code",
   "execution_count": 18,
   "id": "477fe23f-8686-4868-a55d-4def9e8c3ad7",
   "metadata": {},
   "outputs": [],
   "source": [
    "#ds.isnull().sum()"
   ]
  },
  {
   "cell_type": "code",
   "execution_count": 19,
   "id": "cf82f01b-3342-46a1-830b-7a4ffab6e175",
   "metadata": {},
   "outputs": [],
   "source": [
    "#ds.describe(include='all')"
   ]
  },
  {
   "cell_type": "code",
   "execution_count": 20,
   "id": "aaee0647-b497-4689-8218-bb9ef012daa9",
   "metadata": {},
   "outputs": [],
   "source": [
    "target=ds.loc[:,'MEDV'].copy()"
   ]
  },
  {
   "cell_type": "code",
   "execution_count": 21,
   "id": "89a3ef46-c5c3-4a39-9db4-aa03809830c7",
   "metadata": {},
   "outputs": [],
   "source": [
    "data=ds.drop('MEDV', axis=1).copy()"
   ]
  },
  {
   "cell_type": "code",
   "execution_count": 22,
   "id": "58f22787-53e9-4c53-a157-6f15dda5b96c",
   "metadata": {},
   "outputs": [],
   "source": [
    "neuron_num=10"
   ]
  },
  {
   "cell_type": "code",
   "execution_count": 23,
   "id": "a08e01c9-dce3-4967-9706-aac0f79ce36d",
   "metadata": {},
   "outputs": [],
   "source": [
    "w1, w2, bias1, bias2=initialize(data,neuron_num)"
   ]
  },
  {
   "cell_type": "code",
   "execution_count": 24,
   "id": "974f39f8-b475-436e-bef6-0a68c2152c48",
   "metadata": {},
   "outputs": [],
   "source": [
    "data_normalized = ((data - data.mean()) / data.std(ddof=0)).to_numpy()\n",
    "target=target.to_numpy()"
   ]
  },
  {
   "cell_type": "code",
   "execution_count": 25,
   "id": "a0e8e18b-89cb-4b13-aea1-c79b68d53863",
   "metadata": {},
   "outputs": [],
   "source": [
    "cutoff = int(len(data) * 0.8)\n",
    "x_train, x_test = data_normalized[:cutoff], data_normalized[cutoff:]\n",
    "y_train, y_test = target[:cutoff], target[cutoff:]"
   ]
  },
  {
   "cell_type": "code",
   "execution_count": 26,
   "id": "f7b4d2c3-97f6-4c78-a385-f3e33c6d4c30",
   "metadata": {},
   "outputs": [],
   "source": [
    "epochs=100"
   ]
  },
  {
   "cell_type": "code",
   "execution_count": 27,
   "id": "54bb1463-9480-4b13-a7c7-ac7fbea7862c",
   "metadata": {},
   "outputs": [],
   "source": [
    "lr=0.00001"
   ]
  },
  {
   "cell_type": "code",
   "execution_count": 28,
   "id": "4114bc90-a258-4493-9a59-39d7d40be2c4",
   "metadata": {},
   "outputs": [],
   "source": [
    "train_loss_epoch=list()\n",
    "test_loss_epoch=list()"
   ]
  },
  {
   "cell_type": "code",
   "execution_count": 29,
   "id": "4988d5c6-b946-47be-b0d8-2ce1a45b7b8e",
   "metadata": {},
   "outputs": [],
   "source": [
    "for e in range(epochs):\n",
    "    loss_train=0\n",
    "    loss_test=0\n",
    "    for i in range(len(y_train)):   \n",
    "        z1, out1, z2, out2= forward_prop(w1, w2, bias1, bias2, x_train[i])\n",
    "        w1, w2, bias1, bias2 = back_prop(w1, w2, bias1, bias2, x_train[i], y_train[i], z1, out1, z2, out2, lr)\n",
    "        loss_train+=np.square(y_train[i]-(out2.sum(axis=0)))\n",
    "   \n",
    "    train_loss_epoch.append(loss_train/(len(y_train)))   \n",
    "    \n",
    "    for i in range(len(y_test)):\n",
    "        z_test1, out_test1, z_test2, out_test2=forward_prop(w1, w2, bias1, bias2, x_test[i])\n",
    "        loss_test+=np.square(y_test[i]-(out_test2.sum(axis=0)))\n",
    "\n",
    "    test_loss_epoch.append(loss_test/(len(y_test)))"
   ]
  },
  {
   "cell_type": "code",
   "execution_count": 37,
   "id": "c8db4ff9-b9ec-4493-a5b6-183bc416bf34",
   "metadata": {},
   "outputs": [
    {
     "name": "stdout",
     "output_type": "stream",
     "text": [
      "[array([626.77900611]), array([539.95919425]), array([418.60633793]), array([305.59992008]), array([218.48996537]), array([161.01836948]), array([126.96060248]), array([107.36754004]), array([94.8052383]), array([85.33936714]), array([77.19281589]), array([69.86049534]), array([63.29012615]), array([57.51621485]), array([52.52048087]), array([48.24922515]), array([44.6603526]), array([41.67878252]), array([39.21306246]), array([37.1768785]), array([35.4924348]), array([34.09520645]), array([32.9298458]), array([31.95508001]), array([31.13028947]), array([30.42413769]), array([29.81511395]), array([29.27995738]), array([28.80934599]), array([28.39031664]), array([28.01336375]), array([27.66700143]), array([27.34768113]), array([27.05137551]), array([26.77358456]), array([26.51071094]), array([26.26084457]), array([26.0209123]), array([25.78957565]), array([25.56617484]), array([25.34982635]), array([25.1401726]), array([24.93483775]), array([24.73433901]), array([24.53746373]), array([24.34476418]), array([24.15665288]), array([23.97211394]), array([23.7905836]), array([23.61237074]), array([23.4372764]), array([23.26504779]), array([23.09565515]), array([22.92926732]), array([22.76582393]), array([22.60544061]), array([22.45068882]), array([22.29936199]), array([22.15036786]), array([22.00400864]), array([21.86044036]), array([21.7191114]), array([21.58064864]), array([21.4447465]), array([21.31139798]), array([21.18065282]), array([21.05181693]), array([20.92531052]), array([20.80141882]), array([20.67980583]), array([20.56051908]), array([20.44421746]), array([20.33213817]), array([20.22234896]), array([20.11488744]), array([20.01070886]), array([19.91044922]), array([19.81216309]), array([19.71591347]), array([19.62152319]), array([19.52879149]), array([19.43755305]), array([19.34801174]), array([19.26041708]), array([19.17487749]), array([19.09107921]), array([19.00883796]), array([18.92796576]), array([18.84891449]), array([18.77172602]), array([18.69604636]), array([18.62134644]), array([18.54832461]), array([18.47686223]), array([18.40684503]), array([18.33798856]), array([18.27100488]), array([18.20530891]), array([18.14095045]), array([18.07802236])]\n"
     ]
    }
   ],
   "source": [
    "print(train_loss_epoch)"
   ]
  },
  {
   "cell_type": "code",
   "execution_count": 30,
   "id": "79ed409c-9fbd-4d4d-b9a4-dcef7032bc1a",
   "metadata": {},
   "outputs": [],
   "source": [
    "#for i in range(len(y_train)):\n",
    "   # print(y_train[i], output[i].sum(axis=0))\n",
    "#    loss+=(y_train[i]-(output2[i].sum(axis=0)))"
   ]
  },
  {
   "cell_type": "code",
   "execution_count": 31,
   "id": "e4a39c75-d531-4971-a5fd-6b1eacdd9e8a",
   "metadata": {},
   "outputs": [],
   "source": [
    "#print(loss/(len(y_train)))"
   ]
  },
  {
   "cell_type": "code",
   "execution_count": 32,
   "id": "d1a4bcd8-57a4-444b-8ce9-fee70dc33181",
   "metadata": {},
   "outputs": [],
   "source": [
    "#out_test=list()\n",
    "#for i in range(len(y_test)): \n",
    "    #z_test1, out_test1, z_test2, out_test2=forward_prop(w1, w2, bias1, bias2, x_test[i])\n",
    "    #out_test.append(out_test2)\n",
    "#    out_test.append(forward_prop_test(w1, w2, bias1, bias2, x_test[i]))\n",
    "#    loss_test+=(y_test[i]-(out_test[i].sum(axis=0)))\n",
    "#print(loss_test/(len(y_test)))"
   ]
  },
  {
   "cell_type": "code",
   "execution_count": 33,
   "id": "d23caf6b-b6a8-46e0-9aaa-47e198df8074",
   "metadata": {},
   "outputs": [],
   "source": [
    "#for i in range(len(y_test)):\n",
    "#    print(y_test[i], out_test[i].sum(axis=0))"
   ]
  },
  {
   "cell_type": "code",
   "execution_count": 34,
   "id": "4015579a-cc7d-4091-a3c4-0c7811d6cb05",
   "metadata": {},
   "outputs": [],
   "source": [
    "#for i in range(len(y_train)):\n",
    "#    print(y_train[i], output2[i])"
   ]
  },
  {
   "cell_type": "code",
   "execution_count": null,
   "id": "c04ed176-5688-4491-8ec9-27c64fd0e3c6",
   "metadata": {},
   "outputs": [],
   "source": []
  }
 ],
 "metadata": {
  "kernelspec": {
   "display_name": "Python 3 (ipykernel)",
   "language": "python",
   "name": "python3"
  },
  "language_info": {
   "codemirror_mode": {
    "name": "ipython",
    "version": 3
   },
   "file_extension": ".py",
   "mimetype": "text/x-python",
   "name": "python",
   "nbconvert_exporter": "python",
   "pygments_lexer": "ipython3",
   "version": "3.9.12"
  }
 },
 "nbformat": 4,
 "nbformat_minor": 5
}
