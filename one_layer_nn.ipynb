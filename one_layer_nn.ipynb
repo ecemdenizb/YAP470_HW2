{
 "cells": [
  {
   "cell_type": "code",
   "execution_count": 1,
   "id": "44957c35-0ff4-4bcf-b56f-75218e56d8e1",
   "metadata": {},
   "outputs": [],
   "source": [
    "import pandas as pd\n",
    "import numpy as np"
   ]
  },
  {
   "cell_type": "code",
   "execution_count": 2,
   "id": "f18eab80-dc72-4197-93bd-14d2450b7c2d",
   "metadata": {},
   "outputs": [],
   "source": [
    "from sklearn.preprocessing import StandardScaler"
   ]
  },
  {
   "cell_type": "code",
   "execution_count": 3,
   "id": "2da9b9ba-901e-4fe3-8263-c1d911cd5ed8",
   "metadata": {},
   "outputs": [],
   "source": [
    "#sigmoid fonk f(x)=1/(1+exp^-x)\n",
    "def sigmoid(x):\n",
    "    return 1/(1+np.exp(-x))"
   ]
  },
  {
   "cell_type": "code",
   "execution_count": 4,
   "id": "543a19d3-cb39-47a1-8d7c-a07a1239e862",
   "metadata": {},
   "outputs": [],
   "source": [
    "def deriv_sigmoid(x):\n",
    "    return(x*(1-x))"
   ]
  },
  {
   "cell_type": "code",
   "execution_count": 5,
   "id": "6c06167b-dc04-4cdc-9d90-a554cbb9e5c3",
   "metadata": {},
   "outputs": [],
   "source": [
    "def relu(x):\n",
    "    return np.maximum(0,x)"
   ]
  },
  {
   "cell_type": "code",
   "execution_count": 6,
   "id": "c00090f1-505a-4a67-adb5-d99351a0feed",
   "metadata": {},
   "outputs": [],
   "source": [
    "def deriv_relu(x):\n",
    "    der=list()\n",
    "    der.clear()\n",
    "    for val in x:\n",
    "        if val>0:\n",
    "            der.append(1)\n",
    "        else:\n",
    "            der.append(0)\n",
    "    return der"
   ]
  },
  {
   "cell_type": "code",
   "execution_count": 7,
   "id": "b3117669-114f-4de2-a60d-178c58bf3b2c",
   "metadata": {},
   "outputs": [],
   "source": [
    "def leaky_relu(x):\n",
    "    return np.maximum(0.1*x,x)\n",
    "    "
   ]
  },
  {
   "cell_type": "code",
   "execution_count": 8,
   "id": "ca214601-a7b4-418c-9f89-d1efc590cb1f",
   "metadata": {},
   "outputs": [],
   "source": [
    "def deriv_leaky_relu(x):\n",
    "    der=list()\n",
    "    der.clear()\n",
    "    for val in x:\n",
    "        if val>0:\n",
    "            der.append(1)\n",
    "        else:\n",
    "            der.append(0.1)\n",
    "    return der"
   ]
  },
  {
   "cell_type": "code",
   "execution_count": 9,
   "id": "81bd41a9-7893-43be-b9b5-70659d2f3a38",
   "metadata": {},
   "outputs": [],
   "source": [
    "def initialize(x, neuron_num):\n",
    "    np.random.seed(12345)\n",
    "    w1=2*np.random.random((len(x.columns), neuron_num))-1\n",
    "    w2=2*np.random.random((neuron_num, 1))-1\n",
    "    bias1=2*np.random.random()-1\n",
    "    bias2=2*np.random.random()-1\n",
    "    return w1, w2, bias1, bias2"
   ]
  },
  {
   "cell_type": "code",
   "execution_count": 10,
   "id": "6042b499-82de-4f70-84c3-3535818be284",
   "metadata": {},
   "outputs": [],
   "source": [
    "def forward_prop(w1, w2, bias1, bias2, x):\n",
    "    x=x.reshape(13,1)\n",
    "    z1=np.dot(w1.T,x)+bias1\n",
    "    out1=relu(z1)\n",
    "    #out1=leaky_relu(z1)\n",
    "    z2=np.dot(w2.T,out1)+bias2\n",
    "    out2=relu(z2) \n",
    "    #out2=leaky_relu(z2)\n",
    "    return z1, out1, z2, out2"
   ]
  },
  {
   "cell_type": "code",
   "execution_count": 11,
   "id": "176b7515-9c83-409e-aa4e-f64d1311a8d9",
   "metadata": {},
   "outputs": [],
   "source": [
    "def back_prop(w1, w2, bias1, bias2, x, y, z1, out1, z2, out2, lr, j):\n",
    "    x=x.reshape(13,1)\n",
    "    err_2=2*(np.subtract(out2.sum(axis=0), y)) # karenin turevi oldugu icin 2*(y_pred-y_act)\n",
    "    dummy_2=np.array(deriv_relu(z2)).reshape(1,1)\n",
    "    #dummy_2=np.array(deriv_leaky_relu(z2)).reshape(1,1)\n",
    "    dc_dw2=lr*np.dot(out1,dummy_2)*err_2\n",
    "    w2=np.subtract(w2,dc_dw2)\n",
    "    dc_db2=lr*err_2\n",
    "    bias2-=dc_db2\n",
    "\n",
    "    err_1= 2*(np.subtract(out1.sum(axis=0), y))\n",
    "    dummy_1=np.array(deriv_relu(z1)).reshape(10,1)\n",
    "    #dummy_1=np.array(deriv_leaky_relu(z1)).reshape(7,1)\n",
    "    dc_dw1=lr*np.dot(x,dummy_1.T)*err_1\n",
    "    w1=np.subtract(w1,dc_dw1)\n",
    "    dc_db1=lr*err_1\n",
    "    bias1-=dc_db1\n",
    "    return w1, w2, bias1, bias2"
   ]
  },
  {
   "cell_type": "code",
   "execution_count": 12,
   "id": "55c56e7d-c520-4c66-af45-b86a430c8113",
   "metadata": {},
   "outputs": [],
   "source": [
    "def forward_prop_test(w1, w2, bias1, bias2, x):\n",
    "    x=x.reshape(13,1)\n",
    "    z1=np.dot(w1.T,x)+bias1\n",
    "    out1=relu(z1)\n",
    "    z2=np.dot(w2.T,out1)+bias2\n",
    "    out2=relu(z2) \n",
    "    return out1"
   ]
  },
  {
   "cell_type": "code",
   "execution_count": 13,
   "id": "60ece8f8-4212-4c6f-bfa1-7dad72a162e2",
   "metadata": {},
   "outputs": [],
   "source": [
    "pd.set_option(\"display.max_rows\", None,\n",
    "             \"display.max_columns\", None)"
   ]
  },
  {
   "cell_type": "code",
   "execution_count": 14,
   "id": "282db331-f99f-4611-861f-dc193f0ff6c8",
   "metadata": {},
   "outputs": [],
   "source": [
    "columns=(\"CRIM\",\"ZN\", \"INDUS\", \"CHAS\", \"NOX\", \"RM\", \"AGE\", \"DIS\", \"RAD\", \"TAX\", \"PTRATIO\", \"B\", \"LSTAT\", \"MEDV\")"
   ]
  },
  {
   "cell_type": "code",
   "execution_count": 15,
   "id": "8e5d960b-1dce-410d-a4eb-ae4ca8a71590",
   "metadata": {},
   "outputs": [],
   "source": [
    "ds=pd.read_csv(\"/Users/ecemdenizbabaoglan/Desktop/TOBBETU/yap470/housing.csv\", sep='\\s+', engine='python', names=columns)"
   ]
  },
  {
   "cell_type": "code",
   "execution_count": 16,
   "id": "f8ddb432-f763-4314-9d56-105d976168c7",
   "metadata": {},
   "outputs": [],
   "source": [
    "#ds.head()"
   ]
  },
  {
   "cell_type": "code",
   "execution_count": 17,
   "id": "477fe23f-8686-4868-a55d-4def9e8c3ad7",
   "metadata": {},
   "outputs": [],
   "source": [
    "#ds.isnull().sum()"
   ]
  },
  {
   "cell_type": "code",
   "execution_count": 18,
   "id": "cf82f01b-3342-46a1-830b-7a4ffab6e175",
   "metadata": {},
   "outputs": [],
   "source": [
    "#ds.describe(include='all')"
   ]
  },
  {
   "cell_type": "code",
   "execution_count": 19,
   "id": "aaee0647-b497-4689-8218-bb9ef012daa9",
   "metadata": {},
   "outputs": [],
   "source": [
    "target=ds.loc[:,'MEDV'].copy()"
   ]
  },
  {
   "cell_type": "code",
   "execution_count": 20,
   "id": "89a3ef46-c5c3-4a39-9db4-aa03809830c7",
   "metadata": {},
   "outputs": [],
   "source": [
    "data=ds.drop('MEDV', axis=1).copy()"
   ]
  },
  {
   "cell_type": "code",
   "execution_count": 21,
   "id": "a08e01c9-dce3-4967-9706-aac0f79ce36d",
   "metadata": {},
   "outputs": [],
   "source": [
    "w1, w2, bias1, bias2=initialize(data,10)"
   ]
  },
  {
   "cell_type": "code",
   "execution_count": 22,
   "id": "dde00973-f382-4b76-b561-f082f07de24a",
   "metadata": {},
   "outputs": [],
   "source": [
    "scaler=StandardScaler()\n",
    "data_normalized=scaler.fit_transform(data)\n",
    "target=target.to_numpy()"
   ]
  },
  {
   "cell_type": "code",
   "execution_count": 23,
   "id": "a0e8e18b-89cb-4b13-aea1-c79b68d53863",
   "metadata": {},
   "outputs": [],
   "source": [
    "cutoff = int(len(data) * 0.8)\n",
    "x_train, x_test = data_normalized[:cutoff], data_normalized[cutoff:]\n",
    "y_train, y_test = target[:cutoff], target[cutoff:]"
   ]
  },
  {
   "cell_type": "code",
   "execution_count": 24,
   "id": "f7b4d2c3-97f6-4c78-a385-f3e33c6d4c30",
   "metadata": {},
   "outputs": [],
   "source": [
    "epochs=100"
   ]
  },
  {
   "cell_type": "code",
   "execution_count": 25,
   "id": "54bb1463-9480-4b13-a7c7-ac7fbea7862c",
   "metadata": {},
   "outputs": [],
   "source": [
    "lr=0.000001"
   ]
  },
  {
   "cell_type": "code",
   "execution_count": 26,
   "id": "4114bc90-a258-4493-9a59-39d7d40be2c4",
   "metadata": {},
   "outputs": [],
   "source": [
    "output1=list()\n",
    "output2=list()\n",
    "z_1=list()\n",
    "z_2=list()\n",
    "loss=0\n",
    "loss_test=0"
   ]
  },
  {
   "cell_type": "code",
   "execution_count": 27,
   "id": "4988d5c6-b946-47be-b0d8-2ce1a45b7b8e",
   "metadata": {},
   "outputs": [],
   "source": [
    "for e in range(epochs):\n",
    "    output1.clear()\n",
    "    output2.clear()\n",
    "    z_1.clear()\n",
    "    z_2.clear()\n",
    "    errors=0\n",
    "    for i in range(len(y_train)):   \n",
    "        z1, out1, z2, out2= forward_prop(w1, w2, bias1, bias2, x_train[i])\n",
    "        output1.append(out1)\n",
    "        output2.append(out2)\n",
    "       # predicted[i]=output[i].sum(axis=0)\n",
    "        w1, w2, bias1, bias2 = back_prop(w1, w2, bias1, bias2, x_train[i], y_train[i], z1, output1[i], z2, output2[i], lr, i+1)"
   ]
  },
  {
   "cell_type": "code",
   "execution_count": 28,
   "id": "79ed409c-9fbd-4d4d-b9a4-dcef7032bc1a",
   "metadata": {},
   "outputs": [],
   "source": [
    "for i in range(len(y_train)):\n",
    "   # print(y_train[i], output[i].sum(axis=0))\n",
    "    loss+=(y_train[i]-(output2[i].sum(axis=0)))"
   ]
  },
  {
   "cell_type": "code",
   "execution_count": 29,
   "id": "e4a39c75-d531-4971-a5fd-6b1eacdd9e8a",
   "metadata": {},
   "outputs": [
    {
     "name": "stdout",
     "output_type": "stream",
     "text": [
      "[3.5739411]\n"
     ]
    }
   ],
   "source": [
    "print(loss/(len(y_train)))"
   ]
  },
  {
   "cell_type": "code",
   "execution_count": 30,
   "id": "d1a4bcd8-57a4-444b-8ce9-fee70dc33181",
   "metadata": {},
   "outputs": [
    {
     "name": "stdout",
     "output_type": "stream",
     "text": [
      "[7.13917587]\n"
     ]
    }
   ],
   "source": [
    "out_test=list()\n",
    "for i in range(len(y_test)): \n",
    "    #z_test1, out_test1, z_test2, out_test2=forward_prop(w1, w2, bias1, bias2, x_test[i])\n",
    "    #out_test.append(out_test2)\n",
    "    out_test.append(forward_prop_test(w1, w2, bias1, bias2, x_test[i]))\n",
    "    loss_test+=(y_test[i]-(out_test[i].sum(axis=0)))\n",
    "print(loss_test/(len(y_test)))"
   ]
  },
  {
   "cell_type": "code",
   "execution_count": 31,
   "id": "d23caf6b-b6a8-46e0-9aaa-47e198df8074",
   "metadata": {},
   "outputs": [
    {
     "name": "stdout",
     "output_type": "stream",
     "text": [
      "8.5 [16.54852391]\n",
      "5.0 [24.71442109]\n",
      "11.9 [14.18593666]\n",
      "27.9 [10.75967668]\n",
      "17.2 [9.30452684]\n",
      "27.5 [7.98799634]\n",
      "15.0 [11.1593323]\n",
      "17.2 [4.59671078]\n",
      "17.9 [9.85913489]\n",
      "16.3 [10.93895557]\n",
      "7.0 [15.08057516]\n",
      "7.2 [5.6621409]\n",
      "7.5 [3.6424596]\n",
      "10.4 [9.41973359]\n",
      "8.8 [16.83470801]\n",
      "8.4 [3.89907292]\n",
      "16.7 [10.78462567]\n",
      "14.2 [9.38290911]\n",
      "20.8 [8.94130827]\n",
      "13.4 [3.46218851]\n",
      "11.7 [3.31191924]\n",
      "8.3 [5.01427431]\n",
      "10.2 [2.98402294]\n",
      "10.9 [7.84762922]\n",
      "11.0 [4.10990232]\n",
      "9.5 [4.49682752]\n",
      "14.5 [3.61535102]\n",
      "14.1 [4.17401685]\n",
      "16.1 [3.17904979]\n",
      "14.3 [4.09945522]\n",
      "11.7 [5.95628899]\n",
      "13.4 [5.84586617]\n",
      "9.6 [5.1083384]\n",
      "8.7 [5.16725226]\n",
      "8.4 [7.16767844]\n",
      "12.8 [11.89890547]\n",
      "10.5 [14.46331163]\n",
      "17.1 [12.14671865]\n",
      "18.4 [12.32389066]\n",
      "15.4 [12.70059601]\n",
      "10.8 [9.18069754]\n",
      "11.8 [4.59868154]\n",
      "14.9 [9.58095249]\n",
      "12.6 [12.26829875]\n",
      "14.1 [12.05017004]\n",
      "13.0 [9.57034478]\n",
      "13.4 [3.91081374]\n",
      "15.2 [10.88045674]\n",
      "16.1 [10.79077909]\n",
      "17.8 [13.42032209]\n",
      "14.9 [4.10389607]\n",
      "14.1 [3.76382202]\n",
      "12.7 [3.09186886]\n",
      "13.5 [3.40160875]\n",
      "14.9 [7.42623346]\n",
      "20.0 [10.78337027]\n",
      "16.4 [7.05663804]\n",
      "17.7 [10.96839133]\n",
      "19.5 [11.16210299]\n",
      "20.2 [12.6234741]\n",
      "21.4 [9.46202257]\n",
      "19.9 [6.77968053]\n",
      "19.0 [2.801867]\n",
      "19.1 [8.28984463]\n",
      "19.1 [9.94652611]\n",
      "20.1 [9.46765115]\n",
      "19.9 [9.2279173]\n",
      "19.6 [10.11133991]\n",
      "23.2 [9.07440869]\n",
      "29.8 [10.30527345]\n",
      "13.8 [9.74949313]\n",
      "13.3 [8.53587018]\n",
      "16.7 [10.48194245]\n",
      "12.0 [11.33360836]\n",
      "14.6 [11.13562516]\n",
      "21.4 [11.72436445]\n",
      "23.0 [9.35990944]\n",
      "23.7 [11.98899938]\n",
      "25.0 [13.40484883]\n",
      "21.8 [8.58422964]\n",
      "20.6 [7.43150682]\n",
      "21.2 [9.30997128]\n",
      "19.1 [9.20748586]\n",
      "20.6 [7.97745291]\n",
      "15.2 [15.640308]\n",
      "7.0 [13.36669332]\n",
      "8.1 [13.65993514]\n",
      "13.6 [16.16773953]\n",
      "20.1 [16.58000486]\n",
      "21.8 [4.53747286]\n",
      "24.5 [4.86440382]\n",
      "23.1 [4.67178188]\n",
      "19.7 [3.71189391]\n",
      "18.3 [4.19552675]\n",
      "21.2 [4.67911024]\n",
      "17.5 [4.4319742]\n",
      "16.8 [4.76716311]\n",
      "22.4 [9.86150749]\n",
      "20.6 [8.80139515]\n",
      "23.9 [14.81878027]\n",
      "22.0 [13.37254824]\n",
      "11.9 [9.17482915]\n"
     ]
    }
   ],
   "source": [
    "for i in range(len(y_test)):\n",
    "    print(y_test[i], out_test[i].sum(axis=0))"
   ]
  },
  {
   "cell_type": "code",
   "execution_count": 32,
   "id": "4015579a-cc7d-4091-a3c4-0c7811d6cb05",
   "metadata": {},
   "outputs": [],
   "source": [
    "#for i in range(len(y_train)):\n",
    "#    print(y_train[i], output2[i])"
   ]
  },
  {
   "cell_type": "code",
   "execution_count": 33,
   "id": "1c0d518c-ec84-47a7-8ab4-e3d87a59c66d",
   "metadata": {},
   "outputs": [
    {
     "name": "stdout",
     "output_type": "stream",
     "text": [
      "[]\n"
     ]
    }
   ],
   "source": [
    "out_test_=list()\n",
    "loss_test_=list()\n",
    "for i in range(len(y_train)): \n",
    "    #z_test1, out_test1, z_test2, out_test2=forward_prop(w1, w2, bias1, bias2, x_test[i])\n",
    "    #out_test.append(out_test2)\n",
    "    out_test_.append(forward_prop_test(w1, w2, bias1, bias2, x_train[i]))\n",
    "    loss_test_+=(y_train[i]-(out_test_[i].sum(axis=0)))\n",
    "print(loss_test_/(len(y_train)))"
   ]
  },
  {
   "cell_type": "code",
   "execution_count": null,
   "id": "c04ed176-5688-4491-8ec9-27c64fd0e3c6",
   "metadata": {},
   "outputs": [],
   "source": []
  }
 ],
 "metadata": {
  "kernelspec": {
   "display_name": "Python 3 (ipykernel)",
   "language": "python",
   "name": "python3"
  },
  "language_info": {
   "codemirror_mode": {
    "name": "ipython",
    "version": 3
   },
   "file_extension": ".py",
   "mimetype": "text/x-python",
   "name": "python",
   "nbconvert_exporter": "python",
   "pygments_lexer": "ipython3",
   "version": "3.9.12"
  }
 },
 "nbformat": 4,
 "nbformat_minor": 5
}
