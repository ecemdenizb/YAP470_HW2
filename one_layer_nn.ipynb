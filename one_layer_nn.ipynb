{
 "cells": [
  {
   "cell_type": "code",
   "execution_count": 1,
   "id": "44957c35-0ff4-4bcf-b56f-75218e56d8e1",
   "metadata": {},
   "outputs": [],
   "source": [
    "import pandas as pd\n",
    "import numpy as np"
   ]
  },
  {
   "cell_type": "code",
   "execution_count": 2,
   "id": "f18eab80-dc72-4197-93bd-14d2450b7c2d",
   "metadata": {},
   "outputs": [],
   "source": [
    "from sklearn.preprocessing import MinMaxScaler"
   ]
  },
  {
   "cell_type": "code",
   "execution_count": 3,
   "id": "2da9b9ba-901e-4fe3-8263-c1d911cd5ed8",
   "metadata": {},
   "outputs": [],
   "source": [
    "#sigmoid fonk f(x)=1/(1+exp^-x)\n",
    "def sigmoid(x):\n",
    "    return 1/(1+np.exp(-x))"
   ]
  },
  {
   "cell_type": "code",
   "execution_count": 4,
   "id": "543a19d3-cb39-47a1-8d7c-a07a1239e862",
   "metadata": {},
   "outputs": [],
   "source": [
    "def deriv_sigmoid(x):\n",
    "    return(x*(1-x))"
   ]
  },
  {
   "cell_type": "code",
   "execution_count": 5,
   "id": "6c06167b-dc04-4cdc-9d90-a554cbb9e5c3",
   "metadata": {},
   "outputs": [],
   "source": [
    "def relu(x):\n",
    "    return np.maximum(0,x)"
   ]
  },
  {
   "cell_type": "code",
   "execution_count": 6,
   "id": "c00090f1-505a-4a67-adb5-d99351a0feed",
   "metadata": {},
   "outputs": [],
   "source": [
    "def deriv_relu(x):\n",
    "    der=list()\n",
    "    der.clear()\n",
    "    for val in x:\n",
    "        if val>0:\n",
    "            der.append(1)\n",
    "        else:\n",
    "            der.append(0)\n",
    "    return der"
   ]
  },
  {
   "cell_type": "code",
   "execution_count": 7,
   "id": "b3117669-114f-4de2-a60d-178c58bf3b2c",
   "metadata": {},
   "outputs": [],
   "source": [
    "def leaky_relu(x):\n",
    "    return np.maximum(0.1*x,x)\n",
    "    "
   ]
  },
  {
   "cell_type": "code",
   "execution_count": 8,
   "id": "ca214601-a7b4-418c-9f89-d1efc590cb1f",
   "metadata": {},
   "outputs": [],
   "source": [
    "def deriv_leaky_relu(x):\n",
    "    der=list()\n",
    "    der.clear()\n",
    "    for val in x:\n",
    "        if val>0:\n",
    "            der.append(1)\n",
    "        else:\n",
    "            der.append(0.1)\n",
    "    return der"
   ]
  },
  {
   "cell_type": "code",
   "execution_count": 9,
   "id": "81bd41a9-7893-43be-b9b5-70659d2f3a38",
   "metadata": {},
   "outputs": [],
   "source": [
    "def initialize(x, neuron_num):\n",
    "    np.random.seed(12345)\n",
    "    w1=2*np.random.random((len(x.columns), neuron_num))-1\n",
    "    w2=2*np.random.random((neuron_num, 1))-1\n",
    "    bias1=2*np.random.random()-1\n",
    "    bias2=2*np.random.random()-1\n",
    "    return w1, w2, bias1, bias2"
   ]
  },
  {
   "cell_type": "code",
   "execution_count": 10,
   "id": "869d441e-83fd-4c8f-94ee-3cf82982b7f3",
   "metadata": {},
   "outputs": [],
   "source": [
    "def scaler(data):\n",
    "\n",
    "    flag_min=1000000\n",
    "    flag_max=-1000000\n",
    "    data= data.to_numpy()\n",
    "    \n",
    "    for item in data:\n",
    "        flag_min=np.minimum(item,flag_min)\n",
    "        flag_max=np.maximum(item,flag_max)\n",
    "        \n",
    "    range_=flag_max-flag_min\n",
    "    new_data=pd.DataFrame()\n",
    "    for item in data:\n",
    "        item=(item-flag_min)/range_\n",
    "    return data\n",
    "                  "
   ]
  },
  {
   "cell_type": "code",
   "execution_count": 11,
   "id": "6042b499-82de-4f70-84c3-3535818be284",
   "metadata": {},
   "outputs": [],
   "source": [
    "def forward_prop(w1, w2, bias1, bias2, x):\n",
    "    x=x.reshape(13,1)\n",
    "    z1=np.dot(w1.T,x)+bias1\n",
    "    out1=relu(z1)\n",
    "    #out1=leaky_relu(z1)\n",
    "    z2=np.dot(w2.T,out1)+bias2\n",
    "    out2=relu(z2) \n",
    "    #out2=leaky_relu(z2)\n",
    "    return z1, out1, z2, out2"
   ]
  },
  {
   "cell_type": "code",
   "execution_count": 12,
   "id": "176b7515-9c83-409e-aa4e-f64d1311a8d9",
   "metadata": {},
   "outputs": [],
   "source": [
    "def back_prop(w1, w2, bias1, bias2, x, y, z1, out1, z2, out2, lr, j):\n",
    "    x=x.reshape(13,1)\n",
    "    err_2=2*(np.subtract(out2.sum(axis=0), y)) # karenin turevi oldugu icin 2*(y_pred-y_act)\n",
    "    dummy_2=np.array(deriv_relu(z2)).reshape(1,1)\n",
    "    #dummy_2=np.array(deriv_leaky_relu(z2)).reshape(1,1)\n",
    "    dc_dw2=lr*np.dot(out1,dummy_2)*err_2\n",
    "    w2=np.subtract(w2,dc_dw2)\n",
    "    dc_db2=lr*err_2\n",
    "    bias2-=dc_db2\n",
    "\n",
    "    err_1= 2*(np.subtract(out1.sum(axis=0), y))\n",
    "    dummy_1=np.array(deriv_relu(z1)).reshape(len(z1),1)\n",
    "    #dummy_1=np.array(deriv_leaky_relu(z1)).reshape(len(z1),1)\n",
    "    dc_dw1=lr*np.dot(x,dummy_1.T)*err_1\n",
    "    w1=np.subtract(w1,dc_dw1)\n",
    "    dc_db1=lr*err_1\n",
    "    bias1-=dc_db1\n",
    "    return w1, w2, bias1, bias2"
   ]
  },
  {
   "cell_type": "code",
   "execution_count": 13,
   "id": "55c56e7d-c520-4c66-af45-b86a430c8113",
   "metadata": {},
   "outputs": [],
   "source": [
    "def forward_prop_test(w1, w2, bias1, bias2, x):\n",
    "    x=x.reshape(13,1)\n",
    "    z1=np.dot(w1.T,x)+bias1\n",
    "    out1=relu(z1)\n",
    "    z2=np.dot(w2.T,out1)+bias2\n",
    "    out2=relu(z2) \n",
    "    return out1"
   ]
  },
  {
   "cell_type": "code",
   "execution_count": 14,
   "id": "60ece8f8-4212-4c6f-bfa1-7dad72a162e2",
   "metadata": {},
   "outputs": [],
   "source": [
    "pd.set_option(\"display.max_rows\", None,\n",
    "             \"display.max_columns\", None)"
   ]
  },
  {
   "cell_type": "code",
   "execution_count": 15,
   "id": "282db331-f99f-4611-861f-dc193f0ff6c8",
   "metadata": {},
   "outputs": [],
   "source": [
    "columns=(\"CRIM\",\"ZN\", \"INDUS\", \"CHAS\", \"NOX\", \"RM\", \"AGE\", \"DIS\", \"RAD\", \"TAX\", \"PTRATIO\", \"B\", \"LSTAT\", \"MEDV\")"
   ]
  },
  {
   "cell_type": "code",
   "execution_count": 16,
   "id": "8e5d960b-1dce-410d-a4eb-ae4ca8a71590",
   "metadata": {},
   "outputs": [],
   "source": [
    "ds=pd.read_csv(\"/Users/ecemdenizbabaoglan/Desktop/TOBBETU/yap470/housing.csv\", sep='\\s+', engine='python', names=columns)"
   ]
  },
  {
   "cell_type": "code",
   "execution_count": 17,
   "id": "f8ddb432-f763-4314-9d56-105d976168c7",
   "metadata": {},
   "outputs": [],
   "source": [
    "#ds.head()"
   ]
  },
  {
   "cell_type": "code",
   "execution_count": 18,
   "id": "477fe23f-8686-4868-a55d-4def9e8c3ad7",
   "metadata": {},
   "outputs": [],
   "source": [
    "#ds.isnull().sum()"
   ]
  },
  {
   "cell_type": "code",
   "execution_count": 19,
   "id": "cf82f01b-3342-46a1-830b-7a4ffab6e175",
   "metadata": {},
   "outputs": [],
   "source": [
    "#ds.describe(include='all')"
   ]
  },
  {
   "cell_type": "code",
   "execution_count": 20,
   "id": "aaee0647-b497-4689-8218-bb9ef012daa9",
   "metadata": {},
   "outputs": [],
   "source": [
    "target=ds.loc[:,'MEDV'].copy()"
   ]
  },
  {
   "cell_type": "code",
   "execution_count": 21,
   "id": "89a3ef46-c5c3-4a39-9db4-aa03809830c7",
   "metadata": {},
   "outputs": [],
   "source": [
    "data=ds.drop('MEDV', axis=1).copy()"
   ]
  },
  {
   "cell_type": "code",
   "execution_count": 22,
   "id": "58f22787-53e9-4c53-a157-6f15dda5b96c",
   "metadata": {},
   "outputs": [],
   "source": [
    "neuron_num=10"
   ]
  },
  {
   "cell_type": "code",
   "execution_count": 23,
   "id": "a08e01c9-dce3-4967-9706-aac0f79ce36d",
   "metadata": {},
   "outputs": [],
   "source": [
    "w1, w2, bias1, bias2=initialize(data,neuron_num)"
   ]
  },
  {
   "cell_type": "code",
   "execution_count": 24,
   "id": "974f39f8-b475-436e-bef6-0a68c2152c48",
   "metadata": {},
   "outputs": [],
   "source": [
    "data_normalized = ((data - data.mean()) / data.std(ddof=0)).to_numpy()\n",
    "target=target.to_numpy()"
   ]
  },
  {
   "cell_type": "code",
   "execution_count": 25,
   "id": "a0e8e18b-89cb-4b13-aea1-c79b68d53863",
   "metadata": {},
   "outputs": [],
   "source": [
    "cutoff = int(len(data) * 0.8)\n",
    "x_train, x_test = data_normalized[:cutoff], data_normalized[cutoff:]\n",
    "y_train, y_test = target[:cutoff], target[cutoff:]"
   ]
  },
  {
   "cell_type": "code",
   "execution_count": 26,
   "id": "f7b4d2c3-97f6-4c78-a385-f3e33c6d4c30",
   "metadata": {},
   "outputs": [],
   "source": [
    "epochs=100"
   ]
  },
  {
   "cell_type": "code",
   "execution_count": 27,
   "id": "54bb1463-9480-4b13-a7c7-ac7fbea7862c",
   "metadata": {},
   "outputs": [],
   "source": [
    "lr=0.00001"
   ]
  },
  {
   "cell_type": "code",
   "execution_count": 28,
   "id": "4114bc90-a258-4493-9a59-39d7d40be2c4",
   "metadata": {},
   "outputs": [],
   "source": [
    "output1=list()\n",
    "output2=list()\n",
    "z_1=list()\n",
    "z_2=list()\n",
    "loss=0\n",
    "loss_test=0"
   ]
  },
  {
   "cell_type": "code",
   "execution_count": 29,
   "id": "4988d5c6-b946-47be-b0d8-2ce1a45b7b8e",
   "metadata": {},
   "outputs": [],
   "source": [
    "for e in range(epochs):\n",
    "    output1.clear()\n",
    "    output2.clear()\n",
    "    z_1.clear()\n",
    "    z_2.clear()\n",
    "    errors=0\n",
    "    for i in range(len(y_train)):   \n",
    "        z1, out1, z2, out2= forward_prop(w1, w2, bias1, bias2, x_train[i])\n",
    "        output1.append(out1)\n",
    "        output2.append(out2)\n",
    "       # predicted[i]=output[i].sum(axis=0)\n",
    "        w1, w2, bias1, bias2 = back_prop(w1, w2, bias1, bias2, x_train[i], y_train[i], z1, output1[i], z2, output2[i], lr, i+1)"
   ]
  },
  {
   "cell_type": "code",
   "execution_count": 30,
   "id": "79ed409c-9fbd-4d4d-b9a4-dcef7032bc1a",
   "metadata": {},
   "outputs": [],
   "source": [
    "for i in range(len(y_train)):\n",
    "   # print(y_train[i], output[i].sum(axis=0))\n",
    "    loss+=(y_train[i]-(output2[i].sum(axis=0)))"
   ]
  },
  {
   "cell_type": "code",
   "execution_count": 31,
   "id": "e4a39c75-d531-4971-a5fd-6b1eacdd9e8a",
   "metadata": {},
   "outputs": [
    {
     "name": "stdout",
     "output_type": "stream",
     "text": [
      "[-0.07177979]\n"
     ]
    }
   ],
   "source": [
    "print(loss/(len(y_train)))"
   ]
  },
  {
   "cell_type": "code",
   "execution_count": 32,
   "id": "d1a4bcd8-57a4-444b-8ce9-fee70dc33181",
   "metadata": {},
   "outputs": [
    {
     "name": "stdout",
     "output_type": "stream",
     "text": [
      "[2.42960878]\n"
     ]
    }
   ],
   "source": [
    "out_test=list()\n",
    "for i in range(len(y_test)): \n",
    "    #z_test1, out_test1, z_test2, out_test2=forward_prop(w1, w2, bias1, bias2, x_test[i])\n",
    "    #out_test.append(out_test2)\n",
    "    out_test.append(forward_prop_test(w1, w2, bias1, bias2, x_test[i]))\n",
    "    loss_test+=(y_test[i]-(out_test[i].sum(axis=0)))\n",
    "print(loss_test/(len(y_test)))"
   ]
  },
  {
   "cell_type": "code",
   "execution_count": 33,
   "id": "d23caf6b-b6a8-46e0-9aaa-47e198df8074",
   "metadata": {},
   "outputs": [
    {
     "name": "stdout",
     "output_type": "stream",
     "text": [
      "8.5 [8.21754903]\n",
      "5.0 [11.7864919]\n",
      "11.9 [15.04443446]\n",
      "27.9 [18.00221177]\n",
      "17.2 [11.37242908]\n",
      "27.5 [10.61804946]\n",
      "15.0 [9.89723313]\n",
      "17.2 [7.62348315]\n",
      "17.9 [9.61374914]\n",
      "16.3 [10.619848]\n",
      "7.0 [7.8185717]\n",
      "7.2 [5.72465527]\n",
      "7.5 [6.47607015]\n",
      "10.4 [7.74486867]\n",
      "8.8 [6.25062746]\n",
      "8.4 [7.2918171]\n",
      "16.7 [15.94224062]\n",
      "14.2 [15.53613414]\n",
      "20.8 [14.53923171]\n",
      "13.4 [6.50886312]\n",
      "11.7 [7.96015843]\n",
      "8.3 [6.42640137]\n",
      "10.2 [7.23487829]\n",
      "10.9 [7.5595827]\n",
      "11.0 [8.00055751]\n",
      "9.5 [7.67171951]\n",
      "14.5 [8.99241697]\n",
      "14.1 [8.21122099]\n",
      "16.1 [10.62015522]\n",
      "14.3 [10.16887735]\n",
      "11.7 [10.53062294]\n",
      "13.4 [8.3293765]\n",
      "9.6 [8.4591508]\n",
      "8.7 [6.58185474]\n",
      "8.4 [7.41905158]\n",
      "12.8 [13.54669806]\n",
      "10.5 [12.27808582]\n",
      "17.1 [14.76383831]\n",
      "18.4 [18.15640012]\n",
      "15.4 [15.66622139]\n",
      "10.8 [10.17150427]\n",
      "11.8 [7.54936397]\n",
      "14.9 [14.42134485]\n",
      "12.6 [16.53206097]\n",
      "14.1 [15.732172]\n",
      "13.0 [13.17240412]\n",
      "13.4 [9.05255469]\n",
      "15.2 [15.8068665]\n",
      "16.1 [16.14884469]\n",
      "17.8 [17.17993642]\n",
      "14.9 [8.46846422]\n",
      "14.1 [8.74013393]\n",
      "12.7 [8.30465626]\n",
      "13.5 [7.95101375]\n",
      "14.9 [12.10548269]\n",
      "20.0 [16.4977026]\n",
      "16.4 [12.59979997]\n",
      "17.7 [17.91575815]\n",
      "19.5 [17.07383174]\n",
      "20.2 [20.47796032]\n",
      "21.4 [14.98376226]\n",
      "19.9 [12.23624887]\n",
      "19.0 [8.73112209]\n",
      "19.1 [12.58113744]\n",
      "19.1 [11.17269827]\n",
      "20.1 [12.34626556]\n",
      "19.9 [15.09531551]\n",
      "19.6 [17.93521725]\n",
      "23.2 [16.15508089]\n",
      "29.8 [18.57523275]\n",
      "13.8 [14.57589742]\n",
      "13.3 [11.14065312]\n",
      "16.7 [15.67904697]\n",
      "12.0 [11.43333282]\n",
      "14.6 [14.82164829]\n",
      "21.4 [16.7319123]\n",
      "23.0 [16.51795414]\n",
      "23.7 [21.07254033]\n",
      "25.0 [22.69373181]\n",
      "21.8 [14.24275166]\n",
      "20.6 [12.36535512]\n",
      "21.2 [15.58981922]\n",
      "19.1 [14.41084331]\n",
      "20.6 [14.58536854]\n",
      "15.2 [24.01106358]\n",
      "7.0 [19.46992226]\n",
      "8.1 [17.67588162]\n",
      "13.6 [24.88956053]\n",
      "20.1 [26.4927728]\n",
      "21.8 [15.33306137]\n",
      "24.5 [15.26477604]\n",
      "23.1 [11.47873869]\n",
      "19.7 [9.09642298]\n",
      "18.3 [14.0439955]\n",
      "21.2 [16.43085594]\n",
      "17.5 [12.91339753]\n",
      "16.8 [15.85035254]\n",
      "22.4 [25.39927307]\n",
      "20.6 [23.88271795]\n",
      "23.9 [32.91863117]\n",
      "22.0 [30.53682967]\n",
      "11.9 [24.31103118]\n"
     ]
    }
   ],
   "source": [
    "for i in range(len(y_test)):\n",
    "    print(y_test[i], out_test[i].sum(axis=0))"
   ]
  },
  {
   "cell_type": "code",
   "execution_count": 34,
   "id": "4015579a-cc7d-4091-a3c4-0c7811d6cb05",
   "metadata": {},
   "outputs": [],
   "source": [
    "#for i in range(len(y_train)):\n",
    "#    print(y_train[i], output2[i])"
   ]
  },
  {
   "cell_type": "code",
   "execution_count": null,
   "id": "c04ed176-5688-4491-8ec9-27c64fd0e3c6",
   "metadata": {},
   "outputs": [],
   "source": []
  }
 ],
 "metadata": {
  "kernelspec": {
   "display_name": "Python 3 (ipykernel)",
   "language": "python",
   "name": "python3"
  },
  "language_info": {
   "codemirror_mode": {
    "name": "ipython",
    "version": 3
   },
   "file_extension": ".py",
   "mimetype": "text/x-python",
   "name": "python",
   "nbconvert_exporter": "python",
   "pygments_lexer": "ipython3",
   "version": "3.9.12"
  }
 },
 "nbformat": 4,
 "nbformat_minor": 5
}
