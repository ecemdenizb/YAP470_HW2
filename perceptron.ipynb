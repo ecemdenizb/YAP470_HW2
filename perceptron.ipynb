{
 "cells": [
  {
   "cell_type": "code",
   "execution_count": 1,
   "id": "66e50b39-4ad3-4f6b-9e68-d9aadc03999c",
   "metadata": {},
   "outputs": [],
   "source": [
    "import pandas as pd\n",
    "import numpy as np"
   ]
  },
  {
   "cell_type": "code",
   "execution_count": 2,
   "id": "b9665b3b-0d43-4c36-97e4-98770a806df4",
   "metadata": {},
   "outputs": [],
   "source": [
    "from sklearn.preprocessing import MinMaxScaler"
   ]
  },
  {
   "cell_type": "code",
   "execution_count": 3,
   "id": "20ff3596-b725-4252-986f-f044ef60a80d",
   "metadata": {},
   "outputs": [],
   "source": [
    "def relu(x):\n",
    "    return np.maximum(0,x)"
   ]
  },
  {
   "cell_type": "code",
   "execution_count": 4,
   "id": "d5323bdc-de25-47ab-9e1d-c92d5c5e73cb",
   "metadata": {},
   "outputs": [],
   "source": [
    "def sigmoid(x):\n",
    "    return 1/(1+np.exp(-x))"
   ]
  },
  {
   "cell_type": "code",
   "execution_count": 5,
   "id": "e1c7ee2d-2434-4946-9783-2e6942c5785f",
   "metadata": {},
   "outputs": [],
   "source": [
    "def deriv_sigmoid(x):\n",
    "    return(x*(1-x)) "
   ]
  },
  {
   "cell_type": "code",
   "execution_count": 6,
   "id": "12ed85b9-e128-4d4d-b545-f2793019c5c4",
   "metadata": {},
   "outputs": [],
   "source": [
    "def initialize(x):\n",
    "    np.random.seed(12345)\n",
    "    w1=2*np.random.random((len(x.columns), 1))-1\n",
    "   # bias=2*np.random.random((len(x.columns), 1))-1\n",
    "   # w2=2*np.random.random((neurons, 1))-1\n",
    "    return w1"
   ]
  },
  {
   "cell_type": "code",
   "execution_count": 7,
   "id": "0c5ba482-9ad4-4819-bd68-351b7f881049",
   "metadata": {},
   "outputs": [],
   "source": [
    "def forward_prop(w1, x):\n",
    "    x=x.reshape(13,1)\n",
    "    out=relu(np.dot(w1.T,x))\n",
    "    return out\n",
    "    "
   ]
  },
  {
   "cell_type": "code",
   "execution_count": 8,
   "id": "a916463a-f9ab-4c9a-9cbd-0eb08d4f6519",
   "metadata": {},
   "outputs": [],
   "source": [
    "def back_prop(w1, x, y, outputs, lr):\n",
    "    x=x.reshape(13,1)\n",
    "    error=(y-outputs)\n",
    "    adj=lr*(np.dot(error,x.T))\n",
    "    w1+=adj.T\n",
    "    #bias-=lr*(np.reshape(np.dot(error,x),(13,1)))\n",
    "    return w1"
   ]
  },
  {
   "cell_type": "code",
   "execution_count": 9,
   "id": "c4ef4b50-9813-42b8-bce9-e3daab43321f",
   "metadata": {},
   "outputs": [],
   "source": [
    "pd.set_option(\"display.max_rows\", None,\n",
    "             \"display.max_columns\", None)"
   ]
  },
  {
   "cell_type": "code",
   "execution_count": 10,
   "id": "e1be6d57-4958-47c6-af1c-8b6ce5815313",
   "metadata": {},
   "outputs": [],
   "source": [
    "ds=pd.read_csv(\"/Users/ecemdenizbabaoglan/Desktop/TOBBETU/yap470/boston.csv\")"
   ]
  },
  {
   "cell_type": "code",
   "execution_count": 11,
   "id": "8641aac5-c1c3-4a4c-8c5e-99e58d29410a",
   "metadata": {},
   "outputs": [],
   "source": [
    "target=ds.loc[:,'MEDV'].copy()\n",
    "data=ds.drop('MEDV', axis=1).copy()"
   ]
  },
  {
   "cell_type": "code",
   "execution_count": 12,
   "id": "9c89ab9e-fc40-49f9-a71d-07333eb2c44a",
   "metadata": {},
   "outputs": [],
   "source": [
    "w1=initialize(data)"
   ]
  },
  {
   "cell_type": "code",
   "execution_count": 13,
   "id": "af1d1e6a-bbee-4173-9d96-e0a1bdcbc3a5",
   "metadata": {},
   "outputs": [],
   "source": [
    "scaler=MinMaxScaler()\n",
    "data_normalized=scaler.fit_transform(data)\n",
    "target=target.to_numpy()"
   ]
  },
  {
   "cell_type": "code",
   "execution_count": 14,
   "id": "197a5d19-808b-4941-8685-4ef731e79e02",
   "metadata": {},
   "outputs": [],
   "source": [
    "cutoff = int(len(data) * 0.8)\n",
    "x_train, x_test = data_normalized[:cutoff], data_normalized[cutoff:]\n",
    "y_train, y_test = target[:cutoff], target[cutoff:]"
   ]
  },
  {
   "cell_type": "code",
   "execution_count": 15,
   "id": "a869605c-6dbd-42f9-97d5-62927d749a00",
   "metadata": {},
   "outputs": [],
   "source": [
    "epochs=2000;"
   ]
  },
  {
   "cell_type": "code",
   "execution_count": 16,
   "id": "e654e666-02ac-48c8-8bf0-89b351718dee",
   "metadata": {},
   "outputs": [],
   "source": [
    "lr=0.01"
   ]
  },
  {
   "cell_type": "code",
   "execution_count": 17,
   "id": "c75a7ece-d4ff-4f6c-856a-087aaf47ad5f",
   "metadata": {},
   "outputs": [],
   "source": [
    "output=list()"
   ]
  },
  {
   "cell_type": "code",
   "execution_count": 18,
   "id": "2c855910-63c5-4975-8128-43ac3a7e2f40",
   "metadata": {},
   "outputs": [],
   "source": [
    "for e in range(epochs):\n",
    "    output.clear()\n",
    "    for i in range(len(y_train)):   \n",
    "        output.append(forward_prop(w1,x_train[i]))\n",
    "       # predicted[i]=output[i].sum(axis=0)\n",
    "        w1=back_prop(w1, x_train[i], y_train[i], output[i], lr)\n"
   ]
  },
  {
   "cell_type": "code",
   "execution_count": 19,
   "id": "4f5177ca-103f-4fd3-8151-dff6ebdc4733",
   "metadata": {},
   "outputs": [
    {
     "name": "stdout",
     "output_type": "stream",
     "text": [
      "[[[-4.08115283e+00 -6.48115283e+00  6.61884717e+00 ... -2.08811528e+01\n",
      "   -1.59811528e+01 -1.97811528e+01]]\n",
      "\n",
      " [[-1.55092811e-02 -2.41550928e+00  1.06844907e+01 ... -1.68155093e+01\n",
      "   -1.19155093e+01 -1.57155093e+01]]\n",
      "\n",
      " [[-6.75045866e+00 -9.15045866e+00  3.94954134e+00 ... -2.35504587e+01\n",
      "   -1.86504587e+01 -2.24504587e+01]]\n",
      "\n",
      " ...\n",
      "\n",
      " [[ 5.60239253e+00  3.20239253e+00  1.63023925e+01 ... -1.11976075e+01\n",
      "   -6.29760747e+00 -1.00976075e+01]]\n",
      "\n",
      " [[ 5.39424892e+00  2.99424892e+00  1.60942489e+01 ... -1.14057511e+01\n",
      "   -6.50575108e+00 -1.03057511e+01]]\n",
      "\n",
      " [[ 1.51413476e+01  1.27413476e+01  2.58413476e+01 ... -1.65865244e+00\n",
      "    3.24134756e+00 -5.58652437e-01]]]\n"
     ]
    }
   ],
   "source": [
    "print(y_train-output)"
   ]
  },
  {
   "cell_type": "code",
   "execution_count": null,
   "id": "29b4bebf-e14b-411d-8ba5-ae525dd9cbd1",
   "metadata": {},
   "outputs": [],
   "source": []
  },
  {
   "cell_type": "code",
   "execution_count": null,
   "id": "cf0b0bb3-9a31-4aa1-bf00-acb31016d728",
   "metadata": {},
   "outputs": [],
   "source": []
  },
  {
   "cell_type": "code",
   "execution_count": null,
   "id": "602338c9-5fa1-489f-82ab-6ce9f1eaff32",
   "metadata": {},
   "outputs": [],
   "source": []
  },
  {
   "cell_type": "code",
   "execution_count": null,
   "id": "7336d61e-0bf4-4a46-b815-ba52d85b9713",
   "metadata": {},
   "outputs": [],
   "source": []
  }
 ],
 "metadata": {
  "kernelspec": {
   "display_name": "Python 3 (ipykernel)",
   "language": "python",
   "name": "python3"
  },
  "language_info": {
   "codemirror_mode": {
    "name": "ipython",
    "version": 3
   },
   "file_extension": ".py",
   "mimetype": "text/x-python",
   "name": "python",
   "nbconvert_exporter": "python",
   "pygments_lexer": "ipython3",
   "version": "3.9.12"
  }
 },
 "nbformat": 4,
 "nbformat_minor": 5
}
