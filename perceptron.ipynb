{
 "cells": [
  {
   "cell_type": "code",
   "execution_count": 1,
   "id": "66e50b39-4ad3-4f6b-9e68-d9aadc03999c",
   "metadata": {},
   "outputs": [],
   "source": [
    "#regresyon problemi olduğu için loss function olarak mse or mae kullan"
   ]
  },
  {
   "cell_type": "code",
   "execution_count": 2,
   "id": "88db63fe-708c-4155-9d14-5b1ce2d71f6e",
   "metadata": {},
   "outputs": [],
   "source": [
    "import pandas as pd\n",
    "import numpy as np"
   ]
  },
  {
   "cell_type": "code",
   "execution_count": 3,
   "id": "b9665b3b-0d43-4c36-97e4-98770a806df4",
   "metadata": {},
   "outputs": [],
   "source": [
    "from sklearn.preprocessing import MinMaxScaler"
   ]
  },
  {
   "cell_type": "code",
   "execution_count": 4,
   "id": "20ff3596-b725-4252-986f-f044ef60a80d",
   "metadata": {},
   "outputs": [],
   "source": [
    "def relu(x):\n",
    "    return np.maximum(0,x)"
   ]
  },
  {
   "cell_type": "code",
   "execution_count": 5,
   "id": "d5323bdc-de25-47ab-9e1d-c92d5c5e73cb",
   "metadata": {},
   "outputs": [],
   "source": [
    "def sigmoid(x):\n",
    "    return 1/(1+np.exp(-x))"
   ]
  },
  {
   "cell_type": "code",
   "execution_count": 6,
   "id": "e1c7ee2d-2434-4946-9783-2e6942c5785f",
   "metadata": {},
   "outputs": [],
   "source": [
    "def deriv_sigmoid(x):\n",
    "    return(x*(1-x)) "
   ]
  },
  {
   "cell_type": "code",
   "execution_count": 7,
   "id": "16c60c09-e1ca-4e22-a59e-7b8be40470b5",
   "metadata": {},
   "outputs": [],
   "source": [
    "def get_loss(y_act, y_pred):\n",
    "    error= np.subtract(y_act-y_pred)\n",
    "    sq_error=np.square(error)\n",
    "    mse=np.divide(sq_error, len(y_act))\n",
    "    return mse"
   ]
  },
  {
   "cell_type": "code",
   "execution_count": 8,
   "id": "12ed85b9-e128-4d4d-b545-f2793019c5c4",
   "metadata": {},
   "outputs": [],
   "source": [
    "def initialize(x):\n",
    "    np.random.seed(12345)\n",
    "    w1=2*np.random.random((len(x.columns), 1))-1\n",
    "    bias=2*np.random.random()-1\n",
    "   # w2=2*np.random.random((neurons, 1))-1\n",
    "    return w1, bias"
   ]
  },
  {
   "cell_type": "code",
   "execution_count": 9,
   "id": "0c5ba482-9ad4-4819-bd68-351b7f881049",
   "metadata": {},
   "outputs": [],
   "source": [
    "def forward_prop(w1, bias, x):\n",
    "    x=x.reshape(13,1)\n",
    "    out=relu(np.dot(w1.T,x)+bias)\n",
    "    return out\n",
    "    "
   ]
  },
  {
   "cell_type": "code",
   "execution_count": 10,
   "id": "a916463a-f9ab-4c9a-9cbd-0eb08d4f6519",
   "metadata": {},
   "outputs": [],
   "source": [
    "def back_prop(w1, bias, x, y, outputs, lr, errors, j):\n",
    "    x=x.reshape(13,1)\n",
    "    err=(y-outputs)\n",
    "   # errors+=err**2\n",
    "   # mse=errors/j\n",
    "    adj=lr*(np.dot(err,x.T))\n",
    "    w1+=adj.T\n",
    "    bias+=lr*err\n",
    "    return w1, bias"
   ]
  },
  {
   "cell_type": "code",
   "execution_count": 11,
   "id": "c4ef4b50-9813-42b8-bce9-e3daab43321f",
   "metadata": {},
   "outputs": [],
   "source": [
    "pd.set_option(\"display.max_rows\", None,\n",
    "             \"display.max_columns\", None)"
   ]
  },
  {
   "cell_type": "code",
   "execution_count": 12,
   "id": "e57502b9-9b2f-4765-a634-188fd3ec7f36",
   "metadata": {},
   "outputs": [],
   "source": [
    "columns=(\"CRIM\",\"ZN\", \"INDUS\", \"CHAS\", \"NOX\", \"RM\", \"AGE\", \"DIS\", \"RAD\", \"TAX\", \"PTRATIO\", \"B\", \"LSTAT\", \"MEDV\")"
   ]
  },
  {
   "cell_type": "code",
   "execution_count": 13,
   "id": "e1be6d57-4958-47c6-af1c-8b6ce5815313",
   "metadata": {},
   "outputs": [],
   "source": [
    "ds=pd.read_csv(\"/Users/ecemdenizbabaoglan/Desktop/TOBBETU/yap470/housing.csv\", sep='\\s+', engine='python', names=columns)"
   ]
  },
  {
   "cell_type": "code",
   "execution_count": 14,
   "id": "c41fd988-7c7e-4985-85ff-a7d4f9609112",
   "metadata": {},
   "outputs": [
    {
     "data": {
      "text/html": [
       "<div>\n",
       "<style scoped>\n",
       "    .dataframe tbody tr th:only-of-type {\n",
       "        vertical-align: middle;\n",
       "    }\n",
       "\n",
       "    .dataframe tbody tr th {\n",
       "        vertical-align: top;\n",
       "    }\n",
       "\n",
       "    .dataframe thead th {\n",
       "        text-align: right;\n",
       "    }\n",
       "</style>\n",
       "<table border=\"1\" class=\"dataframe\">\n",
       "  <thead>\n",
       "    <tr style=\"text-align: right;\">\n",
       "      <th></th>\n",
       "      <th>CRIM</th>\n",
       "      <th>ZN</th>\n",
       "      <th>INDUS</th>\n",
       "      <th>CHAS</th>\n",
       "      <th>NOX</th>\n",
       "      <th>RM</th>\n",
       "      <th>AGE</th>\n",
       "      <th>DIS</th>\n",
       "      <th>RAD</th>\n",
       "      <th>TAX</th>\n",
       "      <th>PTRATIO</th>\n",
       "      <th>B</th>\n",
       "      <th>LSTAT</th>\n",
       "      <th>MEDV</th>\n",
       "    </tr>\n",
       "  </thead>\n",
       "  <tbody>\n",
       "    <tr>\n",
       "      <th>0</th>\n",
       "      <td>0.00632</td>\n",
       "      <td>18.0</td>\n",
       "      <td>2.31</td>\n",
       "      <td>0</td>\n",
       "      <td>0.538</td>\n",
       "      <td>6.575</td>\n",
       "      <td>65.2</td>\n",
       "      <td>4.0900</td>\n",
       "      <td>1</td>\n",
       "      <td>296.0</td>\n",
       "      <td>15.3</td>\n",
       "      <td>396.90</td>\n",
       "      <td>4.98</td>\n",
       "      <td>24.0</td>\n",
       "    </tr>\n",
       "    <tr>\n",
       "      <th>1</th>\n",
       "      <td>0.02731</td>\n",
       "      <td>0.0</td>\n",
       "      <td>7.07</td>\n",
       "      <td>0</td>\n",
       "      <td>0.469</td>\n",
       "      <td>6.421</td>\n",
       "      <td>78.9</td>\n",
       "      <td>4.9671</td>\n",
       "      <td>2</td>\n",
       "      <td>242.0</td>\n",
       "      <td>17.8</td>\n",
       "      <td>396.90</td>\n",
       "      <td>9.14</td>\n",
       "      <td>21.6</td>\n",
       "    </tr>\n",
       "    <tr>\n",
       "      <th>2</th>\n",
       "      <td>0.02729</td>\n",
       "      <td>0.0</td>\n",
       "      <td>7.07</td>\n",
       "      <td>0</td>\n",
       "      <td>0.469</td>\n",
       "      <td>7.185</td>\n",
       "      <td>61.1</td>\n",
       "      <td>4.9671</td>\n",
       "      <td>2</td>\n",
       "      <td>242.0</td>\n",
       "      <td>17.8</td>\n",
       "      <td>392.83</td>\n",
       "      <td>4.03</td>\n",
       "      <td>34.7</td>\n",
       "    </tr>\n",
       "    <tr>\n",
       "      <th>3</th>\n",
       "      <td>0.03237</td>\n",
       "      <td>0.0</td>\n",
       "      <td>2.18</td>\n",
       "      <td>0</td>\n",
       "      <td>0.458</td>\n",
       "      <td>6.998</td>\n",
       "      <td>45.8</td>\n",
       "      <td>6.0622</td>\n",
       "      <td>3</td>\n",
       "      <td>222.0</td>\n",
       "      <td>18.7</td>\n",
       "      <td>394.63</td>\n",
       "      <td>2.94</td>\n",
       "      <td>33.4</td>\n",
       "    </tr>\n",
       "    <tr>\n",
       "      <th>4</th>\n",
       "      <td>0.06905</td>\n",
       "      <td>0.0</td>\n",
       "      <td>2.18</td>\n",
       "      <td>0</td>\n",
       "      <td>0.458</td>\n",
       "      <td>7.147</td>\n",
       "      <td>54.2</td>\n",
       "      <td>6.0622</td>\n",
       "      <td>3</td>\n",
       "      <td>222.0</td>\n",
       "      <td>18.7</td>\n",
       "      <td>396.90</td>\n",
       "      <td>5.33</td>\n",
       "      <td>36.2</td>\n",
       "    </tr>\n",
       "  </tbody>\n",
       "</table>\n",
       "</div>"
      ],
      "text/plain": [
       "      CRIM    ZN  INDUS  CHAS    NOX     RM   AGE     DIS  RAD    TAX  \\\n",
       "0  0.00632  18.0   2.31     0  0.538  6.575  65.2  4.0900    1  296.0   \n",
       "1  0.02731   0.0   7.07     0  0.469  6.421  78.9  4.9671    2  242.0   \n",
       "2  0.02729   0.0   7.07     0  0.469  7.185  61.1  4.9671    2  242.0   \n",
       "3  0.03237   0.0   2.18     0  0.458  6.998  45.8  6.0622    3  222.0   \n",
       "4  0.06905   0.0   2.18     0  0.458  7.147  54.2  6.0622    3  222.0   \n",
       "\n",
       "   PTRATIO       B  LSTAT  MEDV  \n",
       "0     15.3  396.90   4.98  24.0  \n",
       "1     17.8  396.90   9.14  21.6  \n",
       "2     17.8  392.83   4.03  34.7  \n",
       "3     18.7  394.63   2.94  33.4  \n",
       "4     18.7  396.90   5.33  36.2  "
      ]
     },
     "execution_count": 14,
     "metadata": {},
     "output_type": "execute_result"
    }
   ],
   "source": [
    "ds.head()"
   ]
  },
  {
   "cell_type": "code",
   "execution_count": 15,
   "id": "8641aac5-c1c3-4a4c-8c5e-99e58d29410a",
   "metadata": {},
   "outputs": [],
   "source": [
    "target=ds.loc[:,'MEDV'].copy()\n",
    "data=ds.drop('MEDV', axis=1).copy()"
   ]
  },
  {
   "cell_type": "code",
   "execution_count": 16,
   "id": "9c89ab9e-fc40-49f9-a71d-07333eb2c44a",
   "metadata": {},
   "outputs": [],
   "source": [
    "w1, bias=initialize(data)"
   ]
  },
  {
   "cell_type": "code",
   "execution_count": 17,
   "id": "af1d1e6a-bbee-4173-9d96-e0a1bdcbc3a5",
   "metadata": {},
   "outputs": [],
   "source": [
    "scaler=MinMaxScaler()\n",
    "data_normalized=scaler.fit_transform(data)\n",
    "target=target.to_numpy()"
   ]
  },
  {
   "cell_type": "code",
   "execution_count": 18,
   "id": "197a5d19-808b-4941-8685-4ef731e79e02",
   "metadata": {},
   "outputs": [],
   "source": [
    "cutoff = int(len(data) * 0.8)\n",
    "x_train, x_test = data_normalized[:cutoff], data_normalized[cutoff:]\n",
    "y_train, y_test = target[:cutoff], target[cutoff:]"
   ]
  },
  {
   "cell_type": "code",
   "execution_count": 19,
   "id": "413117f0-54ae-4eeb-b7ed-b9c91ce3c269",
   "metadata": {},
   "outputs": [],
   "source": [
    "#for best results without bias: Epochs:2000, lr:0.001\n",
    "#for best results with bias: Epochs:2000, lr:0.01"
   ]
  },
  {
   "cell_type": "code",
   "execution_count": 20,
   "id": "a869605c-6dbd-42f9-97d5-62927d749a00",
   "metadata": {},
   "outputs": [],
   "source": [
    "epochs=2000;"
   ]
  },
  {
   "cell_type": "code",
   "execution_count": 21,
   "id": "e654e666-02ac-48c8-8bf0-89b351718dee",
   "metadata": {},
   "outputs": [],
   "source": [
    "lr=0.01"
   ]
  },
  {
   "cell_type": "code",
   "execution_count": 22,
   "id": "c75a7ece-d4ff-4f6c-856a-087aaf47ad5f",
   "metadata": {},
   "outputs": [],
   "source": [
    "output=list()\n",
    "loss=0\n",
    "loss_test=0"
   ]
  },
  {
   "cell_type": "code",
   "execution_count": 23,
   "id": "2c855910-63c5-4975-8128-43ac3a7e2f40",
   "metadata": {},
   "outputs": [],
   "source": [
    "for e in range(epochs):\n",
    "    output.clear()\n",
    "    errors=0\n",
    "    for i in range(len(y_train)):   \n",
    "        output.append(forward_prop(w1, bias, x_train[i]))\n",
    "       # predicted[i]=output[i].sum(axis=0)\n",
    "        w1, bias=back_prop(w1, bias, x_train[i], y_train[i], output[i], lr, errors, i+1)\n"
   ]
  },
  {
   "cell_type": "code",
   "execution_count": 24,
   "id": "4f5177ca-103f-4fd3-8151-dff6ebdc4733",
   "metadata": {},
   "outputs": [],
   "source": [
    "for i in range(len(y_train)):\n",
    "   # print(y_train[i], output[i].sum(axis=0))\n",
    "    loss+=(y_train[i]-(output[i].sum(axis=0)))\n",
    "    "
   ]
  },
  {
   "cell_type": "code",
   "execution_count": 25,
   "id": "e9d76c60-1147-437b-85e4-27de91d88324",
   "metadata": {},
   "outputs": [
    {
     "name": "stdout",
     "output_type": "stream",
     "text": [
      "[-1.65780964e-11]\n"
     ]
    }
   ],
   "source": [
    "print(loss/(len(y_train)))"
   ]
  },
  {
   "cell_type": "code",
   "execution_count": 26,
   "id": "f579f7e2-6f19-457c-9809-8e6802bbd6b1",
   "metadata": {},
   "outputs": [
    {
     "name": "stdout",
     "output_type": "stream",
     "text": [
      "[-0.48630579]\n"
     ]
    }
   ],
   "source": [
    "out_test=list()\n",
    "for i in range(len(y_test)): \n",
    "    out_test.append(forward_prop(w1,bias,x_test[i]))\n",
    "    loss_test+=(y_test[i]-(out_test[i].sum(axis=0)))\n",
    "print(loss_test/(len(y_test)))"
   ]
  },
  {
   "cell_type": "code",
   "execution_count": 27,
   "id": "29b4bebf-e14b-411d-8ba5-ae525dd9cbd1",
   "metadata": {},
   "outputs": [
    {
     "name": "stdout",
     "output_type": "stream",
     "text": [
      "8.5 [[1.32510775]]\n",
      "5.0 [[0.]]\n",
      "11.9 [[3.53077251]]\n",
      "27.9 [[18.93833822]]\n",
      "17.2 [[11.70716956]]\n",
      "27.5 [[19.79037742]]\n",
      "15.0 [[12.63186854]]\n",
      "17.2 [[18.29396115]]\n",
      "17.9 [[0.08968531]]\n",
      "16.3 [[8.58559872]]\n",
      "7.0 [[0.]]\n",
      "7.2 [[10.27671539]]\n",
      "7.5 [[15.50273192]]\n",
      "10.4 [[4.92750148]]\n",
      "8.8 [[0.34120577]]\n",
      "8.4 [[16.81042451]]\n",
      "16.7 [[19.59037235]]\n",
      "14.2 [[18.29767158]]\n",
      "20.8 [[17.5548183]]\n",
      "13.4 [[15.41667119]]\n",
      "11.7 [[16.60823099]]\n",
      "8.3 [[11.23338627]]\n",
      "10.2 [[17.86612867]]\n",
      "10.9 [[13.45493476]]\n",
      "11.0 [[16.03060457]]\n",
      "9.5 [[14.94136912]]\n",
      "14.5 [[19.81364414]]\n",
      "14.1 [[20.3233305]]\n",
      "16.1 [[23.8334858]]\n",
      "14.3 [[20.04592313]]\n",
      "11.7 [[17.88136932]]\n",
      "13.4 [[15.17531381]]\n",
      "9.6 [[17.164672]]\n",
      "8.7 [[10.6083478]]\n",
      "8.4 [[5.25543765]]\n",
      "12.8 [[11.32373406]]\n",
      "10.5 [[9.5871708]]\n",
      "17.1 [[16.49666315]]\n",
      "18.4 [[18.52179166]]\n",
      "15.4 [[17.32138954]]\n",
      "10.8 [[11.13074462]]\n",
      "11.8 [[14.37485469]]\n",
      "14.9 [[18.19033602]]\n",
      "12.6 [[17.50894955]]\n",
      "14.1 [[16.53187583]]\n",
      "13.0 [[17.48539926]]\n",
      "13.4 [[20.58256057]]\n",
      "15.2 [[19.71840109]]\n",
      "16.1 [[18.40505805]]\n",
      "17.8 [[22.77092617]]\n",
      "14.9 [[18.83971741]]\n",
      "14.1 [[19.37973122]]\n",
      "12.7 [[16.34563814]]\n",
      "13.5 [[16.34099465]]\n",
      "14.9 [[18.07487312]]\n",
      "20.0 [[18.15989098]]\n",
      "16.4 [[20.70023685]]\n",
      "17.7 [[20.43608194]]\n",
      "19.5 [[19.64185999]]\n",
      "20.2 [[22.96323413]]\n",
      "21.4 [[19.60134787]]\n",
      "19.9 [[18.02767731]]\n",
      "19.0 [[17.84694752]]\n",
      "19.1 [[16.06323266]]\n",
      "19.1 [[14.44999308]]\n",
      "20.1 [[16.14721896]]\n",
      "19.9 [[19.19845832]]\n",
      "19.6 [[22.15111071]]\n",
      "23.2 [[21.87001661]]\n",
      "29.8 [[25.71352997]]\n",
      "13.8 [[14.74193851]]\n",
      "13.3 [[15.03595642]]\n",
      "16.7 [[19.54653687]]\n",
      "12.0 [[8.44534747]]\n",
      "14.6 [[17.57345754]]\n",
      "21.4 [[20.035493]]\n",
      "23.0 [[22.54115306]]\n",
      "23.7 [[26.84321322]]\n",
      "25.0 [[28.57443946]]\n",
      "21.8 [[20.3847372]]\n",
      "20.6 [[19.09691065]]\n",
      "21.2 [[22.16100812]]\n",
      "19.1 [[18.79993419]]\n",
      "20.6 [[20.55805929]]\n",
      "15.2 [[11.49414009]]\n",
      "7.0 [[7.85115648]]\n",
      "8.1 [[2.8607643]]\n",
      "13.6 [[13.81816517]]\n",
      "20.1 [[16.33734773]]\n",
      "21.8 [[19.86743338]]\n",
      "24.5 [[19.74947548]]\n",
      "23.1 [[15.58625958]]\n",
      "19.7 [[12.43346269]]\n",
      "18.3 [[18.44462374]]\n",
      "21.2 [[20.70507224]]\n",
      "17.5 [[17.46082514]]\n",
      "16.8 [[19.86429984]]\n",
      "22.4 [[24.52649542]]\n",
      "20.6 [[23.08564822]]\n",
      "23.9 [[29.21300584]]\n",
      "22.0 [[27.61441199]]\n",
      "11.9 [[23.20360123]]\n"
     ]
    }
   ],
   "source": [
    "for i in range(len(y_test)):\n",
    "    print(y_test[i], out_test[i])"
   ]
  },
  {
   "cell_type": "code",
   "execution_count": 28,
   "id": "cf0b0bb3-9a31-4aa1-bf00-acb31016d728",
   "metadata": {},
   "outputs": [],
   "source": [
    "#print(output)"
   ]
  },
  {
   "cell_type": "code",
   "execution_count": null,
   "id": "602338c9-5fa1-489f-82ab-6ce9f1eaff32",
   "metadata": {},
   "outputs": [],
   "source": []
  },
  {
   "cell_type": "code",
   "execution_count": null,
   "id": "7336d61e-0bf4-4a46-b815-ba52d85b9713",
   "metadata": {},
   "outputs": [],
   "source": []
  }
 ],
 "metadata": {
  "kernelspec": {
   "display_name": "Python 3 (ipykernel)",
   "language": "python",
   "name": "python3"
  },
  "language_info": {
   "codemirror_mode": {
    "name": "ipython",
    "version": 3
   },
   "file_extension": ".py",
   "mimetype": "text/x-python",
   "name": "python",
   "nbconvert_exporter": "python",
   "pygments_lexer": "ipython3",
   "version": "3.9.12"
  }
 },
 "nbformat": 4,
 "nbformat_minor": 5
}
